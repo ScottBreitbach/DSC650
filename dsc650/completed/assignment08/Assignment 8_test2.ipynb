{
 "cells": [
  {
   "cell_type": "code",
   "execution_count": 2,
   "metadata": {},
   "outputs": [],
   "source": [
    "# from pathlib import Path\n",
    "# import os\n",
    "import pyarrow.parquet as pq\n",
    "\n",
    "from collections import namedtuple\n"
   ]
  },
  {
   "cell_type": "code",
   "execution_count": 1,
   "metadata": {},
   "outputs": [],
   "source": [
    "# Set directories\n",
    "# current_dir = Path(os.getcwd()).absolute()\n",
    "# results_dir = current_dir.joinpath('results')\n",
    "# if results_dir.exists():\n",
    "#     shutil.rmtree(results_dir)\n",
    "# results_dir.mkdir(parents=True, exist_ok=True)\n",
    "src_data_path = '/home/jovyan/dsc650/data/processed/bdd/'\n",
    "# acc_data_path = '/home/jovyan/dsc650/data/processed/bdd/accelerations/'\n",
    "# loc_data_path = '/home/jovyan/dsc650/data/processed/bdd/locations/'"
   ]
  },
  {
   "cell_type": "code",
   "execution_count": 3,
   "metadata": {},
   "outputs": [],
   "source": [
    "# accel_df = pq.ParquetDataset(\n",
    "#     Path(acc_data_path)).read_pandas().to_pandas()"
   ]
  },
  {
   "cell_type": "code",
   "execution_count": 4,
   "metadata": {},
   "outputs": [],
   "source": [
    "# test_df = pq.ParquetDataset(src_data_path + 'accelerations/').read_pandas().to_pandas()"
   ]
  },
  {
   "cell_type": "markdown",
   "metadata": {},
   "source": [
    "### accelerations"
   ]
  },
  {
   "cell_type": "code",
   "execution_count": 3,
   "metadata": {},
   "outputs": [],
   "source": [
    "accel_df = pq.ParquetDataset(\n",
    "    src_data_path + 'accelerations/').read_pandas().to_pandas()"
   ]
  },
  {
   "cell_type": "code",
   "execution_count": 4,
   "metadata": {},
   "outputs": [
    {
     "data": {
      "text/plain": [
       "(23512, 11)"
      ]
     },
     "execution_count": 4,
     "metadata": {},
     "output_type": "execute_result"
    }
   ],
   "source": [
    "accel_df.shape"
   ]
  },
  {
   "cell_type": "code",
   "execution_count": 5,
   "metadata": {},
   "outputs": [
    {
     "data": {
      "text/plain": [
       "Index(['id', 'ride_id', 'uuid', 'timestamp', 'offset', 'x', 'y', 'z',\n",
       "       'timelapse', 'filename', 't'],\n",
       "      dtype='object')"
      ]
     },
     "execution_count": 5,
     "metadata": {},
     "output_type": "execute_result"
    }
   ],
   "source": [
    "accel_df.columns"
   ]
  },
  {
   "cell_type": "code",
   "execution_count": 6,
   "metadata": {},
   "outputs": [],
   "source": [
    "accel_cols = [\n",
    "    'offset',\n",
    "    'id',\n",
    "    'ride_id',\n",
    "    'uuid',\n",
    "    'x',\n",
    "    'y',\n",
    "    'z',\n",
    "#     't'\n",
    "]"
   ]
  },
  {
   "cell_type": "code",
   "execution_count": 7,
   "metadata": {},
   "outputs": [],
   "source": [
    "Accelerations = namedtuple('Accelerations', accel_cols)"
   ]
  },
  {
   "cell_type": "code",
   "execution_count": 8,
   "metadata": {},
   "outputs": [
    {
     "data": {
      "text/plain": [
       "__main__.Accelerations"
      ]
     },
     "execution_count": 8,
     "metadata": {},
     "output_type": "execute_result"
    }
   ],
   "source": [
    "Accelerations"
   ]
  },
  {
   "cell_type": "code",
   "execution_count": 9,
   "metadata": {},
   "outputs": [
    {
     "data": {
      "text/plain": [
       "True"
      ]
     },
     "execution_count": 9,
     "metadata": {},
     "output_type": "execute_result"
    }
   ],
   "source": [
    "issubclass(Accelerations, tuple)"
   ]
  },
  {
   "cell_type": "code",
   "execution_count": 10,
   "metadata": {},
   "outputs": [],
   "source": [
    "test = Accelerations(1, 2, 3, 4, 5, 6, 7)"
   ]
  },
  {
   "cell_type": "code",
   "execution_count": 11,
   "metadata": {},
   "outputs": [
    {
     "data": {
      "text/plain": [
       "Accelerations(offset=1, id=2, ride_id=3, uuid=4, x=5, y=6, z=7)"
      ]
     },
     "execution_count": 11,
     "metadata": {},
     "output_type": "execute_result"
    }
   ],
   "source": [
    "test"
   ]
  },
  {
   "cell_type": "code",
   "execution_count": 12,
   "metadata": {},
   "outputs": [
    {
     "data": {
      "text/plain": [
       "1"
      ]
     },
     "execution_count": 12,
     "metadata": {},
     "output_type": "execute_result"
    }
   ],
   "source": [
    "test[0]"
   ]
  },
  {
   "cell_type": "code",
   "execution_count": 13,
   "metadata": {},
   "outputs": [
    {
     "data": {
      "text/plain": [
       "1"
      ]
     },
     "execution_count": 13,
     "metadata": {},
     "output_type": "execute_result"
    }
   ],
   "source": [
    "test.offset"
   ]
  },
  {
   "cell_type": "code",
   "execution_count": 14,
   "metadata": {},
   "outputs": [
    {
     "data": {
      "text/plain": [
       "94386918747392"
      ]
     },
     "execution_count": 14,
     "metadata": {},
     "output_type": "execute_result"
    }
   ],
   "source": [
    "id(test.offset)"
   ]
  },
  {
   "cell_type": "code",
   "execution_count": 15,
   "metadata": {
    "scrolled": true
   },
   "outputs": [
    {
     "data": {
      "text/html": [
       "<div>\n",
       "<style scoped>\n",
       "    .dataframe tbody tr th:only-of-type {\n",
       "        vertical-align: middle;\n",
       "    }\n",
       "\n",
       "    .dataframe tbody tr th {\n",
       "        vertical-align: top;\n",
       "    }\n",
       "\n",
       "    .dataframe thead th {\n",
       "        text-align: right;\n",
       "    }\n",
       "</style>\n",
       "<table border=\"1\" class=\"dataframe\">\n",
       "  <thead>\n",
       "    <tr style=\"text-align: right;\">\n",
       "      <th></th>\n",
       "      <th>offset</th>\n",
       "      <th>id</th>\n",
       "      <th>ride_id</th>\n",
       "      <th>uuid</th>\n",
       "      <th>x</th>\n",
       "      <th>y</th>\n",
       "      <th>z</th>\n",
       "    </tr>\n",
       "  </thead>\n",
       "  <tbody>\n",
       "    <tr>\n",
       "      <th>0</th>\n",
       "      <td>0.822061</td>\n",
       "      <td>58682c5d48cad9d9e103431d773615bf</td>\n",
       "      <td>c9a2b46c9aa515b632eddc45c4868482</td>\n",
       "      <td>19b9aa10588646b3bf22c9b4865a7995</td>\n",
       "      <td>-0.994</td>\n",
       "      <td>0.045</td>\n",
       "      <td>-0.036</td>\n",
       "    </tr>\n",
       "    <tr>\n",
       "      <th>1</th>\n",
       "      <td>0.842061</td>\n",
       "      <td>58682c5d48cad9d9e103431d773615bf</td>\n",
       "      <td>c9a2b46c9aa515b632eddc45c4868482</td>\n",
       "      <td>19b9aa10588646b3bf22c9b4865a7995</td>\n",
       "      <td>-0.998</td>\n",
       "      <td>0.046</td>\n",
       "      <td>-0.040</td>\n",
       "    </tr>\n",
       "    <tr>\n",
       "      <th>2</th>\n",
       "      <td>0.862061</td>\n",
       "      <td>58682c5d48cad9d9e103431d773615bf</td>\n",
       "      <td>c9a2b46c9aa515b632eddc45c4868482</td>\n",
       "      <td>19b9aa10588646b3bf22c9b4865a7995</td>\n",
       "      <td>-0.999</td>\n",
       "      <td>0.047</td>\n",
       "      <td>-0.036</td>\n",
       "    </tr>\n",
       "    <tr>\n",
       "      <th>3</th>\n",
       "      <td>0.882061</td>\n",
       "      <td>58682c5d48cad9d9e103431d773615bf</td>\n",
       "      <td>c9a2b46c9aa515b632eddc45c4868482</td>\n",
       "      <td>19b9aa10588646b3bf22c9b4865a7995</td>\n",
       "      <td>-0.999</td>\n",
       "      <td>0.045</td>\n",
       "      <td>-0.034</td>\n",
       "    </tr>\n",
       "    <tr>\n",
       "      <th>4</th>\n",
       "      <td>0.902061</td>\n",
       "      <td>58682c5d48cad9d9e103431d773615bf</td>\n",
       "      <td>c9a2b46c9aa515b632eddc45c4868482</td>\n",
       "      <td>19b9aa10588646b3bf22c9b4865a7995</td>\n",
       "      <td>-0.999</td>\n",
       "      <td>0.048</td>\n",
       "      <td>-0.033</td>\n",
       "    </tr>\n",
       "    <tr>\n",
       "      <th>...</th>\n",
       "      <td>...</td>\n",
       "      <td>...</td>\n",
       "      <td>...</td>\n",
       "      <td>...</td>\n",
       "      <td>...</td>\n",
       "      <td>...</td>\n",
       "      <td>...</td>\n",
       "    </tr>\n",
       "    <tr>\n",
       "      <th>23507</th>\n",
       "      <td>122.374927</td>\n",
       "      <td>064184d44429da1967d8b2873d6c5053</td>\n",
       "      <td>6974a887428b102c9564dbcc41b52df0</td>\n",
       "      <td>f57cdc42893d4cbc8b139c1e1650482f</td>\n",
       "      <td>-1.000</td>\n",
       "      <td>-0.057</td>\n",
       "      <td>-0.073</td>\n",
       "    </tr>\n",
       "    <tr>\n",
       "      <th>23508</th>\n",
       "      <td>122.394927</td>\n",
       "      <td>064184d44429da1967d8b2873d6c5053</td>\n",
       "      <td>6974a887428b102c9564dbcc41b52df0</td>\n",
       "      <td>f57cdc42893d4cbc8b139c1e1650482f</td>\n",
       "      <td>-0.978</td>\n",
       "      <td>-0.037</td>\n",
       "      <td>-0.084</td>\n",
       "    </tr>\n",
       "    <tr>\n",
       "      <th>23509</th>\n",
       "      <td>122.414927</td>\n",
       "      <td>064184d44429da1967d8b2873d6c5053</td>\n",
       "      <td>6974a887428b102c9564dbcc41b52df0</td>\n",
       "      <td>f57cdc42893d4cbc8b139c1e1650482f</td>\n",
       "      <td>-1.002</td>\n",
       "      <td>-0.056</td>\n",
       "      <td>-0.009</td>\n",
       "    </tr>\n",
       "    <tr>\n",
       "      <th>23510</th>\n",
       "      <td>122.434927</td>\n",
       "      <td>064184d44429da1967d8b2873d6c5053</td>\n",
       "      <td>6974a887428b102c9564dbcc41b52df0</td>\n",
       "      <td>f57cdc42893d4cbc8b139c1e1650482f</td>\n",
       "      <td>-0.993</td>\n",
       "      <td>-0.040</td>\n",
       "      <td>-0.051</td>\n",
       "    </tr>\n",
       "    <tr>\n",
       "      <th>23511</th>\n",
       "      <td>122.453927</td>\n",
       "      <td>064184d44429da1967d8b2873d6c5053</td>\n",
       "      <td>6974a887428b102c9564dbcc41b52df0</td>\n",
       "      <td>f57cdc42893d4cbc8b139c1e1650482f</td>\n",
       "      <td>-0.980</td>\n",
       "      <td>-0.046</td>\n",
       "      <td>-0.049</td>\n",
       "    </tr>\n",
       "  </tbody>\n",
       "</table>\n",
       "<p>23512 rows × 7 columns</p>\n",
       "</div>"
      ],
      "text/plain": [
       "           offset                                id  \\\n",
       "0        0.822061  58682c5d48cad9d9e103431d773615bf   \n",
       "1        0.842061  58682c5d48cad9d9e103431d773615bf   \n",
       "2        0.862061  58682c5d48cad9d9e103431d773615bf   \n",
       "3        0.882061  58682c5d48cad9d9e103431d773615bf   \n",
       "4        0.902061  58682c5d48cad9d9e103431d773615bf   \n",
       "...           ...                               ...   \n",
       "23507  122.374927  064184d44429da1967d8b2873d6c5053   \n",
       "23508  122.394927  064184d44429da1967d8b2873d6c5053   \n",
       "23509  122.414927  064184d44429da1967d8b2873d6c5053   \n",
       "23510  122.434927  064184d44429da1967d8b2873d6c5053   \n",
       "23511  122.453927  064184d44429da1967d8b2873d6c5053   \n",
       "\n",
       "                                ride_id                              uuid  \\\n",
       "0      c9a2b46c9aa515b632eddc45c4868482  19b9aa10588646b3bf22c9b4865a7995   \n",
       "1      c9a2b46c9aa515b632eddc45c4868482  19b9aa10588646b3bf22c9b4865a7995   \n",
       "2      c9a2b46c9aa515b632eddc45c4868482  19b9aa10588646b3bf22c9b4865a7995   \n",
       "3      c9a2b46c9aa515b632eddc45c4868482  19b9aa10588646b3bf22c9b4865a7995   \n",
       "4      c9a2b46c9aa515b632eddc45c4868482  19b9aa10588646b3bf22c9b4865a7995   \n",
       "...                                 ...                               ...   \n",
       "23507  6974a887428b102c9564dbcc41b52df0  f57cdc42893d4cbc8b139c1e1650482f   \n",
       "23508  6974a887428b102c9564dbcc41b52df0  f57cdc42893d4cbc8b139c1e1650482f   \n",
       "23509  6974a887428b102c9564dbcc41b52df0  f57cdc42893d4cbc8b139c1e1650482f   \n",
       "23510  6974a887428b102c9564dbcc41b52df0  f57cdc42893d4cbc8b139c1e1650482f   \n",
       "23511  6974a887428b102c9564dbcc41b52df0  f57cdc42893d4cbc8b139c1e1650482f   \n",
       "\n",
       "           x      y      z  \n",
       "0     -0.994  0.045 -0.036  \n",
       "1     -0.998  0.046 -0.040  \n",
       "2     -0.999  0.047 -0.036  \n",
       "3     -0.999  0.045 -0.034  \n",
       "4     -0.999  0.048 -0.033  \n",
       "...      ...    ...    ...  \n",
       "23507 -1.000 -0.057 -0.073  \n",
       "23508 -0.978 -0.037 -0.084  \n",
       "23509 -1.002 -0.056 -0.009  \n",
       "23510 -0.993 -0.040 -0.051  \n",
       "23511 -0.980 -0.046 -0.049  \n",
       "\n",
       "[23512 rows x 7 columns]"
      ]
     },
     "execution_count": 15,
     "metadata": {},
     "output_type": "execute_result"
    }
   ],
   "source": [
    "accel_df[accel_cols]"
   ]
  },
  {
   "cell_type": "code",
   "execution_count": 16,
   "metadata": {},
   "outputs": [],
   "source": [
    "accel_df = accel_df[accel_cols].sort_values(by=['offset'])"
   ]
  },
  {
   "cell_type": "code",
   "execution_count": 17,
   "metadata": {},
   "outputs": [],
   "source": [
    "records = [Accelerations(*record) for record in accel_df.to_records(index=False)]"
   ]
  },
  {
   "cell_type": "code",
   "execution_count": 18,
   "metadata": {},
   "outputs": [
    {
     "data": {
      "text/plain": [
       "Accelerations(offset=0.8220608865228429, id='58682c5d48cad9d9e103431d773615bf', ride_id='c9a2b46c9aa515b632eddc45c4868482', uuid='19b9aa10588646b3bf22c9b4865a7995', x=-0.994, y=0.045, z=-0.036000000000000004)"
      ]
     },
     "execution_count": 18,
     "metadata": {},
     "output_type": "execute_result"
    }
   ],
   "source": [
    "records[0]"
   ]
  },
  {
   "cell_type": "code",
   "execution_count": 22,
   "metadata": {},
   "outputs": [
    {
     "data": {
      "text/plain": [
       "0.8220608865228429"
      ]
     },
     "execution_count": 22,
     "metadata": {},
     "output_type": "execute_result"
    }
   ],
   "source": [
    "records[0].offset"
   ]
  },
  {
   "cell_type": "code",
   "execution_count": null,
   "metadata": {},
   "outputs": [],
   "source": []
  },
  {
   "cell_type": "code",
   "execution_count": null,
   "metadata": {},
   "outputs": [],
   "source": []
  },
  {
   "cell_type": "code",
   "execution_count": null,
   "metadata": {},
   "outputs": [],
   "source": []
  },
  {
   "cell_type": "code",
   "execution_count": null,
   "metadata": {},
   "outputs": [],
   "source": []
  },
  {
   "cell_type": "code",
   "execution_count": null,
   "metadata": {},
   "outputs": [],
   "source": []
  },
  {
   "cell_type": "markdown",
   "metadata": {},
   "source": [
    "### locations"
   ]
  },
  {
   "cell_type": "code",
   "execution_count": null,
   "metadata": {},
   "outputs": [],
   "source": [
    "locat_df = pq.ParquetDataset(\n",
    "    src_data_path + 'locations/').read_pandas().to_pandas()"
   ]
  },
  {
   "cell_type": "code",
   "execution_count": null,
   "metadata": {},
   "outputs": [],
   "source": [
    "locat_df.shape"
   ]
  },
  {
   "cell_type": "code",
   "execution_count": null,
   "metadata": {},
   "outputs": [],
   "source": [
    "locat_df.columns"
   ]
  },
  {
   "cell_type": "code",
   "execution_count": null,
   "metadata": {},
   "outputs": [],
   "source": []
  }
 ],
 "metadata": {
  "kernelspec": {
   "display_name": "Python 3",
   "language": "python",
   "name": "python3"
  },
  "language_info": {
   "codemirror_mode": {
    "name": "ipython",
    "version": 3
   },
   "file_extension": ".py",
   "mimetype": "text/x-python",
   "name": "python",
   "nbconvert_exporter": "python",
   "pygments_lexer": "ipython3",
   "version": "3.8.3"
  }
 },
 "nbformat": 4,
 "nbformat_minor": 4
}
