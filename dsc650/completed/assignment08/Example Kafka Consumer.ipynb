{
 "cells": [
  {
   "cell_type": "code",
   "execution_count": 1,
   "metadata": {
    "scrolled": false
   },
   "outputs": [],
   "source": [
    "import json\n",
    "\n",
    "from kafka import KafkaConsumer"
   ]
  },
  {
   "cell_type": "markdown",
   "metadata": {},
   "source": [
    "### Configuration Parameters \n",
    "\n",
    "> **TODO:** Change the configuration prameters to the appropriate values for your setup."
   ]
  },
  {
   "cell_type": "code",
   "execution_count": 2,
   "metadata": {},
   "outputs": [
    {
     "data": {
      "text/plain": [
       "{'bootstrap_servers': ['kafka.kafka.svc.cluster.local:9092'],\n",
       " 'first_name': 'Scott',\n",
       " 'last_name': 'Breitbach',\n",
       " 'client_id': 'BreitbachScott',\n",
       " 'topic_prefix': 'BreitbachScott'}"
      ]
     },
     "execution_count": 2,
     "metadata": {},
     "output_type": "execute_result"
    }
   ],
   "source": [
    "config = dict(\n",
    "    bootstrap_servers=['kafka.kafka.svc.cluster.local:9092'],\n",
    "    first_name='Scott',\n",
    "    last_name='Breitbach'\n",
    ")\n",
    "\n",
    "config['client_id'] = '{}{}'.format(\n",
    "    config['last_name'], \n",
    "    config['first_name']\n",
    ")\n",
    "config['topic_prefix'] = '{}{}'.format(\n",
    "    config['last_name'], \n",
    "    config['first_name']\n",
    ")\n",
    "\n",
    "config"
   ]
  },
  {
   "cell_type": "markdown",
   "metadata": {},
   "source": [
    "Create a consumer without subscribing to any particular topic"
   ]
  },
  {
   "cell_type": "code",
   "execution_count": 3,
   "metadata": {},
   "outputs": [],
   "source": [
    "general_consumer = KafkaConsumer(\n",
    "    bootstrap_servers=config['bootstrap_servers']\n",
    ")"
   ]
  },
  {
   "cell_type": "markdown",
   "metadata": {},
   "source": [
    "List all topics you are currently allowed to view"
   ]
  },
  {
   "cell_type": "code",
   "execution_count": 4,
   "metadata": {},
   "outputs": [
    {
     "data": {
      "text/plain": [
       "{'AddagadaDeepthi-acceleration',\n",
       " 'AddagadaDeepthi-accelerations',\n",
       " 'AddagadaDeepthi-joined',\n",
       " 'AddagadaDeepthi-locations',\n",
       " 'AddagadaDeepthi-simple',\n",
       " 'AddagadaDeepthi-windowed',\n",
       " 'Adminition-accelerations',\n",
       " 'Adminition-locations',\n",
       " 'AyachitMadhukar-accelerations',\n",
       " 'AyachitMadhukar-locations',\n",
       " 'BreitbachScott-accelerations',\n",
       " 'BreitbachScott-locations',\n",
       " 'CaseyDustin-accelerations',\n",
       " 'CaseyDustin-joined',\n",
       " 'CaseyDustin-locations',\n",
       " 'CaseyDustin-simple',\n",
       " 'CaseyDustin-windowed',\n",
       " 'ChougulePushkar-accelerations',\n",
       " 'ChougulePushkar-joined',\n",
       " 'ChougulePushkar-locations',\n",
       " 'ChougulePushkar-simple',\n",
       " 'ChougulePushkar-windowed',\n",
       " 'DickeyEric-accelerations',\n",
       " 'DickeyEric-locations',\n",
       " 'DoeJohn-accelerations',\n",
       " 'DoeJohn-joined',\n",
       " 'DoeJohn-locations',\n",
       " 'DoeJohn-simple',\n",
       " 'DoeJohn-windowed',\n",
       " 'DoecJohn-windowed',\n",
       " 'DossehKouevi-accelerations',\n",
       " 'DossehKouevi-locations',\n",
       " 'EarlElizabeth-accelarations',\n",
       " 'EarlElizabeth-acceleration',\n",
       " 'EarlElizabeth-accelerations',\n",
       " 'EarlElizabeth-locations',\n",
       " 'EssohGeorges-accelerations',\n",
       " 'EssohGeorges-joined',\n",
       " 'EssohGeorges-locations',\n",
       " 'EssohGeorges-simple',\n",
       " 'EssohGeorges-windowed',\n",
       " 'GonzalezKimberly-accelerations',\n",
       " 'GonzalezKimberly-joined',\n",
       " 'GonzalezKimberly-locations',\n",
       " 'GonzalezKimberly-simple',\n",
       " 'GonzalezKimberly-windowed',\n",
       " 'HarsimarMangat-accelerations',\n",
       " 'HarsimarMangat-locations',\n",
       " 'HoffmannLaura-accelerations',\n",
       " 'HoffmannLaura-joined',\n",
       " 'HoffmannLaura-locations',\n",
       " 'HoffmannLaura-simple',\n",
       " 'HoffmannLaura-windowed',\n",
       " 'KaakatyRoni-accelerations',\n",
       " 'KaakatyRoni-joined',\n",
       " 'KaakatyRoni-locations',\n",
       " 'KaakatyRoni-simple',\n",
       " 'KaakatyRoni-windowed',\n",
       " 'KalaikkovanVasanthakumar-accelerations',\n",
       " 'KalaikkovanVasanthakumar-joined',\n",
       " 'KalaikkovanVasanthakumar-locations',\n",
       " 'KalaikkovanVasanthakumar-simple',\n",
       " 'KalaikkovanVasanthakumar-windowed',\n",
       " 'KaleGanesh-None',\n",
       " 'KaleGanesh-accelerations',\n",
       " 'KaleGanesh-locations',\n",
       " 'KanaparthiVenkata-accelerations',\n",
       " 'KanaparthiVenkata-joined',\n",
       " 'KanaparthiVenkata-locations',\n",
       " 'KanaparthiVenkata-simple',\n",
       " 'KanaparthiVenkata-windowed',\n",
       " 'KarlovicPatrik-accelerations',\n",
       " 'KarlovicPatrik-joined',\n",
       " 'KarlovicPatrik-locations',\n",
       " 'KarlovicPatrik-simple',\n",
       " 'KarlovicPatrik-windowed',\n",
       " 'KingRamsey-accelerations',\n",
       " 'KingRamsey-joined',\n",
       " 'KingRamsey-locations',\n",
       " 'KingRamsey-simple',\n",
       " 'KingRamsey-windowed',\n",
       " 'KohnAaron-accelerations',\n",
       " 'KohnAaron-joined',\n",
       " 'KohnAaron-locations',\n",
       " 'KohnAaron-simple',\n",
       " 'KohnAaron-windowed',\n",
       " 'KohnAaron1-accelerations',\n",
       " 'KohnAaron1-joined',\n",
       " 'KohnAaron1-locations',\n",
       " 'KohnAaron1-simple',\n",
       " 'KohnAaron1-windowed',\n",
       " 'KolekarShilpa-accelerations',\n",
       " 'KolekarShilpa-joined',\n",
       " 'KolekarShilpa-locations',\n",
       " 'KolekarShilpa-simple',\n",
       " 'KolekarShilpa-windowed',\n",
       " 'KudaimiBilal-joined',\n",
       " 'KudaimiBilal-simple',\n",
       " 'KudaimiBilal-windowed',\n",
       " 'KuetheAaron-accelerations',\n",
       " 'KuetheAaron-joined',\n",
       " 'KuetheAaron-locations',\n",
       " 'KuetheAaron-simple',\n",
       " 'KuetheAaron-windowed',\n",
       " 'Last_Name_testFirst_Name_test-locations',\n",
       " 'LongRyan-accelerations',\n",
       " 'LongRyan-locations',\n",
       " 'MandalAbhijit-accelerations',\n",
       " 'MandalAbhijit-joined',\n",
       " 'MandalAbhijit-locations',\n",
       " 'MandalAbhijit-simple',\n",
       " 'MandalAbhijit-windowed',\n",
       " 'MangatHarsimar-accelerations',\n",
       " 'MangatHarsimar-locations',\n",
       " 'MangatHarsimar-locations-locations',\n",
       " 'MohammedShabuddinRamizuddin-accelerations',\n",
       " 'MohammedShabuddinRamizuddin-joined',\n",
       " 'MohammedShabuddinRamizuddin-locations',\n",
       " 'MohammedShabuddinRamizuddin-simple',\n",
       " 'MohammedShabuddinRamizuddin-windowed',\n",
       " 'MuleyTushar-accelerations',\n",
       " 'MuleyTushar-accelrations',\n",
       " 'MuleyTushar-joined',\n",
       " 'MuleyTushar-locations',\n",
       " 'MuleyTushar-simple',\n",
       " 'MuleyTushar-windowed',\n",
       " 'MuthusamyGaneshkumar-accelerations',\n",
       " 'MuthusamyGaneshkumar-joined',\n",
       " 'MuthusamyGaneshkumar-locations',\n",
       " 'MuthusamyGaneshkumar-simple',\n",
       " 'MuthusamyGaneshkumar-windowed',\n",
       " 'NagarajVinay-accelerations',\n",
       " 'NagarajVinay-locations',\n",
       " 'NelsonRachel-accelerations',\n",
       " 'NelsonRachel-joined',\n",
       " 'NelsonRachel-locations',\n",
       " 'NelsonRachel-simple',\n",
       " 'NelsonRachel-windowed',\n",
       " 'OmprakashSantosh-accelerations',\n",
       " 'OmprakashSantosh-locations',\n",
       " 'PalomoCarlos-accelerations',\n",
       " 'PalomoCarlos-locations',\n",
       " 'PalomoCarlos-simple',\n",
       " 'PatrikKarlovic-joined',\n",
       " 'PatrikKarlovic-simple',\n",
       " 'PatrikKarlovic-windowed',\n",
       " 'PickCameron-accelerations',\n",
       " 'PickCameron-locations',\n",
       " 'RaghuwanshiPrashant-accelerations',\n",
       " 'RaghuwanshiPrashant-locations',\n",
       " 'ReynaArnold-accelerations',\n",
       " 'ReynaArnold-joined',\n",
       " 'ReynaArnold-locations',\n",
       " 'ReynaArnold-simple',\n",
       " 'ReynaArnold-windowed',\n",
       " 'RickordJake-accelerations',\n",
       " 'RickordJake-joined',\n",
       " 'RickordJake-locations',\n",
       " 'RickordJake-simple',\n",
       " 'RickordJake-windowed',\n",
       " 'RileyMarc-accelerations',\n",
       " 'RileyMarc-locations',\n",
       " 'SamantaArindam-accelerations',\n",
       " 'SamantaArindam-joined',\n",
       " 'SamantaArindam-locations',\n",
       " 'SamantaArindam-simple',\n",
       " 'SamantaArindam-windowed',\n",
       " 'SelvarajDavid-SelvarajDavid',\n",
       " 'SelvarajDavid-accelerations',\n",
       " 'SelvarajDavid-joined',\n",
       " 'SelvarajDavid-locations',\n",
       " 'SelvarajDavid-simple',\n",
       " 'SelvarajDavid-windowed',\n",
       " 'ShresthaSaurabh-accelerations',\n",
       " 'ShresthaSaurabh-joined',\n",
       " 'ShresthaSaurabh-locations',\n",
       " 'ShresthaSaurabh-simple',\n",
       " 'ShresthaSaurabh-windowed',\n",
       " 'SmithNick-accelerations',\n",
       " 'SmithNick-joined',\n",
       " 'SmithNick-locations',\n",
       " 'SmithNick-simple',\n",
       " 'SmithNick-windowed',\n",
       " 'StoneburnerKurt-accelerations',\n",
       " 'StoneburnerKurt-joined',\n",
       " 'StoneburnerKurt-locations',\n",
       " 'StoneburnerKurt-simple',\n",
       " 'StoneburnerKurt-windowed',\n",
       " 'SumbarajuAditya-accelerations',\n",
       " 'SumbarajuAditya-locations',\n",
       " 'TaylorDominick-accelerations',\n",
       " 'TaylorDominick-joined',\n",
       " 'TaylorDominick-locations',\n",
       " 'TaylorDominick-simple',\n",
       " 'TaylorDominick-windowed',\n",
       " 'ValderRohan-accelerations',\n",
       " 'ValderRohan-joined',\n",
       " 'ValderRohan-locations',\n",
       " 'ValderRohan-simple',\n",
       " 'ValderRohan-windowed',\n",
       " 'ZamoraJesse-accelerations',\n",
       " 'ZamoraJesse-locations',\n",
       " 'accelerations',\n",
       " 'karlovicpatrik-accelerations',\n",
       " 'karlovicpatrik-locations'}"
      ]
     },
     "execution_count": 4,
     "metadata": {},
     "output_type": "execute_result"
    }
   ],
   "source": [
    "general_consumer.topics()"
   ]
  },
  {
   "cell_type": "markdown",
   "metadata": {},
   "source": [
    "Close the consumer, waiting indefinitely for any needed cleanup."
   ]
  },
  {
   "cell_type": "code",
   "execution_count": 5,
   "metadata": {},
   "outputs": [],
   "source": [
    "general_consumer.close()"
   ]
  },
  {
   "cell_type": "code",
   "execution_count": 5,
   "metadata": {},
   "outputs": [],
   "source": [
    "def create_kafka_consumer(topics, config=config):\n",
    "    bootstrap_servers = config['bootstrap_servers']\n",
    "    client_id = config['client_id']\n",
    "    topic_prefix = config['topic_prefix']    \n",
    "    topic_list = ['{}-{}'.format(topic_prefix, topic) for topic in topics]\n",
    "    \n",
    "    return KafkaConsumer(\n",
    "        *topic_list,\n",
    "        client_id=client_id,\n",
    "        bootstrap_servers=bootstrap_servers,\n",
    "        auto_offset_reset='earliest',\n",
    "        enable_auto_commit=False,\n",
    "        value_deserializer=lambda x: json.loads(x)\n",
    "    )\n",
    "\n",
    "# consumer = create_kafka_consumer(['locations', 'accelerations'])"
   ]
  },
  {
   "cell_type": "code",
   "execution_count": 6,
   "metadata": {},
   "outputs": [],
   "source": [
    "consumer = create_kafka_consumer(['locations', 'accelerations'])"
   ]
  },
  {
   "cell_type": "markdown",
   "metadata": {},
   "source": [
    "Gets a list of this consumer's current subscriptions"
   ]
  },
  {
   "cell_type": "code",
   "execution_count": 7,
   "metadata": {},
   "outputs": [
    {
     "data": {
      "text/plain": [
       "{'BreitbachScott-accelerations', 'BreitbachScott-locations'}"
      ]
     },
     "execution_count": 7,
     "metadata": {},
     "output_type": "execute_result"
    }
   ],
   "source": [
    "consumer.subscription()"
   ]
  },
  {
   "cell_type": "markdown",
   "metadata": {},
   "source": [
    "The following function prints messages from the current consumer subscriptions. It will continue until manually stopped. "
   ]
  },
  {
   "cell_type": "code",
   "execution_count": 8,
   "metadata": {
    "scrolled": false
   },
   "outputs": [
    {
     "name": "stdout",
     "output_type": "stream",
     "text": [
      "Message metadata:\n",
      "  Topic: BreitbachScott-accelerations\n",
      "  Partition: 0\n",
      "  Offset: 0\n",
      "Message Key: 341b924a15f44f9bb3530bc8e302034d\n",
      "Message Value:\n",
      "  \"{\\\"offset\\\":0.8220608865,\\\"ride_id\\\":\\\"c9a2b46c9aa515b632eddc45c4868482\\\",\\\"uuid\\\":\\\"19b9aa10588646b3bf22c9b4865a7995\\\",\\\"timestamp\\\":1503882,\\\"x\\\":-0.994,\\\"y\\\":0.045,\\\"z\\\":-0.036,\\\"timelapse\\\":false,\\\"filename\\\":\\\"e2f795a7-6a7d-4500-b5d7-4569de996811.mov\\\",\\\"t\\\":\\\"000.0\\\"}\"\n",
      "\n",
      "Message metadata:\n",
      "  Topic: BreitbachScott-accelerations\n",
      "  Partition: 0\n",
      "  Offset: 1\n",
      "Message Key: 6bdf1ca505354a168304bbe86ef4326d\n",
      "Message Value:\n",
      "  \"{\\\"offset\\\":0.8420608865,\\\"ride_id\\\":\\\"c9a2b46c9aa515b632eddc45c4868482\\\",\\\"uuid\\\":\\\"19b9aa10588646b3bf22c9b4865a7995\\\",\\\"timestamp\\\":1503882,\\\"x\\\":-0.998,\\\"y\\\":0.046,\\\"z\\\":-0.04,\\\"timelapse\\\":false,\\\"filename\\\":\\\"e2f795a7-6a7d-4500-b5d7-4569de996811.mov\\\",\\\"t\\\":\\\"000.0\\\"}\"\n",
      "\n",
      "STOPPING MESSAGE CONSUMER\n"
     ]
    }
   ],
   "source": [
    "def print_messages(consumer=consumer):\n",
    "    try:\n",
    "        for message in consumer:\n",
    "                msg_metadata = 'Message metadata: {}:{}:{}'.format(\n",
    "                    message.topic, message.partition, message.offset\n",
    "                )\n",
    "\n",
    "                if message.key is not None:\n",
    "                    msg_key = message.key.decode('utf-8')\n",
    "                else:\n",
    "                    msg_key = ''\n",
    "                msg_value = json.dumps(message.value, indent=2)\n",
    "                msg_value = '\\n'.join(['  {}'.format(value) for value in msg_value.split('\\n')])\n",
    "\n",
    "                print('Message metadata:')\n",
    "                print('  Topic: {}'.format(message.topic))\n",
    "                print('  Partition: {}'.format(message.partition))\n",
    "                print('  Offset: {}'.format(message.offset))\n",
    "                print('Message Key: {}'.format(msg_key))\n",
    "                print('Message Value:')\n",
    "                print(msg_value)\n",
    "                print()\n",
    "    except KeyboardInterrupt:\n",
    "        print(\"STOPPING MESSAGE CONSUMER\")\n",
    "        \n",
    "print_messages()"
   ]
  },
  {
   "cell_type": "markdown",
   "metadata": {},
   "source": [
    "Close the consumer, waiting indefinitely for any needed cleanup."
   ]
  },
  {
   "cell_type": "code",
   "execution_count": 9,
   "metadata": {},
   "outputs": [],
   "source": [
    "consumer.close()"
   ]
  },
  {
   "cell_type": "code",
   "execution_count": null,
   "metadata": {},
   "outputs": [],
   "source": []
  }
 ],
 "metadata": {
  "kernelspec": {
   "display_name": "Python 3",
   "language": "python",
   "name": "python3"
  },
  "language_info": {
   "codemirror_mode": {
    "name": "ipython",
    "version": 3
   },
   "file_extension": ".py",
   "mimetype": "text/x-python",
   "name": "python",
   "nbconvert_exporter": "python",
   "pygments_lexer": "ipython3",
   "version": "3.8.3"
  }
 },
 "nbformat": 4,
 "nbformat_minor": 4
}
