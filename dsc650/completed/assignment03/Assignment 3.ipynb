{
 "cells": [
  {
   "cell_type": "markdown",
   "metadata": {},
   "source": [
    "# Assignment 3"
   ]
  },
  {
   "cell_type": "markdown",
   "metadata": {},
   "source": [
    "Import libraries and define common helper functions"
   ]
  },
  {
   "cell_type": "code",
   "execution_count": 1,
   "metadata": {
    "scrolled": true
   },
   "outputs": [],
   "source": [
    "import os\n",
    "import sys\n",
    "import gzip\n",
    "import json\n",
    "from pathlib import Path\n",
    "import csv\n",
    "\n",
    "import pandas as pd\n",
    "import s3fs\n",
    "import pyarrow as pa\n",
    "from pyarrow.json import read_json\n",
    "import pyarrow.parquet as pq\n",
    "import fastavro\n",
    "from fastavro import parse_schema\n",
    "from fastavro import writer\n",
    "import pygeohash\n",
    "import snappy\n",
    "import jsonschema\n",
    "from jsonschema.exceptions import ValidationError\n",
    "\n",
    "\n",
    "endpoint_url='https://storage.budsc.midwest-datascience.com'\n",
    "\n",
    "current_dir = Path(os.getcwd()).absolute()\n",
    "schema_dir = current_dir.joinpath('schemas')\n",
    "results_dir = current_dir.joinpath('results')\n",
    "results_dir.mkdir(parents=True, exist_ok=True)\n",
    "\n",
    "\n",
    "def read_jsonl_data():\n",
    "    s3 = s3fs.S3FileSystem(\n",
    "        anon=True,\n",
    "        client_kwargs={\n",
    "            'endpoint_url': endpoint_url\n",
    "        }\n",
    "    )\n",
    "    src_data_path = 'data/processed/openflights/routes.jsonl.gz'\n",
    "    with s3.open(src_data_path, 'rb') as f_gz:\n",
    "        with gzip.open(f_gz, 'rb') as f:\n",
    "            records = [json.loads(line) for line in f.readlines()]\n",
    "        \n",
    "\n",
    "    return records"
   ]
  },
  {
   "cell_type": "markdown",
   "metadata": {},
   "source": [
    "Load the records from https://storage.budsc.midwest-datascience.com/data/processed/openflights/routes.jsonl.gz "
   ]
  },
  {
   "cell_type": "code",
   "execution_count": 2,
   "metadata": {},
   "outputs": [],
   "source": [
    "records = read_jsonl_data()"
   ]
  },
  {
   "cell_type": "markdown",
   "metadata": {},
   "source": [
    "## 3.1"
   ]
  },
  {
   "cell_type": "markdown",
   "metadata": {},
   "source": [
    "### 3.1.a JSON Schema"
   ]
  },
  {
   "cell_type": "code",
   "execution_count": 3,
   "metadata": {
    "scrolled": true
   },
   "outputs": [],
   "source": [
    "def validate_jsonl_data(records):\n",
    "    schema_path = schema_dir.joinpath('routes-schema.json')\n",
    "    with open(schema_path) as f:\n",
    "        schema = json.load(f)\n",
    "\n",
    "    validation_csv_path = results_dir.joinpath('validation-results.csv')    \n",
    "    with open(validation_csv_path, 'w', newline='') as f:    \n",
    "        writer = csv.writer(f)\n",
    "        for i, record in enumerate(records):\n",
    "            try:\n",
    "                ## TODO: Validate record \n",
    "                jsonschema.validate(record, schema)\n",
    "#                 pass\n",
    "            except ValidationError as e:\n",
    "                ## Print message if invalid record\n",
    "                f.write(f\"Error: {e.message}; failed validating {e.validator} in schema {e.schema_path}\\r\\n\")\n",
    "                print(e)\n",
    "\n",
    "            \n",
    "validate_jsonl_data(records)"
   ]
  },
  {
   "cell_type": "markdown",
   "metadata": {},
   "source": [
    "### 3.1.b Avro"
   ]
  },
  {
   "cell_type": "code",
   "execution_count": 4,
   "metadata": {},
   "outputs": [],
   "source": [
    "def create_avro_dataset(records):\n",
    "    schema_path = schema_dir.joinpath('routes.avsc')\n",
    "    data_path = results_dir.joinpath('routes.avro')\n",
    "    \n",
    "    ## TODO: Use fastavro to create Avro dataset\n",
    "    # load schema .avro file\n",
    "    with open(schema_path,'r') as f:\n",
    "        schema = json.load(f)\n",
    "    # parse schema\n",
    "    parsed_schema = parse_schema(schema)\n",
    "    # write record according to schema\n",
    "    with open(data_path, 'wb') as out:\n",
    "        writer(out, parsed_schema, records)\n",
    "\n",
    "        \n",
    "create_avro_dataset(records)"
   ]
  },
  {
   "cell_type": "code",
   "execution_count": 5,
   "metadata": {},
   "outputs": [],
   "source": [
    "# # verify data reads back:\n",
    "# from fastavro import reader\n",
    "# with open(data_path, 'rb') as fo:\n",
    "#     avro_reader = reader(fo)\n",
    "#     for record in avro_reader:\n",
    "#         print(record)"
   ]
  },
  {
   "cell_type": "markdown",
   "metadata": {},
   "source": [
    "### 3.1.c Parquet"
   ]
  },
  {
   "cell_type": "code",
   "execution_count": 6,
   "metadata": {},
   "outputs": [],
   "source": [
    "def create_parquet_dataset():\n",
    "    src_data_path = 'data/processed/openflights/routes.jsonl.gz'\n",
    "    parquet_output_path = results_dir.joinpath('routes.parquet')\n",
    "    s3 = s3fs.S3FileSystem(\n",
    "        anon=True,\n",
    "        client_kwargs={\n",
    "            'endpoint_url': endpoint_url\n",
    "        }\n",
    "    )\n",
    "    \n",
    "    with s3.open(src_data_path, 'rb') as f_gz:\n",
    "        with gzip.open(f_gz, 'rb') as f:\n",
    "            ## TODO: Use Apache Arrow to create Parquet table and save the dataset\n",
    "            \n",
    "            # read json into Parquet table:\n",
    "            table = read_json(f)\n",
    "    \n",
    "    # write Parquet table to `.parquet` file:\n",
    "    pq.write_table(table, parquet_output_path)\n",
    "\n",
    "    \n",
    "create_parquet_dataset()"
   ]
  },
  {
   "cell_type": "markdown",
   "metadata": {},
   "source": [
    "### 3.1.d Protocol Buffers"
   ]
  },
  {
   "cell_type": "code",
   "execution_count": 7,
   "metadata": {},
   "outputs": [],
   "source": [
    "sys.path.insert(0, os.path.abspath('routes_pb2'))\n",
    "\n",
    "import routes_pb2\n",
    "\n",
    "def _airport_to_proto_obj(airport):\n",
    "    obj = routes_pb2.Airport()\n",
    "    if airport is None:\n",
    "        return None\n",
    "    if airport.get('airport_id') is None:\n",
    "        return None\n",
    "\n",
    "    obj.airport_id = airport.get('airport_id')\n",
    "    if airport.get('name'):\n",
    "        obj.name = airport.get('name')\n",
    "    if airport.get('city'):\n",
    "        obj.city = airport.get('city')\n",
    "    if airport.get('iata'):\n",
    "        obj.iata = airport.get('iata')\n",
    "    if airport.get('icao'):\n",
    "        obj.icao = airport.get('icao')\n",
    "    if airport.get('altitude'):\n",
    "        obj.altitude = airport.get('altitude')\n",
    "    if airport.get('timezone'):\n",
    "        obj.timezone = airport.get('timezone')\n",
    "    if airport.get('dst'):\n",
    "        obj.dst = airport.get('dst')\n",
    "    if airport.get('tz_id'):\n",
    "        obj.tz_id = airport.get('tz_id')\n",
    "    if airport.get('type'):\n",
    "        obj.type = airport.get('type')\n",
    "    if airport.get('source'):\n",
    "        obj.source = airport.get('source')\n",
    "\n",
    "    obj.latitude = airport.get('latitude')\n",
    "    obj.longitude = airport.get('longitude')\n",
    "\n",
    "    return obj\n",
    "\n",
    "\n",
    "def _airline_to_proto_obj(airline):\n",
    "    obj = routes_pb2.Airline()\n",
    "    ## TODO: Create an Airline obj using Protocol Buffers API\n",
    "    # Check for airline / id\n",
    "    if airline is None:\n",
    "        return None\n",
    "    if airline.get('airline_id') is None:\n",
    "        return None\n",
    "    \n",
    "    # Get airline info\n",
    "    obj.airline_id = airline.get('airline_id')\n",
    "    if airline.get('name'):\n",
    "        obj.name = airline.get('name')\n",
    "    if airline.get('alias'):\n",
    "        obj.alias = airline.get('alias')\n",
    "    if airline.get('iata'):\n",
    "        obj.iata = airline.get('iata')\n",
    "    if airline.get('icao'):\n",
    "        obj.icao = airline.get('icao')\n",
    "    if airline.get('callsign'):\n",
    "        obj.callsign = airline.get('callsign')\n",
    "    if airline.get('country'):\n",
    "        obj.country = airline.get('country')\n",
    "    obj.active = airline.get('active') # boolean\n",
    "        \n",
    "    return obj\n",
    "\n",
    "\n",
    "def create_protobuf_dataset(records):\n",
    "    routes = routes_pb2.Routes()\n",
    "    for record in records:\n",
    "        route = routes_pb2.Route()\n",
    "        \n",
    "        ## TODO: Implement the code to create the Protocol Buffers Dataset\n",
    "        # Copy 'airline' data\n",
    "        airline = _airline_to_proto_obj(record.get('airline'))\n",
    "        if airline:\n",
    "            route.airline.CopyFrom(airline)\n",
    "        \n",
    "        # Copy 'src_airport' data\n",
    "        src_airport = _airport_to_proto_obj(record.get('src_airport'))\n",
    "        if src_airport:\n",
    "            route.src_airport.CopyFrom(src_airport)\n",
    "        \n",
    "        # Copy 'dst_airport' data\n",
    "        dst_airport = _airport_to_proto_obj(record.get('dst_airport'))\n",
    "        if dst_airport:\n",
    "            route.dst_airport.CopyFrom(dst_airport)\n",
    "        \n",
    "        # Get 'codeshare' boolean\n",
    "        route.codeshare = record.get('codeshare')\n",
    "        \n",
    "        # Get 'equipment' and iterate through for multiple\n",
    "        equipment = record.get('equipment')\n",
    "        for equip in equipment:\n",
    "            route.equipment.append(equip)\n",
    "        \n",
    "        # Add generated route to db of routes\n",
    "        routes.route.append(route)\n",
    "\n",
    "    data_path = results_dir.joinpath('routes.pb')\n",
    "\n",
    "    with open(data_path, 'wb') as f:\n",
    "        f.write(routes.SerializeToString())\n",
    "        \n",
    "    compressed_path = results_dir.joinpath('routes.pb.snappy')\n",
    "    \n",
    "    with open(compressed_path, 'wb') as f:\n",
    "        f.write(snappy.compress(routes.SerializeToString()))"
   ]
  },
  {
   "cell_type": "code",
   "execution_count": 8,
   "metadata": {},
   "outputs": [],
   "source": [
    "create_protobuf_dataset(records)"
   ]
  },
  {
   "cell_type": "markdown",
   "metadata": {},
   "source": [
    "## 3.2"
   ]
  },
  {
   "cell_type": "markdown",
   "metadata": {},
   "source": [
    "### 3.2.a Simple Geohash Index"
   ]
  },
  {
   "cell_type": "code",
   "execution_count": 9,
   "metadata": {
    "scrolled": true
   },
   "outputs": [],
   "source": [
    "geo_records = read_jsonl_data()"
   ]
  },
  {
   "cell_type": "code",
   "execution_count": 10,
   "metadata": {},
   "outputs": [],
   "source": [
    "def create_hash_dirs(records):\n",
    "    geoindex_dir = results_dir.joinpath('geoindex')\n",
    "    geoindex_dir.mkdir(exist_ok=True, parents=True)\n",
    "#     hashes = []\n",
    "\n",
    "    ## TODO: Create hash index\n",
    "    hashes, hash_set = [], set()\n",
    "    for record in records: # iterate records\n",
    "        origin_data = record.get('src_airport') # get source airport info\n",
    "        if origin_data: # if source airport available, get lat/lon\n",
    "            lat, lon = origin_data.get('latitude'), origin_data.get('longitude')\n",
    "            hash_set.add(pygeohash.encode(lat, lon, precision=3)) # get 3-digit unique hash\n",
    "            record['src_airport']['geohash'] = pygeohash.encode(lat, lon) # add full hash to record\n",
    "\n",
    "    hashes = sorted(list(hash_set)) # sort unique hashes\n",
    "    index = {value: [] for value in hashes} # set up hash index\n",
    "    \n",
    "    for record in records: \n",
    "        # iterate through records, add to appropriate hash index\n",
    "        if record.get('src_airport'):\n",
    "            geohash = record['src_airport'].get('geohash')\n",
    "            index[geohash[:3]].append(record)\n",
    "    \n",
    "    for key, values in index.items():\n",
    "        # create folder / subfolder directories by short hash key\n",
    "        output_dir = geoindex_dir.joinpath(str(key[:1])).joinpath(str(key[:2]))\n",
    "        output_dir.mkdir(exist_ok=True, parents=True)\n",
    "        output_path = output_dir.joinpath(f'{key}.jsonl.gz')\n",
    "        # save record to appropriate subfolder/file\n",
    "        with gzip.open(output_path, 'w') as f:\n",
    "            json_output = '\\n'.join([json.dumps(value) for value in values])\n",
    "            f.write(json_output.encode('utf-8'))"
   ]
  },
  {
   "cell_type": "code",
   "execution_count": 11,
   "metadata": {},
   "outputs": [],
   "source": [
    "create_hash_dirs(geo_records)"
   ]
  },
  {
   "cell_type": "markdown",
   "metadata": {},
   "source": [
    "### 3.2.b Simple Search Feature"
   ]
  },
  {
   "cell_type": "code",
   "execution_count": 12,
   "metadata": {},
   "outputs": [],
   "source": [
    "def airport_search(latitude=41.1499988, longitude=-95.91779, distance=1000):\n",
    "    ## TODO: Create simple search to return nearest airport\n",
    "    homeHash = pygeohash.encode(latitude, longitude)\n",
    "    airportSet = set()\n",
    "    for record in geo_records:\n",
    "        airport = record['src_airport']\n",
    "        if airport:\n",
    "            airportHash = pygeohash.encode(airport['latitude'], airport['longitude'])\n",
    "            distToLoc = pygeohash.geohash_approximate_distance(homeHash, airportHash)/1000\n",
    "            if distToLoc <= distance:\n",
    "                airportSet.add(airport['name'])\n",
    "    airportList = sorted(list(airportSet))\n",
    "    \n",
    "    print(f'The following airports are within {distance} km of ({latitude}, {longitude}):\\n')\n",
    "    for airport in airportList:\n",
    "        print(' -', airport)\n",
    "#     pass"
   ]
  },
  {
   "cell_type": "markdown",
   "metadata": {},
   "source": [
    "41.1499988"
   ]
  },
  {
   "cell_type": "markdown",
   "metadata": {},
   "source": [
    "-95.91779"
   ]
  },
  {
   "cell_type": "code",
   "execution_count": 13,
   "metadata": {},
   "outputs": [
    {
     "name": "stdout",
     "output_type": "stream",
     "text": [
      "Enter your latitude:\t41.1499988\n",
      "Enter your longitude:\t-95.91779\n",
      "Input search radius (km): 420\n",
      "The following airports are within 420.0 km of (41.1499988, -95.91779):\n",
      "\n",
      " - Eppley Airfield\n",
      " - Lincoln Airport\n"
     ]
    }
   ],
   "source": [
    "lat = float(input(\"Enter your latitude:\\t\"))\n",
    "lon = float(input(\"Enter your longitude:\\t\"))\n",
    "dist = float(input(\"Input search radius (km): \"))\n",
    "\n",
    "airport_search(lat, lon, dist)"
   ]
  },
  {
   "cell_type": "code",
   "execution_count": null,
   "metadata": {},
   "outputs": [],
   "source": []
  }
 ],
 "metadata": {
  "kernelspec": {
   "display_name": "Python 3",
   "language": "python",
   "name": "python3"
  },
  "language_info": {
   "codemirror_mode": {
    "name": "ipython",
    "version": 3
   },
   "file_extension": ".py",
   "mimetype": "text/x-python",
   "name": "python",
   "nbconvert_exporter": "python",
   "pygments_lexer": "ipython3",
   "version": "3.8.3"
  }
 },
 "nbformat": 4,
 "nbformat_minor": 4
}
