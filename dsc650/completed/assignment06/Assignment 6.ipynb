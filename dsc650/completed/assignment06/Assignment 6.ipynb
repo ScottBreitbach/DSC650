{
 "cells": [
  {
   "cell_type": "markdown",
   "metadata": {},
   "source": [
    "## 6.1 ConvNet: MNIST image classifier"
   ]
  },
  {
   "cell_type": "code",
   "execution_count": 1,
   "metadata": {},
   "outputs": [],
   "source": [
    "# Load libraries\n",
    "from tensorflow import keras\n",
    "from tensorflow.keras import layers\n",
    "from tensorflow.keras.datasets import mnist\n",
    "import matplotlib.pyplot as plt"
   ]
  },
  {
   "cell_type": "markdown",
   "metadata": {},
   "source": [
    "#### Load data"
   ]
  },
  {
   "cell_type": "code",
   "execution_count": 2,
   "metadata": {},
   "outputs": [],
   "source": [
    "# Load MNIST data set and sort into train/test groups\n",
    "(train_images, train_labels), (test_images, test_labels) = mnist.load_data()\n",
    "train_images = train_images.reshape((60000, 28, 28, 1))\n",
    "train_images = train_images.astype(\"float32\") / 255\n",
    "test_images = test_images.reshape((10000, 28, 28, 1))\n",
    "test_images = test_images.astype(\"float32\") / 255"
   ]
  },
  {
   "cell_type": "markdown",
   "metadata": {},
   "source": [
    "#### Build the model"
   ]
  },
  {
   "cell_type": "code",
   "execution_count": 3,
   "metadata": {},
   "outputs": [],
   "source": [
    "# Instantiate a convnet\n",
    "inputs = keras.Input(shape=(28, 28, 1)) # This is the format of the MNIST images\n",
    "x = layers.Conv2D(filters=32, kernel_size=3, activation=\"relu\")(inputs) # 32 channels\n",
    "x = layers.MaxPooling2D(pool_size=2)(x)\n",
    "x = layers.Conv2D(filters=64, kernel_size=3, activation=\"relu\")(x)\n",
    "x = layers.MaxPooling2D(pool_size=2)(x)\n",
    "x = layers.Conv2D(filters=128, kernel_size=3, activation=\"relu\")(x)\n",
    "x = layers.Flatten()(x)\n",
    "outputs = layers.Dense(10, activation=\"softmax\")(x)\n",
    "model = keras.Model(inputs=inputs, outputs=outputs)"
   ]
  },
  {
   "cell_type": "code",
   "execution_count": 4,
   "metadata": {},
   "outputs": [],
   "source": [
    "# Compile model\n",
    "model.compile(optimizer=\"rmsprop\",\n",
    "    loss=\"sparse_categorical_crossentropy\",\n",
    "    metrics=[\"accuracy\"])"
   ]
  },
  {
   "cell_type": "markdown",
   "metadata": {},
   "source": [
    "#### Validate the model"
   ]
  },
  {
   "cell_type": "code",
   "execution_count": 5,
   "metadata": {},
   "outputs": [],
   "source": [
    "## Set aside a validation set (10000 samples)\n",
    "# Data\n",
    "validation_images = train_images[:10000]\n",
    "partial_train_images = train_images[10000:]\n",
    "# Labels\n",
    "validation_labels = train_labels[:10000]\n",
    "partial_train_labels = train_labels[10000:]"
   ]
  },
  {
   "cell_type": "code",
   "execution_count": 6,
   "metadata": {},
   "outputs": [
    {
     "name": "stdout",
     "output_type": "stream",
     "text": [
      "Epoch 1/5\n",
      "782/782 [==============================] - 13s 17ms/step - loss: 0.1694 - accuracy: 0.9473 - val_loss: 0.0838 - val_accuracy: 0.9735\n",
      "Epoch 2/5\n",
      "782/782 [==============================] - 12s 16ms/step - loss: 0.0464 - accuracy: 0.9856 - val_loss: 0.0414 - val_accuracy: 0.9885\n",
      "Epoch 3/5\n",
      "782/782 [==============================] - 12s 15ms/step - loss: 0.0315 - accuracy: 0.9903 - val_loss: 0.0479 - val_accuracy: 0.9873\n",
      "Epoch 4/5\n",
      "782/782 [==============================] - 12s 15ms/step - loss: 0.0240 - accuracy: 0.9927 - val_loss: 0.0388 - val_accuracy: 0.9888\n",
      "Epoch 5/5\n",
      "782/782 [==============================] - 11s 14ms/step - loss: 0.0186 - accuracy: 0.9939 - val_loss: 0.0362 - val_accuracy: 0.9903\n"
     ]
    }
   ],
   "source": [
    "# Train the model\n",
    "history = model.fit(partial_train_images,\n",
    "                   partial_train_labels,\n",
    "                   epochs=5,\n",
    "                   batch_size=64,\n",
    "                   validation_data=(validation_images, validation_labels))"
   ]
  },
  {
   "cell_type": "markdown",
   "metadata": {},
   "source": [
    "#### Plot the model"
   ]
  },
  {
   "cell_type": "code",
   "execution_count": 7,
   "metadata": {},
   "outputs": [
    {
     "data": {
      "image/png": "[encoded data removed]",
      "text/plain": [
       "<Figure size 432x288 with 1 Axes>"
      ]
     },
     "metadata": {
      "needs_background": "light"
     },
     "output_type": "display_data"
    },
    {
     "data": {
      "image/png": "[encoded data removed]",
      "text/plain": [
       "<Figure size 432x288 with 1 Axes>"
      ]
     },
     "metadata": {
      "needs_background": "light"
     },
     "output_type": "display_data"
    }
   ],
   "source": [
    "# Plot the training and validation accuracy and loss\n",
    "accuracy = history.history[\"accuracy\"]\n",
    "val_accuracy = history.history[\"val_accuracy\"]\n",
    "loss = history.history[\"loss\"]\n",
    "val_loss = history.history[\"val_loss\"]\n",
    "epochs = range(1, len(accuracy) + 1)\n",
    "plt.plot(epochs, accuracy, \"bo\", label=\"Training accuracy\")\n",
    "plt.plot(epochs, val_accuracy, \"b\", label=\"Validation accuracy\")\n",
    "plt.title(\"Training and validation accuracy\")\n",
    "plt.legend()\n",
    "plt.figure()\n",
    "plt.plot(epochs, loss, \"bo\", label=\"Training loss\")\n",
    "plt.plot(epochs, val_loss, \"b\", label=\"Validation loss\")\n",
    "plt.title(\"Training and validation loss\")\n",
    "plt.legend()\n",
    "plt.show()"
   ]
  },
  {
   "cell_type": "markdown",
   "metadata": {},
   "source": [
    "#### Evaluate the model"
   ]
  },
  {
   "cell_type": "code",
   "execution_count": 8,
   "metadata": {},
   "outputs": [
    {
     "name": "stdout",
     "output_type": "stream",
     "text": [
      "313/313 [==============================] - 1s 4ms/step - loss: 0.0247 - accuracy: 0.9924\n",
      "Test accuracy: 99.2%\n",
      "Test loss: 0.025\n"
     ]
    }
   ],
   "source": [
    "# Evaluate the convnet\n",
    "test_loss, test_acc = model.evaluate(test_images, test_labels)\n",
    "print(f'Test accuracy: {test_acc*100:.1f}%')\n",
    "print(f'Test loss: {test_loss:.3f}')"
   ]
  },
  {
   "cell_type": "code",
   "execution_count": null,
   "metadata": {},
   "outputs": [],
   "source": []
  },
  {
   "cell_type": "markdown",
   "metadata": {},
   "source": [
    "## 6.2 ConvNet: CIFAR10 image classifier"
   ]
  },
  {
   "cell_type": "code",
   "execution_count": 9,
   "metadata": {},
   "outputs": [],
   "source": [
    "# Load libraries\n",
    "from tensorflow import keras\n",
    "from tensorflow.keras import layers\n",
    "import matplotlib.pyplot as plt"
   ]
  },
  {
   "cell_type": "markdown",
   "metadata": {},
   "source": [
    "#### Load the data"
   ]
  },
  {
   "cell_type": "code",
   "execution_count": 10,
   "metadata": {},
   "outputs": [],
   "source": [
    "# Load the CIFAR10 data set\n",
    "(x_train, y_train), (x_test, y_test) = keras.datasets.cifar10.load_data()\n",
    "assert x_train.shape == (50000, 32, 32, 3)\n",
    "assert x_test.shape == (10000, 32, 32, 3)\n",
    "assert y_train.shape == (50000, 1)\n",
    "assert y_test.shape == (10000, 1)"
   ]
  },
  {
   "cell_type": "code",
   "execution_count": 11,
   "metadata": {},
   "outputs": [],
   "source": [
    "## Set aside a validation set (10,000 samples)\n",
    "# Data\n",
    "x_val = x_train[:10000]\n",
    "partial_x_train = x_train[10000:]\n",
    "# Labels\n",
    "y_val = y_train[:10000]\n",
    "partial_y_train = y_train[10000:]"
   ]
  },
  {
   "cell_type": "markdown",
   "metadata": {},
   "source": [
    "### 6.2.a - no dropout or data-augmentation"
   ]
  },
  {
   "cell_type": "markdown",
   "metadata": {},
   "source": [
    "#### Build the model"
   ]
  },
  {
   "cell_type": "code",
   "execution_count": 12,
   "metadata": {},
   "outputs": [],
   "source": [
    "# Instantiate the convnet\n",
    "inputs = keras.Input(shape=(32, 32, 3))\n",
    "x = layers.experimental.preprocessing.Rescaling(1./255)(inputs)\n",
    "x = layers.Conv2D(filters=32, kernel_size=3, activation=\"relu\")(x)\n",
    "x = layers.MaxPooling2D(pool_size=2)(x)\n",
    "x = layers.Conv2D(filters=64, kernel_size=3, activation=\"relu\")(x)\n",
    "x = layers.MaxPooling2D(pool_size=2)(x)\n",
    "x = layers.Conv2D(filters=128, kernel_size=3, activation=\"relu\")(x)\n",
    "x = layers.Flatten()(x)\n",
    "outputs = layers.Dense(10, activation=\"softmax\")(x)\n",
    "model = keras.Model(inputs=inputs, outputs=outputs)"
   ]
  },
  {
   "cell_type": "code",
   "execution_count": 13,
   "metadata": {},
   "outputs": [],
   "source": [
    "# Compile model\n",
    "model.compile(optimizer=\"rmsprop\",\n",
    "    loss=\"sparse_categorical_crossentropy\",\n",
    "    metrics=[\"accuracy\"])"
   ]
  },
  {
   "cell_type": "markdown",
   "metadata": {},
   "source": [
    "#### Train the model"
   ]
  },
  {
   "cell_type": "code",
   "execution_count": 14,
   "metadata": {},
   "outputs": [
    {
     "name": "stdout",
     "output_type": "stream",
     "text": [
      "Epoch 1/30\n",
      "625/625 [==============================] - 12s 19ms/step - loss: 1.6456 - accuracy: 0.4051 - val_loss: 1.3288 - val_accuracy: 0.5229\n",
      "Epoch 2/30\n",
      "625/625 [==============================] - 12s 19ms/step - loss: 1.2666 - accuracy: 0.5530 - val_loss: 1.2158 - val_accuracy: 0.5705\n",
      "Epoch 3/30\n",
      "625/625 [==============================] - 12s 19ms/step - loss: 1.0856 - accuracy: 0.6192 - val_loss: 1.0204 - val_accuracy: 0.6475\n",
      "Epoch 4/30\n",
      "625/625 [==============================] - 12s 19ms/step - loss: 0.9645 - accuracy: 0.6655 - val_loss: 0.9845 - val_accuracy: 0.6519\n",
      "Epoch 5/30\n",
      "625/625 [==============================] - 12s 19ms/step - loss: 0.8737 - accuracy: 0.6967 - val_loss: 0.9111 - val_accuracy: 0.6844\n",
      "Epoch 6/30\n",
      "625/625 [==============================] - 12s 19ms/step - loss: 0.7975 - accuracy: 0.7250 - val_loss: 0.9340 - val_accuracy: 0.6852\n",
      "Epoch 7/30\n",
      "625/625 [==============================] - 12s 19ms/step - loss: 0.7332 - accuracy: 0.7461 - val_loss: 0.8272 - val_accuracy: 0.7206\n",
      "Epoch 8/30\n",
      "625/625 [==============================] - 12s 19ms/step - loss: 0.6733 - accuracy: 0.7699 - val_loss: 0.8147 - val_accuracy: 0.7214\n",
      "Epoch 9/30\n",
      "625/625 [==============================] - 12s 19ms/step - loss: 0.6169 - accuracy: 0.7865 - val_loss: 0.8121 - val_accuracy: 0.7297\n",
      "Epoch 10/30\n",
      "625/625 [==============================] - 11s 18ms/step - loss: 0.5711 - accuracy: 0.8032 - val_loss: 0.8808 - val_accuracy: 0.7155\n",
      "Epoch 11/30\n",
      "625/625 [==============================] - 11s 18ms/step - loss: 0.5218 - accuracy: 0.8185 - val_loss: 0.9615 - val_accuracy: 0.6953\n",
      "Epoch 12/30\n",
      "625/625 [==============================] - 11s 18ms/step - loss: 0.4791 - accuracy: 0.8354 - val_loss: 0.8724 - val_accuracy: 0.7244\n",
      "Epoch 13/30\n",
      "625/625 [==============================] - 11s 18ms/step - loss: 0.4374 - accuracy: 0.8489 - val_loss: 0.8852 - val_accuracy: 0.7186\n",
      "Epoch 14/30\n",
      "625/625 [==============================] - 12s 18ms/step - loss: 0.4001 - accuracy: 0.8617 - val_loss: 0.8888 - val_accuracy: 0.7274\n",
      "Epoch 15/30\n",
      "625/625 [==============================] - 11s 18ms/step - loss: 0.3594 - accuracy: 0.8759 - val_loss: 0.9480 - val_accuracy: 0.7262\n",
      "Epoch 16/30\n",
      "625/625 [==============================] - 12s 19ms/step - loss: 0.3278 - accuracy: 0.8863 - val_loss: 0.9781 - val_accuracy: 0.7261\n",
      "Epoch 17/30\n",
      "625/625 [==============================] - 12s 19ms/step - loss: 0.2946 - accuracy: 0.8979 - val_loss: 1.0529 - val_accuracy: 0.7165\n",
      "Epoch 18/30\n",
      "625/625 [==============================] - 12s 19ms/step - loss: 0.2658 - accuracy: 0.9077 - val_loss: 1.0752 - val_accuracy: 0.7273\n",
      "Epoch 19/30\n",
      "625/625 [==============================] - 12s 19ms/step - loss: 0.2405 - accuracy: 0.9171 - val_loss: 1.1752 - val_accuracy: 0.7113\n",
      "Epoch 20/30\n",
      "625/625 [==============================] - 12s 19ms/step - loss: 0.2156 - accuracy: 0.9242 - val_loss: 1.2333 - val_accuracy: 0.7055\n",
      "Epoch 21/30\n",
      "625/625 [==============================] - 12s 19ms/step - loss: 0.1905 - accuracy: 0.9339 - val_loss: 1.2794 - val_accuracy: 0.7112\n",
      "Epoch 22/30\n",
      "625/625 [==============================] - 12s 19ms/step - loss: 0.1727 - accuracy: 0.9403 - val_loss: 1.3152 - val_accuracy: 0.7165\n",
      "Epoch 23/30\n",
      "625/625 [==============================] - 12s 19ms/step - loss: 0.1542 - accuracy: 0.9455 - val_loss: 1.4697 - val_accuracy: 0.7046\n",
      "Epoch 24/30\n",
      "625/625 [==============================] - 12s 19ms/step - loss: 0.1418 - accuracy: 0.9505 - val_loss: 1.5003 - val_accuracy: 0.7086\n",
      "Epoch 25/30\n",
      "625/625 [==============================] - 12s 19ms/step - loss: 0.1287 - accuracy: 0.9544 - val_loss: 1.6034 - val_accuracy: 0.7126\n",
      "Epoch 26/30\n",
      "625/625 [==============================] - 12s 19ms/step - loss: 0.1183 - accuracy: 0.9590 - val_loss: 1.6791 - val_accuracy: 0.7065\n",
      "Epoch 27/30\n",
      "625/625 [==============================] - 12s 19ms/step - loss: 0.1088 - accuracy: 0.9628 - val_loss: 1.7696 - val_accuracy: 0.7016\n",
      "Epoch 28/30\n",
      "625/625 [==============================] - 12s 19ms/step - loss: 0.1006 - accuracy: 0.9645 - val_loss: 1.9190 - val_accuracy: 0.7049\n",
      "Epoch 29/30\n",
      "625/625 [==============================] - 12s 19ms/step - loss: 0.0926 - accuracy: 0.9674 - val_loss: 1.8209 - val_accuracy: 0.7074\n",
      "Epoch 30/30\n",
      "625/625 [==============================] - 12s 19ms/step - loss: 0.0924 - accuracy: 0.9676 - val_loss: 1.9032 - val_accuracy: 0.7054\n"
     ]
    }
   ],
   "source": [
    "# Train model\n",
    "history = model.fit(partial_x_train,\n",
    "                   partial_y_train,\n",
    "                   epochs=30,\n",
    "                   batch_size=64,\n",
    "                   validation_data=(x_val, y_val))"
   ]
  },
  {
   "cell_type": "markdown",
   "metadata": {},
   "source": [
    "#### Plot the model"
   ]
  },
  {
   "cell_type": "code",
   "execution_count": 15,
   "metadata": {},
   "outputs": [
    {
     "data": {
      "image/png": "[encoded data removed]",
      "text/plain": [
       "<Figure size 432x288 with 1 Axes>"
      ]
     },
     "metadata": {
      "needs_background": "light"
     },
     "output_type": "display_data"
    },
    {
     "data": {
      "image/png": "[encoded data removed]",
      "text/plain": [
       "<Figure size 432x288 with 1 Axes>"
      ]
     },
     "metadata": {
      "needs_background": "light"
     },
     "output_type": "display_data"
    }
   ],
   "source": [
    "# Plot the training and validation accuracy and loss\n",
    "accuracy = history.history[\"accuracy\"]\n",
    "val_accuracy = history.history[\"val_accuracy\"]\n",
    "loss = history.history[\"loss\"]\n",
    "val_loss = history.history[\"val_loss\"]\n",
    "epochs = range(1, len(accuracy) + 1)\n",
    "plt.plot(epochs, accuracy, \"bo\", label=\"Training accuracy\")\n",
    "plt.plot(epochs, val_accuracy, \"b\", label=\"Validation accuracy\")\n",
    "plt.title(\"Training and validation accuracy\")\n",
    "plt.legend()\n",
    "plt.figure()\n",
    "plt.plot(epochs, loss, \"bo\", label=\"Training loss\")\n",
    "plt.plot(epochs, val_loss, \"b\", label=\"Validation loss\")\n",
    "plt.title(\"Training and validation loss\")\n",
    "plt.legend()\n",
    "plt.show()"
   ]
  },
  {
   "cell_type": "markdown",
   "metadata": {},
   "source": [
    "#### Evaluate the model"
   ]
  },
  {
   "cell_type": "code",
   "execution_count": 16,
   "metadata": {},
   "outputs": [
    {
     "name": "stdout",
     "output_type": "stream",
     "text": [
      "313/313 [==============================] - 2s 5ms/step - loss: 1.9599 - accuracy: 0.7072\n",
      "Test accuracy: 70.7%\n",
      "Test loss: 1.960\n"
     ]
    }
   ],
   "source": [
    "# Evaluate the convnet\n",
    "test_loss, test_acc = model.evaluate(x_test, y_test)\n",
    "print(f'Test accuracy: {test_acc*100:.1f}%')\n",
    "print(f'Test loss: {test_loss:.3f}')"
   ]
  },
  {
   "cell_type": "markdown",
   "metadata": {},
   "source": [
    "### 6.2.b - with dropout and data-augmentation"
   ]
  },
  {
   "cell_type": "code",
   "execution_count": 17,
   "metadata": {},
   "outputs": [],
   "source": [
    "# define a data augmentation stage to add to the image model\n",
    "data_augmentation = keras.Sequential(\n",
    "    [\n",
    "        layers.experimental.preprocessing.RandomFlip(\"horizontal\"),\n",
    "        layers.experimental.preprocessing.RandomRotation(0.1),\n",
    "    ]\n",
    ")"
   ]
  },
  {
   "cell_type": "markdown",
   "metadata": {},
   "source": [
    "#### Build the model"
   ]
  },
  {
   "cell_type": "code",
   "execution_count": 18,
   "metadata": {},
   "outputs": [],
   "source": [
    "# instantiate the convnet that includes image augmentation and dropout\n",
    "inputs = keras.Input(shape=(32, 32, 3))\n",
    "x = data_augmentation(inputs)\n",
    "x = layers.experimental.preprocessing.Rescaling(1./255)(inputs)\n",
    "x = layers.Conv2D(filters=32, kernel_size=3, activation=\"relu\")(x)\n",
    "x = layers.MaxPooling2D(pool_size=2)(x)\n",
    "x = layers.Conv2D(filters=64, kernel_size=3, activation=\"relu\")(x)\n",
    "x = layers.MaxPooling2D(pool_size=2)(x)\n",
    "x = layers.Conv2D(filters=128, kernel_size=3, activation=\"relu\")(x)\n",
    "x = layers.Flatten()(x)\n",
    "x = layers.Dropout(0.5)(x)\n",
    "outputs = layers.Dense(10, activation=\"softmax\")(x)\n",
    "\n",
    "model = keras.Model(inputs=inputs, outputs=outputs)"
   ]
  },
  {
   "cell_type": "code",
   "execution_count": 19,
   "metadata": {},
   "outputs": [],
   "source": [
    "# Compile model\n",
    "model.compile(optimizer=\"rmsprop\",\n",
    "    loss=\"sparse_categorical_crossentropy\",\n",
    "    metrics=[\"accuracy\"])"
   ]
  },
  {
   "cell_type": "markdown",
   "metadata": {},
   "source": [
    "#### Train the model"
   ]
  },
  {
   "cell_type": "code",
   "execution_count": 20,
   "metadata": {},
   "outputs": [
    {
     "name": "stdout",
     "output_type": "stream",
     "text": [
      "Epoch 1/30\n",
      "625/625 [==============================] - 12s 19ms/step - loss: 1.7057 - accuracy: 0.3837 - val_loss: 1.5910 - val_accuracy: 0.4340\n",
      "Epoch 2/30\n",
      "625/625 [==============================] - 12s 19ms/step - loss: 1.3442 - accuracy: 0.5219 - val_loss: 1.2188 - val_accuracy: 0.5765\n",
      "Epoch 3/30\n",
      "625/625 [==============================] - 12s 19ms/step - loss: 1.1823 - accuracy: 0.5828 - val_loss: 1.0946 - val_accuracy: 0.6210\n",
      "Epoch 4/30\n",
      "625/625 [==============================] - 12s 19ms/step - loss: 1.0811 - accuracy: 0.6229 - val_loss: 0.9973 - val_accuracy: 0.6545\n",
      "Epoch 5/30\n",
      "625/625 [==============================] - 12s 19ms/step - loss: 1.0007 - accuracy: 0.6523 - val_loss: 0.9702 - val_accuracy: 0.6597\n",
      "Epoch 6/30\n",
      "625/625 [==============================] - 12s 19ms/step - loss: 0.9391 - accuracy: 0.6702 - val_loss: 0.8977 - val_accuracy: 0.6862\n",
      "Epoch 7/30\n",
      "625/625 [==============================] - 12s 19ms/step - loss: 0.8848 - accuracy: 0.6920 - val_loss: 0.8783 - val_accuracy: 0.6954\n",
      "Epoch 8/30\n",
      "625/625 [==============================] - 12s 19ms/step - loss: 0.8446 - accuracy: 0.7037 - val_loss: 0.8488 - val_accuracy: 0.7120\n",
      "Epoch 9/30\n",
      "625/625 [==============================] - 12s 19ms/step - loss: 0.8107 - accuracy: 0.7176 - val_loss: 0.8628 - val_accuracy: 0.7090\n",
      "Epoch 10/30\n",
      "625/625 [==============================] - 12s 19ms/step - loss: 0.7781 - accuracy: 0.7289 - val_loss: 0.8557 - val_accuracy: 0.7100\n",
      "Epoch 11/30\n",
      "625/625 [==============================] - 12s 19ms/step - loss: 0.7532 - accuracy: 0.7380 - val_loss: 0.8525 - val_accuracy: 0.7085\n",
      "Epoch 12/30\n",
      "625/625 [==============================] - 12s 19ms/step - loss: 0.7321 - accuracy: 0.7459 - val_loss: 0.7797 - val_accuracy: 0.7343\n",
      "Epoch 13/30\n",
      "625/625 [==============================] - 12s 19ms/step - loss: 0.7015 - accuracy: 0.7540 - val_loss: 0.7747 - val_accuracy: 0.7359\n",
      "Epoch 14/30\n",
      "625/625 [==============================] - 12s 19ms/step - loss: 0.6889 - accuracy: 0.7618 - val_loss: 0.8066 - val_accuracy: 0.7359\n",
      "Epoch 15/30\n",
      "625/625 [==============================] - 12s 19ms/step - loss: 0.6682 - accuracy: 0.7662 - val_loss: 0.7539 - val_accuracy: 0.7411\n",
      "Epoch 16/30\n",
      "625/625 [==============================] - 12s 19ms/step - loss: 0.6469 - accuracy: 0.7760 - val_loss: 0.8117 - val_accuracy: 0.7262\n",
      "Epoch 17/30\n",
      "625/625 [==============================] - 12s 19ms/step - loss: 0.6335 - accuracy: 0.7811 - val_loss: 0.7540 - val_accuracy: 0.7470\n",
      "Epoch 18/30\n",
      "625/625 [==============================] - 12s 19ms/step - loss: 0.6215 - accuracy: 0.7832 - val_loss: 0.7844 - val_accuracy: 0.7427\n",
      "Epoch 19/30\n",
      "625/625 [==============================] - 12s 19ms/step - loss: 0.6113 - accuracy: 0.7885 - val_loss: 0.8332 - val_accuracy: 0.7341\n",
      "Epoch 20/30\n",
      "625/625 [==============================] - 12s 19ms/step - loss: 0.5955 - accuracy: 0.7930 - val_loss: 0.7449 - val_accuracy: 0.7552\n",
      "Epoch 21/30\n",
      "625/625 [==============================] - 12s 19ms/step - loss: 0.5859 - accuracy: 0.7944 - val_loss: 0.8659 - val_accuracy: 0.7193\n",
      "Epoch 22/30\n",
      "625/625 [==============================] - 12s 19ms/step - loss: 0.5700 - accuracy: 0.8016 - val_loss: 0.8068 - val_accuracy: 0.7462\n",
      "Epoch 23/30\n",
      "625/625 [==============================] - 12s 19ms/step - loss: 0.5625 - accuracy: 0.8042 - val_loss: 0.7676 - val_accuracy: 0.7473\n",
      "Epoch 24/30\n",
      "625/625 [==============================] - 12s 19ms/step - loss: 0.5514 - accuracy: 0.8096 - val_loss: 0.8668 - val_accuracy: 0.7329\n",
      "Epoch 25/30\n",
      "625/625 [==============================] - 12s 19ms/step - loss: 0.5473 - accuracy: 0.8105 - val_loss: 0.7870 - val_accuracy: 0.7431\n",
      "Epoch 26/30\n",
      "625/625 [==============================] - 12s 19ms/step - loss: 0.5397 - accuracy: 0.8101 - val_loss: 0.7956 - val_accuracy: 0.7503\n",
      "Epoch 27/30\n",
      "625/625 [==============================] - 12s 19ms/step - loss: 0.5350 - accuracy: 0.8115 - val_loss: 0.8701 - val_accuracy: 0.7136\n",
      "Epoch 28/30\n",
      "625/625 [==============================] - 12s 19ms/step - loss: 0.5232 - accuracy: 0.8180 - val_loss: 0.9796 - val_accuracy: 0.7089\n",
      "Epoch 29/30\n",
      "625/625 [==============================] - 12s 19ms/step - loss: 0.5247 - accuracy: 0.8176 - val_loss: 0.8034 - val_accuracy: 0.7491\n",
      "Epoch 30/30\n",
      "625/625 [==============================] - 12s 19ms/step - loss: 0.5147 - accuracy: 0.8198 - val_loss: 0.8339 - val_accuracy: 0.7444\n"
     ]
    }
   ],
   "source": [
    "# Train model\n",
    "history = model.fit(partial_x_train,\n",
    "                   partial_y_train,\n",
    "                   epochs=30,\n",
    "                   batch_size=64,\n",
    "                   validation_data=(x_val, y_val))"
   ]
  },
  {
   "cell_type": "markdown",
   "metadata": {},
   "source": [
    "#### Plot the model"
   ]
  },
  {
   "cell_type": "code",
   "execution_count": 21,
   "metadata": {},
   "outputs": [
    {
     "data": {
      "image/png": "[encoded data removed]",
      "text/plain": [
       "<Figure size 432x288 with 1 Axes>"
      ]
     },
     "metadata": {
      "needs_background": "light"
     },
     "output_type": "display_data"
    },
    {
     "data": {
      "image/png": "[encoded data removed]",
      "text/plain": [
       "<Figure size 432x288 with 1 Axes>"
      ]
     },
     "metadata": {
      "needs_background": "light"
     },
     "output_type": "display_data"
    }
   ],
   "source": [
    "# Plot the training and validation accuracy and loss\n",
    "accuracy = history.history[\"accuracy\"]\n",
    "val_accuracy = history.history[\"val_accuracy\"]\n",
    "loss = history.history[\"loss\"]\n",
    "val_loss = history.history[\"val_loss\"]\n",
    "epochs = range(1, len(accuracy) + 1)\n",
    "plt.plot(epochs, accuracy, \"bo\", label=\"Training accuracy\")\n",
    "plt.plot(epochs, val_accuracy, \"b\", label=\"Validation accuracy\")\n",
    "plt.title(\"Training and validation accuracy\")\n",
    "plt.legend()\n",
    "plt.figure()\n",
    "plt.plot(epochs, loss, \"bo\", label=\"Training loss\")\n",
    "plt.plot(epochs, val_loss, \"b\", label=\"Validation loss\")\n",
    "plt.title(\"Training and validation loss\")\n",
    "plt.legend()\n",
    "plt.show()"
   ]
  },
  {
   "cell_type": "markdown",
   "metadata": {},
   "source": [
    "#### Evaluate the model"
   ]
  },
  {
   "cell_type": "code",
   "execution_count": 22,
   "metadata": {},
   "outputs": [
    {
     "name": "stdout",
     "output_type": "stream",
     "text": [
      "313/313 [==============================] - 2s 5ms/step - loss: 0.8535 - accuracy: 0.7324\n",
      "Test accuracy: 73.2%\n",
      "Test loss: 0.854\n"
     ]
    }
   ],
   "source": [
    "# Evaluate the convnet\n",
    "test_loss, test_acc = model.evaluate(x_test, y_test)\n",
    "print(f'Test accuracy: {test_acc*100:.1f}%')\n",
    "print(f'Test loss: {test_loss:.3f}')"
   ]
  },
  {
   "cell_type": "markdown",
   "metadata": {},
   "source": [
    "Notice the model with data-augmentation and dropout has better test accuracy and lower test loss that the default model."
   ]
  },
  {
   "cell_type": "code",
   "execution_count": null,
   "metadata": {},
   "outputs": [],
   "source": []
  },
  {
   "cell_type": "markdown",
   "metadata": {},
   "source": [
    "## 6.3 ResNet50 model: image classification"
   ]
  },
  {
   "cell_type": "code",
   "execution_count": 23,
   "metadata": {},
   "outputs": [],
   "source": [
    "# Load libraries\n",
    "from tensorflow.keras.applications.resnet50 import ResNet50\n",
    "from tensorflow.keras.preprocessing import image\n",
    "from tensorflow.keras.applications.resnet50 import preprocess_input, decode_predictions\n",
    "import numpy as np"
   ]
  },
  {
   "cell_type": "markdown",
   "metadata": {},
   "source": [
    "#### Load the model"
   ]
  },
  {
   "cell_type": "code",
   "execution_count": 24,
   "metadata": {},
   "outputs": [],
   "source": [
    "# Load model\n",
    "model = ResNet50(weights='imagenet')"
   ]
  },
  {
   "cell_type": "markdown",
   "metadata": {},
   "source": [
    "#### Classify images"
   ]
  },
  {
   "cell_type": "code",
   "execution_count": 25,
   "metadata": {},
   "outputs": [
    {
     "name": "stdout",
     "output_type": "stream",
     "text": [
      "Predicted: [('n02504458', 'African_elephant', 0.88571393), ('n01871265', 'tusker', 0.06552583), ('n02504013', 'Indian_elephant', 0.036657803)]\n"
     ]
    }
   ],
   "source": [
    "# Classify image of an elephant\n",
    "img_path = 'images/elephant.jpg'\n",
    "img = image.load_img(img_path, target_size=(224, 224))\n",
    "x = image.img_to_array(img)\n",
    "x = np.expand_dims(x, axis=0)\n",
    "x = preprocess_input(x)\n",
    "\n",
    "preds = model.predict(x)\n",
    "\n",
    "# decode the results into a list of tuples (class, description, probability)\n",
    "print('Predicted:', decode_predictions(preds, top=3)[0])"
   ]
  },
  {
   "cell_type": "code",
   "execution_count": 26,
   "metadata": {},
   "outputs": [
    {
     "name": "stdout",
     "output_type": "stream",
     "text": [
      "Predicted: [('n02056570', 'king_penguin', 0.88084424), ('n02058221', 'albatross', 0.098850325), ('n01855032', 'red-breasted_merganser', 0.0064048013)]\n"
     ]
    }
   ],
   "source": [
    "# Classify image of a penguin\n",
    "img_path = 'images/penguin.jpg'\n",
    "img = image.load_img(img_path, target_size=(224, 224))\n",
    "x = image.img_to_array(img)\n",
    "x = np.expand_dims(x, axis=0)\n",
    "x = preprocess_input(x)\n",
    "\n",
    "preds = model.predict(x)\n",
    "\n",
    "# decode the results into a list of tuples (class, description, probability)\n",
    "print('Predicted:', decode_predictions(preds, top=3)[0])"
   ]
  },
  {
   "cell_type": "code",
   "execution_count": 27,
   "metadata": {},
   "outputs": [
    {
     "name": "stdout",
     "output_type": "stream",
     "text": [
      "Predicted: [('n02526121', 'eel', 0.36378446), ('n09256479', 'coral_reef', 0.15230681), ('n01496331', 'electric_ray', 0.08756326)]\n"
     ]
    }
   ],
   "source": [
    "# Classify image of a cuttlefish\n",
    "img_path = 'images/cuttlefish.jpg'\n",
    "img = image.load_img(img_path, target_size=(224, 224))\n",
    "x = image.img_to_array(img)\n",
    "x = np.expand_dims(x, axis=0)\n",
    "x = preprocess_input(x)\n",
    "\n",
    "preds = model.predict(x)\n",
    "\n",
    "# decode the results into a list of tuples (class, description, probability)\n",
    "print('Predicted:', decode_predictions(preds, top=3)[0])"
   ]
  },
  {
   "cell_type": "code",
   "execution_count": 28,
   "metadata": {},
   "outputs": [
    {
     "name": "stdout",
     "output_type": "stream",
     "text": [
      "Predicted: [('n02128925', 'jaguar', 0.84859693), ('n02128385', 'leopard', 0.10983749), ('n02129604', 'tiger', 0.016701555)]\n"
     ]
    }
   ],
   "source": [
    "# Classify image of an ocelot\n",
    "img_path = 'images/ocelot.jpg'\n",
    "img = image.load_img(img_path, target_size=(224, 224))\n",
    "x = image.img_to_array(img)\n",
    "x = np.expand_dims(x, axis=0)\n",
    "x = preprocess_input(x)\n",
    "\n",
    "preds = model.predict(x)\n",
    "\n",
    "# decode the results into a list of tuples (class, description, probability)\n",
    "print('Predicted:', decode_predictions(preds, top=3)[0])"
   ]
  },
  {
   "cell_type": "code",
   "execution_count": 29,
   "metadata": {},
   "outputs": [
    {
     "name": "stdout",
     "output_type": "stream",
     "text": [
      "Predicted: [('n02071294', 'killer_whale', 0.49826032), ('n01484850', 'great_white_shark', 0.14165588), ('n02066245', 'grey_whale', 0.1368286)]\n"
     ]
    }
   ],
   "source": [
    "# Classify image of a sperm whale\n",
    "img_path = 'images/sperm_whale.jpg'\n",
    "img = image.load_img(img_path, target_size=(224, 224))\n",
    "x = image.img_to_array(img)\n",
    "x = np.expand_dims(x, axis=0)\n",
    "x = preprocess_input(x)\n",
    "\n",
    "preds = model.predict(x)\n",
    "\n",
    "# decode the results into a list of tuples (class, description, probability)\n",
    "print('Predicted:', decode_predictions(preds, top=3)[0])"
   ]
  },
  {
   "cell_type": "code",
   "execution_count": 30,
   "metadata": {},
   "outputs": [
    {
     "name": "stdout",
     "output_type": "stream",
     "text": [
      "Predicted: [('n03991062', 'pot', 0.95239794), ('n04522168', 'vase', 0.023219729), ('n02797295', 'barrow', 0.0024953063)]\n"
     ]
    }
   ],
   "source": [
    "# Classify image of a bowl of petunias\n",
    "img_path = 'images/bowl_of_petunias.jpg'\n",
    "img = image.load_img(img_path, target_size=(224, 224))\n",
    "x = image.img_to_array(img)\n",
    "x = np.expand_dims(x, axis=0)\n",
    "x = preprocess_input(x)\n",
    "\n",
    "preds = model.predict(x)\n",
    "\n",
    "# decode the results into a list of tuples (class, description, probability)\n",
    "print('Predicted:', decode_predictions(preds, top=3)[0])"
   ]
  },
  {
   "cell_type": "code",
   "execution_count": 31,
   "metadata": {},
   "outputs": [
    {
     "name": "stdout",
     "output_type": "stream",
     "text": [
      "Predicted: [('n06359193', 'web_site', 0.263159), ('n03720891', 'maraca', 0.095758), ('n02834397', 'bib', 0.042007394)]\n"
     ]
    }
   ],
   "source": [
    "# Classify image of a hitchhiker\n",
    "img_path = 'images/cosmic_cutie.jpg'\n",
    "img = image.load_img(img_path, target_size=(224, 224))\n",
    "x = image.img_to_array(img)\n",
    "x = np.expand_dims(x, axis=0)\n",
    "x = preprocess_input(x)\n",
    "\n",
    "preds = model.predict(x)\n",
    "\n",
    "# decode the results into a list of tuples (class, description, probability)\n",
    "print('Predicted:', decode_predictions(preds, top=3)[0])"
   ]
  },
  {
   "cell_type": "code",
   "execution_count": 32,
   "metadata": {},
   "outputs": [
    {
     "name": "stdout",
     "output_type": "stream",
     "text": [
      "Predicted: [('n03532672', 'hook', 0.24600993), ('n03476684', 'hair_slide', 0.120847315), ('n02910353', 'buckle', 0.06853741)]\n"
     ]
    }
   ],
   "source": [
    "# Classify image of the answer to life, the universe, and everything\n",
    "img_path = 'images/42.jpg'\n",
    "img = image.load_img(img_path, target_size=(224, 224))\n",
    "x = image.img_to_array(img)\n",
    "x = np.expand_dims(x, axis=0)\n",
    "x = preprocess_input(x)\n",
    "\n",
    "preds = model.predict(x)\n",
    "\n",
    "# decode the results into a list of tuples (class, description, probability)\n",
    "print('Predicted:', decode_predictions(preds, top=3)[0])"
   ]
  },
  {
   "cell_type": "code",
   "execution_count": null,
   "metadata": {},
   "outputs": [],
   "source": []
  }
 ],
 "metadata": {
  "kernelspec": {
   "display_name": "Python 3",
   "language": "python",
   "name": "python3"
  },
  "language_info": {
   "codemirror_mode": {
    "name": "ipython",
    "version": 3
   },
   "file_extension": ".py",
   "mimetype": "text/x-python",
   "name": "python",
   "nbconvert_exporter": "python",
   "pygments_lexer": "ipython3",
   "version": "3.8.3"
  }
 },
 "nbformat": 4,
 "nbformat_minor": 4
}
