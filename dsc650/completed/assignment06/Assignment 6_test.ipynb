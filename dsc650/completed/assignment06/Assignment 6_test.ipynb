{
 "cells": [
  {
   "cell_type": "markdown",
   "metadata": {},
   "source": [
    "## 6.1 ConvNet: MNIST image classifier"
   ]
  },
  {
   "cell_type": "code",
   "execution_count": 1,
   "metadata": {},
   "outputs": [],
   "source": [
    "# Load libraries\n",
    "from tensorflow import keras\n",
    "from tensorflow.keras import layers\n",
    "from tensorflow.keras.datasets import mnist\n",
    "import matplotlib.pyplot as plt"
   ]
  },
  {
   "cell_type": "code",
   "execution_count": 2,
   "metadata": {},
   "outputs": [],
   "source": [
    "# Load MNIST data set and sort into train/test groups\n",
    "(train_images, train_labels), (test_images, test_labels) = mnist.load_data()\n",
    "train_images = train_images.reshape((60000, 28, 28, 1))\n",
    "train_images = train_images.astype(\"float32\") / 255\n",
    "test_images = test_images.reshape((10000, 28, 28, 1))\n",
    "test_images = test_images.astype(\"float32\") / 255"
   ]
  },
  {
   "cell_type": "code",
   "execution_count": 3,
   "metadata": {},
   "outputs": [],
   "source": [
    "# Instantiate a convnet\n",
    "inputs = keras.Input(shape=(28, 28, 1)) # This is the format of the MNIST images\n",
    "x = layers.Conv2D(filters=32, kernel_size=3, activation=\"relu\")(inputs) # 32 channels\n",
    "x = layers.MaxPooling2D(pool_size=2)(x)\n",
    "x = layers.Conv2D(filters=64, kernel_size=3, activation=\"relu\")(x)\n",
    "x = layers.MaxPooling2D(pool_size=2)(x)\n",
    "x = layers.Conv2D(filters=128, kernel_size=3, activation=\"relu\")(x)\n",
    "x = layers.Flatten()(x)\n",
    "outputs = layers.Dense(10, activation=\"softmax\")(x)\n",
    "model = keras.Model(inputs=inputs, outputs=outputs)"
   ]
  },
  {
   "cell_type": "code",
   "execution_count": 4,
   "metadata": {},
   "outputs": [],
   "source": [
    "# Compile model\n",
    "model.compile(optimizer=\"rmsprop\",\n",
    "    loss=\"sparse_categorical_crossentropy\",\n",
    "    metrics=[\"accuracy\"])"
   ]
  },
  {
   "cell_type": "markdown",
   "metadata": {},
   "source": [
    "#### validate"
   ]
  },
  {
   "cell_type": "code",
   "execution_count": 5,
   "metadata": {},
   "outputs": [],
   "source": [
    "## Set aside a validation set (10000 samples)\n",
    "# Data\n",
    "validation_images = train_images[:10000]\n",
    "partial_train_images = train_images[10000:]\n",
    "# Labels\n",
    "validation_labels = train_labels[:10000]\n",
    "partial_train_labels = train_labels[10000:]"
   ]
  },
  {
   "cell_type": "code",
   "execution_count": 6,
   "metadata": {},
   "outputs": [
    {
     "data": {
      "text/plain": [
       "60000"
      ]
     },
     "execution_count": 6,
     "metadata": {},
     "output_type": "execute_result"
    }
   ],
   "source": [
    "len(train_images)"
   ]
  },
  {
   "cell_type": "code",
   "execution_count": 7,
   "metadata": {},
   "outputs": [
    {
     "data": {
      "text/plain": [
       "10000"
      ]
     },
     "execution_count": 7,
     "metadata": {},
     "output_type": "execute_result"
    }
   ],
   "source": [
    "len(test_images)"
   ]
  },
  {
   "cell_type": "code",
   "execution_count": 8,
   "metadata": {},
   "outputs": [
    {
     "name": "stdout",
     "output_type": "stream",
     "text": [
      "Epoch 1/5\n",
      "782/782 [==============================] - 13s 17ms/step - loss: 0.1741 - accuracy: 0.9452 - val_loss: 0.0795 - val_accuracy: 0.9749\n",
      "Epoch 2/5\n",
      "782/782 [==============================] - 12s 16ms/step - loss: 0.0477 - accuracy: 0.9849 - val_loss: 0.0571 - val_accuracy: 0.9841\n",
      "Epoch 3/5\n",
      "782/782 [==============================] - 12s 15ms/step - loss: 0.0318 - accuracy: 0.9901 - val_loss: 0.0362 - val_accuracy: 0.9888\n",
      "Epoch 4/5\n",
      "782/782 [==============================] - 12s 15ms/step - loss: 0.0240 - accuracy: 0.9924 - val_loss: 0.0431 - val_accuracy: 0.9892\n",
      "Epoch 5/5\n",
      "782/782 [==============================] - 11s 14ms/step - loss: 0.0194 - accuracy: 0.9941 - val_loss: 0.0346 - val_accuracy: 0.9901\n"
     ]
    }
   ],
   "source": [
    "history = model.fit(partial_train_images,\n",
    "                   partial_train_labels,\n",
    "                   epochs=5,\n",
    "                   batch_size=64,\n",
    "                   validation_data=(validation_images, validation_labels))"
   ]
  },
  {
   "cell_type": "code",
   "execution_count": 9,
   "metadata": {},
   "outputs": [
    {
     "data": {
      "image/png": "[encoded data removed]",
      "text/plain": [
       "<Figure size 432x288 with 1 Axes>"
      ]
     },
     "metadata": {
      "needs_background": "light"
     },
     "output_type": "display_data"
    },
    {
     "data": {
      "image/png": "[encoded data removed]",
      "text/plain": [
       "<Figure size 432x288 with 1 Axes>"
      ]
     },
     "metadata": {
      "needs_background": "light"
     },
     "output_type": "display_data"
    }
   ],
   "source": [
    "# Plot\n",
    "accuracy = history.history[\"accuracy\"]\n",
    "val_accuracy = history.history[\"val_accuracy\"]\n",
    "loss = history.history[\"loss\"]\n",
    "val_loss = history.history[\"val_loss\"]\n",
    "epochs = range(1, len(accuracy) + 1)\n",
    "plt.plot(epochs, accuracy, \"bo\", label=\"Training accuracy\")\n",
    "plt.plot(epochs, val_accuracy, \"b\", label=\"Validation accuracy\")\n",
    "plt.title(\"Training and validation accuracy\")\n",
    "plt.legend()\n",
    "plt.figure()\n",
    "plt.plot(epochs, loss, \"bo\", label=\"Training loss\")\n",
    "plt.plot(epochs, val_loss, \"b\", label=\"Validation loss\")\n",
    "plt.title(\"Training and validation loss\")\n",
    "plt.legend()\n",
    "plt.show()"
   ]
  },
  {
   "cell_type": "code",
   "execution_count": 10,
   "metadata": {},
   "outputs": [],
   "source": [
    "# # Fit model\n",
    "# model.fit(train_images, train_labels, epochs=5, batch_size=64)"
   ]
  },
  {
   "cell_type": "code",
   "execution_count": 11,
   "metadata": {
    "scrolled": true
   },
   "outputs": [
    {
     "name": "stdout",
     "output_type": "stream",
     "text": [
      "313/313 [==============================] - 1s 4ms/step - loss: 0.0273 - accuracy: 0.9929\n",
      "Test accuracy: 99.3%\n",
      "Test loss: 0.027\n"
     ]
    }
   ],
   "source": [
    "# Evaluate the convnet\n",
    "test_loss, test_acc = model.evaluate(test_images, test_labels)\n",
    "print(f'Test accuracy: {test_acc*100:.1f}%')\n",
    "print(f'Test loss: {test_loss:.3f}')"
   ]
  },
  {
   "cell_type": "code",
   "execution_count": null,
   "metadata": {},
   "outputs": [],
   "source": []
  },
  {
   "cell_type": "markdown",
   "metadata": {},
   "source": [
    "## 6.2 ConvNet: CIFAR10 image classifier"
   ]
  },
  {
   "cell_type": "code",
   "execution_count": 12,
   "metadata": {},
   "outputs": [],
   "source": [
    "# Load libraries\n",
    "from tensorflow import keras\n",
    "from tensorflow.keras import layers\n",
    "import matplotlib.pyplot as plt"
   ]
  },
  {
   "cell_type": "code",
   "execution_count": 13,
   "metadata": {},
   "outputs": [],
   "source": [
    "# Load the CIFAR10 data set\n",
    "(x_train, y_train), (x_test, y_test) = keras.datasets.cifar10.load_data()\n",
    "assert x_train.shape == (50000, 32, 32, 3)\n",
    "assert x_test.shape == (10000, 32, 32, 3)\n",
    "assert y_train.shape == (50000, 1)\n",
    "assert y_test.shape == (10000, 1)"
   ]
  },
  {
   "cell_type": "code",
   "execution_count": 14,
   "metadata": {},
   "outputs": [
    {
     "data": {
      "text/plain": [
       "(50000, 32, 32, 3)"
      ]
     },
     "execution_count": 14,
     "metadata": {},
     "output_type": "execute_result"
    }
   ],
   "source": [
    "x_train.shape"
   ]
  },
  {
   "cell_type": "code",
   "execution_count": 15,
   "metadata": {},
   "outputs": [
    {
     "data": {
      "text/plain": [
       "(32, 32, 3)"
      ]
     },
     "execution_count": 15,
     "metadata": {},
     "output_type": "execute_result"
    }
   ],
   "source": [
    "x_train[0].shape"
   ]
  },
  {
   "cell_type": "code",
   "execution_count": 16,
   "metadata": {},
   "outputs": [],
   "source": [
    "## Set aside a validation set (10,000 samples)\n",
    "# Data\n",
    "x_val = x_train[:10000]\n",
    "partial_x_train = x_train[10000:]\n",
    "# Labels\n",
    "y_val = y_train[:10000]\n",
    "partial_y_train = y_train[10000:]"
   ]
  },
  {
   "cell_type": "markdown",
   "metadata": {},
   "source": [
    "### 6.2.a - no dropout or data-augmentation"
   ]
  },
  {
   "cell_type": "code",
   "execution_count": 17,
   "metadata": {},
   "outputs": [],
   "source": [
    "# instantiate the convnet\n",
    "inputs = keras.Input(shape=(32, 32, 3))\n",
    "# x = layers.Rescaling(1./255)(inputs)\n",
    "x = layers.experimental.preprocessing.Rescaling(1./255)(inputs)\n",
    "x = layers.Conv2D(filters=32, kernel_size=3, activation=\"relu\")(x)\n",
    "x = layers.MaxPooling2D(pool_size=2)(x)\n",
    "x = layers.Conv2D(filters=64, kernel_size=3, activation=\"relu\")(x)\n",
    "x = layers.MaxPooling2D(pool_size=2)(x)\n",
    "x = layers.Conv2D(filters=128, kernel_size=3, activation=\"relu\")(x)\n",
    "# x = layers.MaxPooling2D(pool_size=2)(x)\n",
    "# x = layers.Conv2D(filters=256, kernel_size=3, activation=\"relu\")(x)\n",
    "# x = layers.MaxPooling2D(pool_size=2)(x)\n",
    "# x = layers.Conv2D(filters=256, kernel_size=3, activation=\"relu\")(x)\n",
    "x = layers.Flatten()(x)\n",
    "# outputs = layers.Dense(1, activation=\"sigmoid\")(x)\n",
    "outputs = layers.Dense(10, activation=\"softmax\")(x)\n",
    "model = keras.Model(inputs=inputs, outputs=outputs)"
   ]
  },
  {
   "cell_type": "code",
   "execution_count": 18,
   "metadata": {},
   "outputs": [],
   "source": [
    "# Compile model\n",
    "model.compile(optimizer=\"rmsprop\",\n",
    "    loss=\"sparse_categorical_crossentropy\",\n",
    "    metrics=[\"accuracy\"])"
   ]
  },
  {
   "cell_type": "code",
   "execution_count": 19,
   "metadata": {},
   "outputs": [
    {
     "name": "stdout",
     "output_type": "stream",
     "text": [
      "Epoch 1/30\n",
      "625/625 [==============================] - 12s 19ms/step - loss: 1.6749 - accuracy: 0.3956 - val_loss: 1.3218 - val_accuracy: 0.5351\n",
      "Epoch 2/30\n",
      "625/625 [==============================] - 12s 19ms/step - loss: 1.2798 - accuracy: 0.5494 - val_loss: 1.2975 - val_accuracy: 0.5364\n",
      "Epoch 3/30\n",
      "625/625 [==============================] - 12s 19ms/step - loss: 1.0948 - accuracy: 0.6201 - val_loss: 0.9894 - val_accuracy: 0.6585\n",
      "Epoch 4/30\n",
      "625/625 [==============================] - 12s 19ms/step - loss: 0.9714 - accuracy: 0.6625 - val_loss: 0.9711 - val_accuracy: 0.6655\n",
      "Epoch 5/30\n",
      "625/625 [==============================] - 12s 19ms/step - loss: 0.8751 - accuracy: 0.6955 - val_loss: 0.8855 - val_accuracy: 0.6970\n",
      "Epoch 6/30\n",
      "625/625 [==============================] - 12s 19ms/step - loss: 0.7986 - accuracy: 0.7243 - val_loss: 0.9430 - val_accuracy: 0.6754\n",
      "Epoch 7/30\n",
      "625/625 [==============================] - 12s 19ms/step - loss: 0.7353 - accuracy: 0.7462 - val_loss: 0.8892 - val_accuracy: 0.7013\n",
      "Epoch 8/30\n",
      "625/625 [==============================] - 12s 19ms/step - loss: 0.6771 - accuracy: 0.7682 - val_loss: 0.8083 - val_accuracy: 0.7277\n",
      "Epoch 9/30\n",
      "625/625 [==============================] - 12s 19ms/step - loss: 0.6227 - accuracy: 0.7857 - val_loss: 0.8382 - val_accuracy: 0.7174\n",
      "Epoch 10/30\n",
      "625/625 [==============================] - 12s 19ms/step - loss: 0.5722 - accuracy: 0.8029 - val_loss: 0.8602 - val_accuracy: 0.7222\n",
      "Epoch 11/30\n",
      "625/625 [==============================] - 12s 19ms/step - loss: 0.5253 - accuracy: 0.8191 - val_loss: 0.8367 - val_accuracy: 0.7326\n",
      "Epoch 12/30\n",
      "625/625 [==============================] - 12s 19ms/step - loss: 0.4839 - accuracy: 0.8328 - val_loss: 0.8494 - val_accuracy: 0.7247\n",
      "Epoch 13/30\n",
      "625/625 [==============================] - 12s 19ms/step - loss: 0.4387 - accuracy: 0.8492 - val_loss: 0.8623 - val_accuracy: 0.7352\n",
      "Epoch 14/30\n",
      "625/625 [==============================] - 12s 19ms/step - loss: 0.3987 - accuracy: 0.8615 - val_loss: 0.8900 - val_accuracy: 0.7301\n",
      "Epoch 15/30\n",
      "625/625 [==============================] - 12s 19ms/step - loss: 0.3602 - accuracy: 0.8751 - val_loss: 1.0151 - val_accuracy: 0.7077\n",
      "Epoch 16/30\n",
      "625/625 [==============================] - 12s 19ms/step - loss: 0.3291 - accuracy: 0.8864 - val_loss: 0.9659 - val_accuracy: 0.7270\n",
      "Epoch 17/30\n",
      "625/625 [==============================] - 12s 19ms/step - loss: 0.2892 - accuracy: 0.8977 - val_loss: 1.0175 - val_accuracy: 0.7255\n",
      "Epoch 18/30\n",
      "625/625 [==============================] - 12s 19ms/step - loss: 0.2609 - accuracy: 0.9103 - val_loss: 1.1298 - val_accuracy: 0.7206\n",
      "Epoch 19/30\n",
      "625/625 [==============================] - 12s 19ms/step - loss: 0.2328 - accuracy: 0.9189 - val_loss: 1.2529 - val_accuracy: 0.7116\n",
      "Epoch 20/30\n",
      "625/625 [==============================] - 12s 19ms/step - loss: 0.2127 - accuracy: 0.9254 - val_loss: 1.2291 - val_accuracy: 0.7206\n",
      "Epoch 21/30\n",
      "625/625 [==============================] - 12s 19ms/step - loss: 0.1889 - accuracy: 0.9348 - val_loss: 1.3192 - val_accuracy: 0.7273\n",
      "Epoch 22/30\n",
      "625/625 [==============================] - 12s 19ms/step - loss: 0.1694 - accuracy: 0.9410 - val_loss: 1.4192 - val_accuracy: 0.7107\n",
      "Epoch 23/30\n",
      "625/625 [==============================] - 12s 19ms/step - loss: 0.1529 - accuracy: 0.9476 - val_loss: 1.3779 - val_accuracy: 0.7216\n",
      "Epoch 24/30\n",
      "625/625 [==============================] - 12s 19ms/step - loss: 0.1358 - accuracy: 0.9533 - val_loss: 1.4977 - val_accuracy: 0.7162\n",
      "Epoch 25/30\n",
      "625/625 [==============================] - 12s 19ms/step - loss: 0.1262 - accuracy: 0.9560 - val_loss: 1.5019 - val_accuracy: 0.7189\n",
      "Epoch 26/30\n",
      "625/625 [==============================] - 12s 19ms/step - loss: 0.1126 - accuracy: 0.9607 - val_loss: 1.7034 - val_accuracy: 0.7034\n",
      "Epoch 27/30\n",
      "625/625 [==============================] - 12s 19ms/step - loss: 0.1038 - accuracy: 0.9629 - val_loss: 1.7339 - val_accuracy: 0.7055\n",
      "Epoch 28/30\n",
      "625/625 [==============================] - 12s 19ms/step - loss: 0.0972 - accuracy: 0.9654 - val_loss: 1.9812 - val_accuracy: 0.6968\n",
      "Epoch 29/30\n",
      "625/625 [==============================] - 12s 19ms/step - loss: 0.0888 - accuracy: 0.9688 - val_loss: 2.0522 - val_accuracy: 0.7097\n",
      "Epoch 30/30\n",
      "625/625 [==============================] - 12s 19ms/step - loss: 0.0871 - accuracy: 0.9691 - val_loss: 1.9442 - val_accuracy: 0.7127\n"
     ]
    }
   ],
   "source": [
    "history = model.fit(partial_x_train,\n",
    "                   partial_y_train,\n",
    "                   epochs=30,\n",
    "                   batch_size=64,\n",
    "                   validation_data=(x_val, y_val))"
   ]
  },
  {
   "cell_type": "code",
   "execution_count": 20,
   "metadata": {},
   "outputs": [
    {
     "data": {
      "image/png": "[encoded data removed]",
      "text/plain": [
       "<Figure size 432x288 with 1 Axes>"
      ]
     },
     "metadata": {
      "needs_background": "light"
     },
     "output_type": "display_data"
    },
    {
     "data": {
      "image/png": "[encoded data removed]",
      "text/plain": [
       "<Figure size 432x288 with 1 Axes>"
      ]
     },
     "metadata": {
      "needs_background": "light"
     },
     "output_type": "display_data"
    }
   ],
   "source": [
    "# Plot\n",
    "accuracy = history.history[\"accuracy\"]\n",
    "val_accuracy = history.history[\"val_accuracy\"]\n",
    "loss = history.history[\"loss\"]\n",
    "val_loss = history.history[\"val_loss\"]\n",
    "epochs = range(1, len(accuracy) + 1)\n",
    "plt.plot(epochs, accuracy, \"bo\", label=\"Training accuracy\")\n",
    "plt.plot(epochs, val_accuracy, \"b\", label=\"Validation accuracy\")\n",
    "plt.title(\"Training and validation accuracy\")\n",
    "plt.legend()\n",
    "plt.figure()\n",
    "plt.plot(epochs, loss, \"bo\", label=\"Training loss\")\n",
    "plt.plot(epochs, val_loss, \"b\", label=\"Validation loss\")\n",
    "plt.title(\"Training and validation loss\")\n",
    "plt.legend()\n",
    "plt.show()"
   ]
  },
  {
   "cell_type": "code",
   "execution_count": 21,
   "metadata": {
    "scrolled": true
   },
   "outputs": [
    {
     "name": "stdout",
     "output_type": "stream",
     "text": [
      "313/313 [==============================] - 2s 5ms/step - loss: 1.9764 - accuracy: 0.7040\n",
      "Test accuracy: 70.4%\n",
      "Test loss: 1.976\n"
     ]
    }
   ],
   "source": [
    "# Evaluate the convnet\n",
    "test_loss, test_acc = model.evaluate(x_test, y_test)\n",
    "print(f'Test accuracy: {test_acc*100:.1f}%')\n",
    "print(f'Test loss: {test_loss:.3f}')"
   ]
  },
  {
   "cell_type": "code",
   "execution_count": null,
   "metadata": {},
   "outputs": [],
   "source": []
  },
  {
   "cell_type": "code",
   "execution_count": null,
   "metadata": {},
   "outputs": [],
   "source": []
  },
  {
   "cell_type": "markdown",
   "metadata": {},
   "source": [
    "### 6.2.b - with dropout and data-augmentation"
   ]
  },
  {
   "cell_type": "code",
   "execution_count": 22,
   "metadata": {},
   "outputs": [],
   "source": [
    "# import tensorflow as tf"
   ]
  },
  {
   "cell_type": "code",
   "execution_count": 23,
   "metadata": {},
   "outputs": [],
   "source": [
    "# from tensorflow.keras.layers import RandomZoom"
   ]
  },
  {
   "cell_type": "code",
   "execution_count": 24,
   "metadata": {},
   "outputs": [],
   "source": [
    "# layers.experimental.preprocessing."
   ]
  },
  {
   "cell_type": "code",
   "execution_count": 25,
   "metadata": {},
   "outputs": [],
   "source": [
    "# define a data augmentation stage to add to the image model\n",
    "data_augmentation = keras.Sequential(\n",
    "    [\n",
    "        layers.experimental.preprocessing.RandomFlip(\"horizontal\"),\n",
    "        layers.experimental.preprocessing.RandomRotation(0.1),\n",
    "#         layers.experimental.preprocessing.RandomZoom(0.2),\n",
    "#         tf.compat.v1.keras.layers.experimental.preprocessing.RandomZoom(0.2),\n",
    "]\n",
    ")"
   ]
  },
  {
   "cell_type": "code",
   "execution_count": 26,
   "metadata": {},
   "outputs": [],
   "source": [
    "# instantiate the convnet that includes image augmentation and dropout\n",
    "inputs = keras.Input(shape=(32, 32, 3))\n",
    "x = data_augmentation(inputs)\n",
    "# x = layers.Rescaling(1./255)(inputs)\n",
    "x = layers.experimental.preprocessing.Rescaling(1./255)(inputs)\n",
    "x = layers.Conv2D(filters=32, kernel_size=3, activation=\"relu\")(x)\n",
    "x = layers.MaxPooling2D(pool_size=2)(x)\n",
    "x = layers.Conv2D(filters=64, kernel_size=3, activation=\"relu\")(x)\n",
    "x = layers.MaxPooling2D(pool_size=2)(x)\n",
    "x = layers.Conv2D(filters=128, kernel_size=3, activation=\"relu\")(x)\n",
    "# x = layers.MaxPooling2D(pool_size=2)(x)\n",
    "# x = layers.Conv2D(filters=256, kernel_size=3, activation=\"relu\")(x)\n",
    "# x = layers.MaxPooling2D(pool_size=2)(x)\n",
    "# x = layers.Conv2D(filters=256, kernel_size=3, activation=\"relu\")(x)\n",
    "x = layers.Flatten()(x)\n",
    "x = layers.Dropout(0.5)(x)\n",
    "# outputs = layers.Dense(1, activation=\"sigmoid\")(x)\n",
    "outputs = layers.Dense(10, activation=\"softmax\")(x)\n",
    "model = keras.Model(inputs=inputs, outputs=outputs)"
   ]
  },
  {
   "cell_type": "code",
   "execution_count": 27,
   "metadata": {},
   "outputs": [],
   "source": [
    "# # define a new convnet that includes image augmentation and dropout\n",
    "# inputs = keras.Input(shape=(32, 32, 3))\n",
    "# x = data_augmentation(inputs)\n",
    "# # x = layers.Rescaling(1./255)(x)\n",
    "# x = layers.experimental.preprocessing.Rescaling(1./255)(inputs)\n",
    "# x = layers.Conv2D(filters=32, kernel_size=3, activation=\"relu\")(x)\n",
    "# x = layers.MaxPooling2D(pool_size=2)(x)\n",
    "# x = layers.Conv2D(filters=64, kernel_size=3, activation=\"relu\")(x)\n",
    "# x = layers.MaxPooling2D(pool_size=2)(x)\n",
    "# x = layers.Conv2D(filters=128, kernel_size=3, activation=\"relu\")(x)\n",
    "# # x = layers.MaxPooling2D(pool_size=2)(x)\n",
    "# # x = layers.Conv2D(filters=256, kernel_size=3, activation=\"relu\")(x)\n",
    "# # x = layers.MaxPooling2D(pool_size=2)(x)\n",
    "# # x = layers.Conv2D(filters=256, kernel_size=3, activation=\"relu\")(x)\n",
    "# x = layers.Flatten()(x)\n",
    "# x = layers.Dropout(0.5)(x)\n",
    "# outputs = layers.Dense(1, activation=\"sigmoid\")(x)\n",
    "# model = keras.Model(inputs=inputs, outputs=outputs)"
   ]
  },
  {
   "cell_type": "code",
   "execution_count": 28,
   "metadata": {},
   "outputs": [],
   "source": [
    "# Compile model\n",
    "model.compile(optimizer=\"rmsprop\",\n",
    "    loss=\"sparse_categorical_crossentropy\",\n",
    "    metrics=[\"accuracy\"])"
   ]
  },
  {
   "cell_type": "code",
   "execution_count": 29,
   "metadata": {},
   "outputs": [
    {
     "name": "stdout",
     "output_type": "stream",
     "text": [
      "Epoch 1/30\n",
      "625/625 [==============================] - 12s 20ms/step - loss: 1.7153 - accuracy: 0.3756 - val_loss: 1.3685 - val_accuracy: 0.5041\n",
      "Epoch 2/30\n",
      "625/625 [==============================] - 12s 19ms/step - loss: 1.3515 - accuracy: 0.5186 - val_loss: 1.2992 - val_accuracy: 0.5391\n",
      "Epoch 3/30\n",
      "625/625 [==============================] - 12s 19ms/step - loss: 1.1840 - accuracy: 0.5827 - val_loss: 1.1495 - val_accuracy: 0.6051\n",
      "Epoch 4/30\n",
      "625/625 [==============================] - 12s 19ms/step - loss: 1.0760 - accuracy: 0.6235 - val_loss: 0.9899 - val_accuracy: 0.6565\n",
      "Epoch 5/30\n",
      "625/625 [==============================] - 12s 19ms/step - loss: 0.9950 - accuracy: 0.6546 - val_loss: 0.9552 - val_accuracy: 0.6683\n",
      "Epoch 6/30\n",
      "625/625 [==============================] - 12s 19ms/step - loss: 0.9340 - accuracy: 0.6754 - val_loss: 0.8681 - val_accuracy: 0.7027\n",
      "Epoch 7/30\n",
      "625/625 [==============================] - 12s 19ms/step - loss: 0.8837 - accuracy: 0.6938 - val_loss: 0.9034 - val_accuracy: 0.6921\n",
      "Epoch 8/30\n",
      "625/625 [==============================] - 12s 19ms/step - loss: 0.8366 - accuracy: 0.7097 - val_loss: 0.8388 - val_accuracy: 0.7108\n",
      "Epoch 9/30\n",
      "625/625 [==============================] - 12s 19ms/step - loss: 0.8034 - accuracy: 0.7216 - val_loss: 0.7894 - val_accuracy: 0.7252\n",
      "Epoch 10/30\n",
      "625/625 [==============================] - 12s 19ms/step - loss: 0.7724 - accuracy: 0.7313 - val_loss: 0.7887 - val_accuracy: 0.7283\n",
      "Epoch 11/30\n",
      "625/625 [==============================] - 12s 19ms/step - loss: 0.7449 - accuracy: 0.7438 - val_loss: 0.8345 - val_accuracy: 0.7179\n",
      "Epoch 12/30\n",
      "625/625 [==============================] - 12s 19ms/step - loss: 0.7227 - accuracy: 0.7475 - val_loss: 0.7798 - val_accuracy: 0.7340\n",
      "Epoch 13/30\n",
      "625/625 [==============================] - 12s 19ms/step - loss: 0.6995 - accuracy: 0.7578 - val_loss: 0.8892 - val_accuracy: 0.7069\n",
      "Epoch 14/30\n",
      "625/625 [==============================] - 12s 19ms/step - loss: 0.6770 - accuracy: 0.7656 - val_loss: 0.8051 - val_accuracy: 0.7204\n",
      "Epoch 15/30\n",
      "625/625 [==============================] - 12s 19ms/step - loss: 0.6598 - accuracy: 0.7701 - val_loss: 0.7648 - val_accuracy: 0.7379\n",
      "Epoch 16/30\n",
      "625/625 [==============================] - 12s 19ms/step - loss: 0.6386 - accuracy: 0.7785 - val_loss: 0.7717 - val_accuracy: 0.7374\n",
      "Epoch 17/30\n",
      "625/625 [==============================] - 12s 19ms/step - loss: 0.6292 - accuracy: 0.7828 - val_loss: 0.7512 - val_accuracy: 0.7481\n",
      "Epoch 18/30\n",
      "625/625 [==============================] - 12s 19ms/step - loss: 0.6133 - accuracy: 0.7871 - val_loss: 0.7556 - val_accuracy: 0.7493\n",
      "Epoch 19/30\n",
      "625/625 [==============================] - 12s 19ms/step - loss: 0.5970 - accuracy: 0.7930 - val_loss: 0.7737 - val_accuracy: 0.7368\n",
      "Epoch 20/30\n",
      "625/625 [==============================] - 12s 19ms/step - loss: 0.5874 - accuracy: 0.7970 - val_loss: 0.8372 - val_accuracy: 0.7242\n",
      "Epoch 21/30\n",
      "625/625 [==============================] - 12s 19ms/step - loss: 0.5754 - accuracy: 0.8034 - val_loss: 0.8004 - val_accuracy: 0.7414\n",
      "Epoch 22/30\n",
      "625/625 [==============================] - 12s 19ms/step - loss: 0.5621 - accuracy: 0.8066 - val_loss: 0.7911 - val_accuracy: 0.7404\n",
      "Epoch 23/30\n",
      "625/625 [==============================] - 12s 19ms/step - loss: 0.5535 - accuracy: 0.8085 - val_loss: 0.7746 - val_accuracy: 0.7571\n",
      "Epoch 24/30\n",
      "625/625 [==============================] - 12s 19ms/step - loss: 0.5429 - accuracy: 0.8129 - val_loss: 0.7577 - val_accuracy: 0.7546\n",
      "Epoch 25/30\n",
      "625/625 [==============================] - 12s 19ms/step - loss: 0.5371 - accuracy: 0.8119 - val_loss: 0.7606 - val_accuracy: 0.7593\n",
      "Epoch 26/30\n",
      "625/625 [==============================] - 12s 19ms/step - loss: 0.5236 - accuracy: 0.8187 - val_loss: 0.7561 - val_accuracy: 0.7532\n",
      "Epoch 27/30\n",
      "625/625 [==============================] - 12s 19ms/step - loss: 0.5198 - accuracy: 0.8194 - val_loss: 0.8551 - val_accuracy: 0.7343\n",
      "Epoch 28/30\n",
      "625/625 [==============================] - 12s 19ms/step - loss: 0.5120 - accuracy: 0.8228 - val_loss: 0.7512 - val_accuracy: 0.7557\n",
      "Epoch 29/30\n",
      "625/625 [==============================] - 12s 19ms/step - loss: 0.5026 - accuracy: 0.8243 - val_loss: 0.7943 - val_accuracy: 0.7491\n",
      "Epoch 30/30\n",
      "625/625 [==============================] - 12s 19ms/step - loss: 0.4965 - accuracy: 0.8267 - val_loss: 0.7707 - val_accuracy: 0.7562\n"
     ]
    }
   ],
   "source": [
    "history = model.fit(partial_x_train,\n",
    "                   partial_y_train,\n",
    "                   epochs=30,\n",
    "                   batch_size=64,\n",
    "                   validation_data=(x_val, y_val))"
   ]
  },
  {
   "cell_type": "code",
   "execution_count": 30,
   "metadata": {},
   "outputs": [
    {
     "data": {
      "image/png": "[encoded data removed]",
      "text/plain": [
       "<Figure size 432x288 with 1 Axes>"
      ]
     },
     "metadata": {
      "needs_background": "light"
     },
     "output_type": "display_data"
    },
    {
     "data": {
      "image/png": "[encoded data removed]",
      "text/plain": [
       "<Figure size 432x288 with 1 Axes>"
      ]
     },
     "metadata": {
      "needs_background": "light"
     },
     "output_type": "display_data"
    }
   ],
   "source": [
    "# Plot\n",
    "accuracy = history.history[\"accuracy\"]\n",
    "val_accuracy = history.history[\"val_accuracy\"]\n",
    "loss = history.history[\"loss\"]\n",
    "val_loss = history.history[\"val_loss\"]\n",
    "epochs = range(1, len(accuracy) + 1)\n",
    "plt.plot(epochs, accuracy, \"bo\", label=\"Training accuracy\")\n",
    "plt.plot(epochs, val_accuracy, \"b\", label=\"Validation accuracy\")\n",
    "plt.title(\"Training and validation accuracy\")\n",
    "plt.legend()\n",
    "plt.figure()\n",
    "plt.plot(epochs, loss, \"bo\", label=\"Training loss\")\n",
    "plt.plot(epochs, val_loss, \"b\", label=\"Validation loss\")\n",
    "plt.title(\"Training and validation loss\")\n",
    "plt.legend()\n",
    "plt.show()"
   ]
  },
  {
   "cell_type": "code",
   "execution_count": 31,
   "metadata": {
    "scrolled": true
   },
   "outputs": [
    {
     "name": "stdout",
     "output_type": "stream",
     "text": [
      "313/313 [==============================] - 2s 5ms/step - loss: 0.7878 - accuracy: 0.7514\n",
      "Test accuracy: 75.1%\n",
      "Test loss: 0.788\n"
     ]
    }
   ],
   "source": [
    "# Evaluate the convnet\n",
    "test_loss, test_acc = model.evaluate(x_test, y_test)\n",
    "print(f'Test accuracy: {test_acc*100:.1f}%')\n",
    "print(f'Test loss: {test_loss:.3f}')"
   ]
  },
  {
   "cell_type": "code",
   "execution_count": null,
   "metadata": {},
   "outputs": [],
   "source": []
  },
  {
   "cell_type": "markdown",
   "metadata": {},
   "source": [
    "## 6.3 ResNet50 model: image classification"
   ]
  },
  {
   "cell_type": "code",
   "execution_count": 32,
   "metadata": {},
   "outputs": [],
   "source": [
    "# Load libraries\n",
    "from tensorflow.keras.applications.resnet50 import ResNet50\n",
    "from tensorflow.keras.preprocessing import image\n",
    "from tensorflow.keras.applications.resnet50 import preprocess_input, decode_predictions\n",
    "import numpy as np"
   ]
  },
  {
   "cell_type": "code",
   "execution_count": 33,
   "metadata": {},
   "outputs": [],
   "source": [
    "# Load model\n",
    "model = ResNet50(weights='imagenet')"
   ]
  },
  {
   "cell_type": "code",
   "execution_count": 34,
   "metadata": {},
   "outputs": [
    {
     "name": "stdout",
     "output_type": "stream",
     "text": [
      "Predicted: [('n02504458', 'African_elephant', 0.88571393), ('n01871265', 'tusker', 0.06552583), ('n02504013', 'Indian_elephant', 0.036657803)]\n"
     ]
    }
   ],
   "source": [
    "# Classify image of elephant\n",
    "img_path = 'images/elephant.jpg'\n",
    "img = image.load_img(img_path, target_size=(224, 224))\n",
    "x = image.img_to_array(img)\n",
    "x = np.expand_dims(x, axis=0)\n",
    "x = preprocess_input(x)\n",
    "\n",
    "preds = model.predict(x)\n",
    "\n",
    "# decode the results into a list of tuples (class, description, probability)\n",
    "print('Predicted:', decode_predictions(preds, top=3)[0])"
   ]
  },
  {
   "cell_type": "code",
   "execution_count": 35,
   "metadata": {},
   "outputs": [
    {
     "name": "stdout",
     "output_type": "stream",
     "text": [
      "Predicted: [('n02056570', 'king_penguin', 0.88084424), ('n02058221', 'albatross', 0.098850325), ('n01855032', 'red-breasted_merganser', 0.0064048013)]\n"
     ]
    }
   ],
   "source": [
    "# Classify image of penguin\n",
    "img_path = 'images/penguin.jpg'\n",
    "img = image.load_img(img_path, target_size=(224, 224))\n",
    "x = image.img_to_array(img)\n",
    "x = np.expand_dims(x, axis=0)\n",
    "x = preprocess_input(x)\n",
    "\n",
    "preds = model.predict(x)\n",
    "\n",
    "# decode the results into a list of tuples (class, description, probability)\n",
    "print('Predicted:', decode_predictions(preds, top=3)[0])"
   ]
  },
  {
   "cell_type": "code",
   "execution_count": 36,
   "metadata": {},
   "outputs": [
    {
     "name": "stdout",
     "output_type": "stream",
     "text": [
      "Predicted: [('n02526121', 'eel', 0.36378446), ('n09256479', 'coral_reef', 0.15230681), ('n01496331', 'electric_ray', 0.08756326)]\n"
     ]
    }
   ],
   "source": [
    "# Classify image of cuttlefish\n",
    "img_path = 'images/cuttlefish.jpg'\n",
    "img = image.load_img(img_path, target_size=(224, 224))\n",
    "x = image.img_to_array(img)\n",
    "x = np.expand_dims(x, axis=0)\n",
    "x = preprocess_input(x)\n",
    "\n",
    "preds = model.predict(x)\n",
    "\n",
    "# decode the results into a list of tuples (class, description, probability)\n",
    "print('Predicted:', decode_predictions(preds, top=3)[0])"
   ]
  },
  {
   "cell_type": "code",
   "execution_count": 37,
   "metadata": {},
   "outputs": [
    {
     "name": "stdout",
     "output_type": "stream",
     "text": [
      "Predicted: [('n02128925', 'jaguar', 0.84859693), ('n02128385', 'leopard', 0.10983749), ('n02129604', 'tiger', 0.016701555)]\n"
     ]
    }
   ],
   "source": [
    "# Classify image of ocelot\n",
    "img_path = 'images/ocelot.jpg'\n",
    "img = image.load_img(img_path, target_size=(224, 224))\n",
    "x = image.img_to_array(img)\n",
    "x = np.expand_dims(x, axis=0)\n",
    "x = preprocess_input(x)\n",
    "\n",
    "preds = model.predict(x)\n",
    "\n",
    "# decode the results into a list of tuples (class, description, probability)\n",
    "print('Predicted:', decode_predictions(preds, top=3)[0])"
   ]
  },
  {
   "cell_type": "code",
   "execution_count": 38,
   "metadata": {},
   "outputs": [
    {
     "name": "stdout",
     "output_type": "stream",
     "text": [
      "Predicted: [('n02071294', 'killer_whale', 0.49826032), ('n01484850', 'great_white_shark', 0.14165588), ('n02066245', 'grey_whale', 0.1368286)]\n"
     ]
    }
   ],
   "source": [
    "# Classify image of sperm whale\n",
    "img_path = 'images/sperm_whale.jpg'\n",
    "img = image.load_img(img_path, target_size=(224, 224))\n",
    "x = image.img_to_array(img)\n",
    "x = np.expand_dims(x, axis=0)\n",
    "x = preprocess_input(x)\n",
    "\n",
    "preds = model.predict(x)\n",
    "\n",
    "# decode the results into a list of tuples (class, description, probability)\n",
    "print('Predicted:', decode_predictions(preds, top=3)[0])"
   ]
  },
  {
   "cell_type": "code",
   "execution_count": 39,
   "metadata": {},
   "outputs": [
    {
     "name": "stdout",
     "output_type": "stream",
     "text": [
      "Predicted: [('n03991062', 'pot', 0.95239794), ('n04522168', 'vase', 0.023219729), ('n02797295', 'barrow', 0.0024953063)]\n"
     ]
    }
   ],
   "source": [
    "# Classify image of bowl of petunias\n",
    "img_path = 'images/bowl_of_petunias.jpg'\n",
    "img = image.load_img(img_path, target_size=(224, 224))\n",
    "x = image.img_to_array(img)\n",
    "x = np.expand_dims(x, axis=0)\n",
    "x = preprocess_input(x)\n",
    "\n",
    "preds = model.predict(x)\n",
    "\n",
    "# decode the results into a list of tuples (class, description, probability)\n",
    "print('Predicted:', decode_predictions(preds, top=3)[0])"
   ]
  },
  {
   "cell_type": "code",
   "execution_count": 40,
   "metadata": {},
   "outputs": [
    {
     "name": "stdout",
     "output_type": "stream",
     "text": [
      "Predicted: [('n06359193', 'web_site', 0.263159), ('n03720891', 'maraca', 0.095758), ('n02834397', 'bib', 0.042007394)]\n"
     ]
    }
   ],
   "source": [
    "# Classify image of hitchhiker\n",
    "img_path = 'images/cosmic_cutie.jpg'\n",
    "img = image.load_img(img_path, target_size=(224, 224))\n",
    "x = image.img_to_array(img)\n",
    "x = np.expand_dims(x, axis=0)\n",
    "x = preprocess_input(x)\n",
    "\n",
    "preds = model.predict(x)\n",
    "\n",
    "# decode the results into a list of tuples (class, description, probability)\n",
    "print('Predicted:', decode_predictions(preds, top=3)[0])"
   ]
  },
  {
   "cell_type": "code",
   "execution_count": 41,
   "metadata": {},
   "outputs": [
    {
     "name": "stdout",
     "output_type": "stream",
     "text": [
      "Predicted: [('n03532672', 'hook', 0.24600993), ('n03476684', 'hair_slide', 0.120847315), ('n02910353', 'buckle', 0.06853741)]\n"
     ]
    }
   ],
   "source": [
    "# Classify image of answer to life, the universe, and everything\n",
    "img_path = 'images/42.jpg'\n",
    "img = image.load_img(img_path, target_size=(224, 224))\n",
    "x = image.img_to_array(img)\n",
    "x = np.expand_dims(x, axis=0)\n",
    "x = preprocess_input(x)\n",
    "\n",
    "preds = model.predict(x)\n",
    "\n",
    "# decode the results into a list of tuples (class, description, probability)\n",
    "print('Predicted:', decode_predictions(preds, top=3)[0])"
   ]
  },
  {
   "cell_type": "code",
   "execution_count": null,
   "metadata": {},
   "outputs": [],
   "source": []
  },
  {
   "cell_type": "code",
   "execution_count": null,
   "metadata": {},
   "outputs": [],
   "source": []
  },
  {
   "cell_type": "code",
   "execution_count": null,
   "metadata": {},
   "outputs": [],
   "source": []
  }
 ],
 "metadata": {
  "kernelspec": {
   "display_name": "Python 3",
   "language": "python",
   "name": "python3"
  },
  "language_info": {
   "codemirror_mode": {
    "name": "ipython",
    "version": 3
   },
   "file_extension": ".py",
   "mimetype": "text/x-python",
   "name": "python",
   "nbconvert_exporter": "python",
   "pygments_lexer": "ipython3",
   "version": "3.8.3"
  }
 },
 "nbformat": 4,
 "nbformat_minor": 4
}
