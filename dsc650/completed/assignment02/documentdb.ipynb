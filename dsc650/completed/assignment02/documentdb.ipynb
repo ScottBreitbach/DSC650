{
 "cells": [
  {
   "cell_type": "code",
   "execution_count": 1,
   "metadata": {},
   "outputs": [],
   "source": [
    "# load libraries\n",
    "from pathlib import Path\n",
    "import json\n",
    "import os\n",
    "from tinydb import TinyDB"
   ]
  },
  {
   "cell_type": "code",
   "execution_count": 2,
   "metadata": {},
   "outputs": [],
   "source": [
    "# set file directories\n",
    "current_dir = Path(os.getcwd()).absolute()\n",
    "results_dir = current_dir.joinpath('results')\n",
    "kv_data_dir = results_dir.joinpath('kvdb')\n",
    "kv_data_dir.mkdir(parents=True, exist_ok=True)"
   ]
  },
  {
   "cell_type": "code",
   "execution_count": 3,
   "metadata": {},
   "outputs": [],
   "source": [
    "def _load_json(json_path):\n",
    "    '''loads data from .json file'''\n",
    "    with open(json_path) as f:\n",
    "        return json.load(f)"
   ]
  },
  {
   "cell_type": "code",
   "execution_count": 4,
   "metadata": {},
   "outputs": [],
   "source": [
    "class DocumentDB(object):\n",
    "    def __init__(self, db_path):\n",
    "        ## You can use the code from the previous exmaple if you would like\n",
    "        people_json = kv_data_dir.joinpath('people.json')\n",
    "        visited_json = kv_data_dir.joinpath('single_key_visited.json')\n",
    "        sites_json = kv_data_dir.joinpath('sites.json')\n",
    "        measurements_json = kv_data_dir.joinpath('measurements.json')\n",
    "        self._db_path = Path(db_path)\n",
    "        self._db = None\n",
    "        \n",
    "        ## TODO\n",
    "        # load json data:\n",
    "        self._person_lookup = _load_json(people_json)\n",
    "        self._visit_lookup = _load_json(visited_json)\n",
    "        self._site_lookup = _load_json(sites_json)\n",
    "        self._measurements_lookup = _load_json(measurements_json)        \n",
    "        \n",
    "        self._load_db()\n",
    "        \n",
    "    def _get_site(self, site_id):\n",
    "        '''returns info about individual site'''\n",
    "        return self._site_lookup[str(site_id)]\n",
    "\n",
    "    def _get_measurements(self, person_id):\n",
    "        '''returns list of dictionaries of measurements associated with person_id'''\n",
    "        measurements = []\n",
    "        measurements.extend([\n",
    "            values for values in self._measurements_lookup.values() \n",
    "            if str(values['person_id']) == str(person_id)\n",
    "        ])\n",
    "        return measurements\n",
    "\n",
    "    def _get_visit(self, visit_id):\n",
    "        '''returns visit information about a specified site visit_id'''\n",
    "        # retrieve corresponding row of info from visit:\n",
    "        visit = self._visit_lookup.get(str(visit_id)) # {'visit_id':, 'site_id':, 'visit_date':}\n",
    "        \n",
    "        ## TODO: \n",
    "        site_id = visit['site_id'] # extract site_id from visit info\n",
    "        \n",
    "        ## TODO: \n",
    "        site = self._get_site(site_id) # retrieve info about site\n",
    "        \n",
    "        visit['site'] = site # append site info to visit info\n",
    "        return visit\n",
    "\n",
    "    def _load_db(self):\n",
    "        self._db = TinyDB(self._db_path)\n",
    "        # return dict_items of people_json:\n",
    "        persons = self._person_lookup.items()\n",
    "        for person_id, record in persons:\n",
    "            # return individual's list of records:\n",
    "            measurements = self._get_measurements(person_id)\n",
    "            # extract set of unique visit_id's from id's in list of measurements\n",
    "            visit_ids = set([measurement['visit_id'] for measurement in measurements])\n",
    "            visits = []\n",
    "            for visit_id in visit_ids: # iterate through set of individual's visit_id's\n",
    "                visit = self._get_visit(visit_id) # returns info from visit\n",
    "                # add measurement info from visit:\n",
    "                visit['measurements'] = [\n",
    "                    measurement for measurement in measurements\n",
    "                    if visit_id == measurement['visit_id']\n",
    "                ]\n",
    "                visits.append(visit) \n",
    "            record['visits'] = visits # add visit info to record\n",
    "            self._db.insert(record)"
   ]
  },
  {
   "cell_type": "code",
   "execution_count": 5,
   "metadata": {},
   "outputs": [],
   "source": [
    "db_path = results_dir.joinpath('patient-info.json')\n",
    "if db_path.exists():\n",
    "    os.remove(db_path)\n",
    "\n",
    "db = DocumentDB(db_path)"
   ]
  },
  {
   "cell_type": "code",
   "execution_count": null,
   "metadata": {},
   "outputs": [],
   "source": []
  }
 ],
 "metadata": {
  "kernelspec": {
   "display_name": "Python 3",
   "language": "python",
   "name": "python3"
  },
  "language_info": {
   "codemirror_mode": {
    "name": "ipython",
    "version": 3
   },
   "file_extension": ".py",
   "mimetype": "text/x-python",
   "name": "python",
   "nbconvert_exporter": "python",
   "pygments_lexer": "ipython3",
   "version": "3.8.3"
  }
 },
 "nbformat": 4,
 "nbformat_minor": 4
}
