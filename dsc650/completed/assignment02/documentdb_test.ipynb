{
 "cells": [
  {
   "cell_type": "code",
   "execution_count": null,
   "metadata": {},
   "outputs": [],
   "source": [
    "# Load libraries\n",
    "from pathlib import Path\n",
    "import json\n",
    "import os\n",
    "\n",
    "from tinydb import TinyDB"
   ]
  },
  {
   "cell_type": "code",
   "execution_count": null,
   "metadata": {},
   "outputs": [],
   "source": [
    "# Create directory\n",
    "current_dir = Path(os.getcwd()).absolute()\n",
    "results_dir = current_dir.joinpath('results')\n",
    "kv_data_dir = results_dir.joinpath('kvdb')\n",
    "kv_data_dir.mkdir(parents=True, exist_ok=True)"
   ]
  },
  {
   "cell_type": "code",
   "execution_count": null,
   "metadata": {},
   "outputs": [],
   "source": [
    "# current_dir"
   ]
  },
  {
   "cell_type": "code",
   "execution_count": null,
   "metadata": {},
   "outputs": [],
   "source": [
    "# results_dir"
   ]
  },
  {
   "cell_type": "code",
   "execution_count": null,
   "metadata": {},
   "outputs": [],
   "source": [
    "# kv_data_dir"
   ]
  },
  {
   "cell_type": "code",
   "execution_count": null,
   "metadata": {},
   "outputs": [],
   "source": []
  },
  {
   "cell_type": "markdown",
   "metadata": {},
   "source": [
    "TRY OUT TINYDB:"
   ]
  },
  {
   "cell_type": "code",
   "execution_count": null,
   "metadata": {},
   "outputs": [],
   "source": [
    "people_json = kv_data_dir.joinpath('people.json')"
   ]
  },
  {
   "cell_type": "code",
   "execution_count": null,
   "metadata": {},
   "outputs": [],
   "source": [
    "testDB = TinyDB(people_json)"
   ]
  },
  {
   "cell_type": "code",
   "execution_count": null,
   "metadata": {},
   "outputs": [],
   "source": [
    "testDB"
   ]
  },
  {
   "cell_type": "code",
   "execution_count": null,
   "metadata": {},
   "outputs": [],
   "source": [
    "testDB.all()"
   ]
  },
  {
   "cell_type": "code",
   "execution_count": null,
   "metadata": {},
   "outputs": [],
   "source": [
    "testDB.tables()"
   ]
  },
  {
   "cell_type": "code",
   "execution_count": null,
   "metadata": {},
   "outputs": [],
   "source": [
    "for item in testDB:\n",
    "    print(item)"
   ]
  },
  {
   "cell_type": "markdown",
   "metadata": {},
   "source": [
    "Scratch head for a bit..."
   ]
  },
  {
   "cell_type": "code",
   "execution_count": null,
   "metadata": {},
   "outputs": [],
   "source": [
    "from tinydb import Query\n",
    "User = Query()"
   ]
  },
  {
   "cell_type": "code",
   "execution_count": null,
   "metadata": {},
   "outputs": [],
   "source": [
    "testDB.search(User['person_id'] == 'dyer')"
   ]
  },
  {
   "cell_type": "code",
   "execution_count": null,
   "metadata": {},
   "outputs": [],
   "source": [
    "from tinydb import where\n",
    "testDB.search(where('person_id') == 'dyer')"
   ]
  },
  {
   "cell_type": "code",
   "execution_count": null,
   "metadata": {},
   "outputs": [],
   "source": [
    "testDB.search(User.person_id.exists())"
   ]
  },
  {
   "cell_type": "code",
   "execution_count": null,
   "metadata": {},
   "outputs": [],
   "source": [
    "testDB.search(User.groups.any(['person_id']))"
   ]
  },
  {
   "cell_type": "code",
   "execution_count": null,
   "metadata": {},
   "outputs": [],
   "source": [
    "dyer = testDB.table('dyer')\n",
    "dyer"
   ]
  },
  {
   "cell_type": "code",
   "execution_count": null,
   "metadata": {},
   "outputs": [],
   "source": [
    "testDB.tables()"
   ]
  },
  {
   "cell_type": "markdown",
   "metadata": {},
   "source": [
    "LEARN SOME STUFF FIRST:"
   ]
  },
  {
   "cell_type": "code",
   "execution_count": null,
   "metadata": {},
   "outputs": [],
   "source": [
    "# set up a TinyDB\n",
    "db = TinyDB('db.json')"
   ]
  },
  {
   "cell_type": "code",
   "execution_count": null,
   "metadata": {},
   "outputs": [],
   "source": [
    "# insert data (in Python dicts)\n",
    "db.insert({'type': 'apple', 'count': 7})\n",
    "db.insert({'type': 'peach', 'count': 3})"
   ]
  },
  {
   "cell_type": "code",
   "execution_count": null,
   "metadata": {},
   "outputs": [],
   "source": [
    "# show the docs stored\n",
    "db.all()"
   ]
  },
  {
   "cell_type": "code",
   "execution_count": null,
   "metadata": {},
   "outputs": [],
   "source": [
    "# iter over stored docs\n",
    "for item in db:\n",
    "    print(item)"
   ]
  },
  {
   "cell_type": "code",
   "execution_count": null,
   "metadata": {},
   "outputs": [],
   "source": [
    "# search for specific docs\n",
    "from tinydb import Query\n",
    "\n",
    "Fruit = Query()\n",
    "db.search(Fruit.type == 'peach')"
   ]
  },
  {
   "cell_type": "code",
   "execution_count": null,
   "metadata": {},
   "outputs": [],
   "source": [
    "db.search(Fruit.count > 5)"
   ]
  },
  {
   "cell_type": "code",
   "execution_count": null,
   "metadata": {},
   "outputs": [],
   "source": [
    "# update apple count field\n",
    "db.update({'count': 10}, Fruit.type == 'apple')\n",
    "db.all()"
   ]
  },
  {
   "cell_type": "code",
   "execution_count": null,
   "metadata": {},
   "outputs": [],
   "source": [
    "# remove docs\n",
    "db.remove(Fruit.count < 5)\n",
    "db.all()"
   ]
  },
  {
   "cell_type": "code",
   "execution_count": null,
   "metadata": {
    "scrolled": true
   },
   "outputs": [],
   "source": [
    "# throw away all the data in the DB (make empty)\n",
    "db.truncate()\n",
    "db.all()"
   ]
  },
  {
   "cell_type": "code",
   "execution_count": null,
   "metadata": {},
   "outputs": [],
   "source": [
    "people_path = kv_data_dir.joinpath('people.json')\n",
    "people_path"
   ]
  },
  {
   "cell_type": "code",
   "execution_count": null,
   "metadata": {
    "scrolled": true
   },
   "outputs": [],
   "source": [
    "with open(people_path) as f:\n",
    "    p = json.load(f)\n",
    "p\n",
    "#     for line in f:\n",
    "#         print(line)\n",
    "#     print(f)"
   ]
  },
  {
   "cell_type": "code",
   "execution_count": null,
   "metadata": {},
   "outputs": [],
   "source": [
    "# set up a TinyDB\n",
    "db = TinyDB('db.json')"
   ]
  },
  {
   "cell_type": "code",
   "execution_count": null,
   "metadata": {},
   "outputs": [],
   "source": []
  },
  {
   "cell_type": "markdown",
   "metadata": {},
   "source": [
    "WALK THROUGH PROCESS"
   ]
  },
  {
   "cell_type": "code",
   "execution_count": null,
   "metadata": {},
   "outputs": [],
   "source": [
    "# Create directory\n",
    "current_dir = Path(os.getcwd()).absolute()\n",
    "results_dir = current_dir.joinpath('results')\n",
    "kv_data_dir = results_dir.joinpath('kvdb')\n",
    "kv_data_dir.mkdir(parents=True, exist_ok=True)"
   ]
  },
  {
   "cell_type": "code",
   "execution_count": null,
   "metadata": {},
   "outputs": [],
   "source": [
    "db_path = results_dir.joinpath('patient-info.json')\n",
    "db_path"
   ]
  },
  {
   "cell_type": "code",
   "execution_count": null,
   "metadata": {},
   "outputs": [],
   "source": [
    "db_path.exists()"
   ]
  },
  {
   "cell_type": "code",
   "execution_count": null,
   "metadata": {},
   "outputs": [],
   "source": [
    "if db_path.exists():\n",
    "    os.remove(db_path)"
   ]
  },
  {
   "cell_type": "code",
   "execution_count": null,
   "metadata": {
    "scrolled": true
   },
   "outputs": [],
   "source": [
    "db_path"
   ]
  },
  {
   "cell_type": "code",
   "execution_count": null,
   "metadata": {},
   "outputs": [],
   "source": [
    "people_json = kv_data_dir.joinpath('people.json')\n",
    "visited_json = kv_data_dir.joinpath('visited.json')\n",
    "sites_json = kv_data_dir.joinpath('sites.json')\n",
    "measurements_json = kv_data_dir.joinpath('measurements.json')"
   ]
  },
  {
   "cell_type": "code",
   "execution_count": null,
   "metadata": {},
   "outputs": [],
   "source": [
    "Path(db_path)"
   ]
  },
  {
   "cell_type": "code",
   "execution_count": null,
   "metadata": {},
   "outputs": [],
   "source": [
    "db = None\n",
    "db"
   ]
  },
  {
   "cell_type": "code",
   "execution_count": null,
   "metadata": {},
   "outputs": [],
   "source": [
    "def load_json(json_path):\n",
    "    with open(json_path) as f:\n",
    "        return json.load(f)"
   ]
  },
  {
   "cell_type": "code",
   "execution_count": null,
   "metadata": {},
   "outputs": [],
   "source": [
    "people_json"
   ]
  },
  {
   "cell_type": "code",
   "execution_count": null,
   "metadata": {},
   "outputs": [],
   "source": [
    "people_info = load_json(people_json)"
   ]
  },
  {
   "cell_type": "code",
   "execution_count": null,
   "metadata": {},
   "outputs": [],
   "source": [
    "testDB = TinyDB('test.json')\n",
    "testDB"
   ]
  },
  {
   "cell_type": "code",
   "execution_count": null,
   "metadata": {},
   "outputs": [],
   "source": [
    "testDB.insert(people_info)"
   ]
  },
  {
   "cell_type": "code",
   "execution_count": null,
   "metadata": {},
   "outputs": [],
   "source": [
    "testDB"
   ]
  },
  {
   "cell_type": "code",
   "execution_count": null,
   "metadata": {},
   "outputs": [],
   "source": [
    "testDB.all()"
   ]
  },
  {
   "cell_type": "markdown",
   "metadata": {},
   "source": [
    "(person/visit/site/measurement)?"
   ]
  },
  {
   "cell_type": "code",
   "execution_count": null,
   "metadata": {},
   "outputs": [],
   "source": [
    "people_info = load_json(people_json)\n",
    "visit_info = load_json(visited_json)\n",
    "site_info = load_json(sites_json)\n",
    "measure_info = load_json(measurements_json)"
   ]
  },
  {
   "cell_type": "code",
   "execution_count": null,
   "metadata": {},
   "outputs": [],
   "source": [
    "testDB.truncate()\n",
    "testDB.all()"
   ]
  },
  {
   "cell_type": "code",
   "execution_count": null,
   "metadata": {},
   "outputs": [],
   "source": [
    "testDB.insert(people_info)\n",
    "testDB.insert(visit_info)\n",
    "testDB.insert(site_info)\n",
    "testDB.insert(measure_info)"
   ]
  },
  {
   "cell_type": "code",
   "execution_count": null,
   "metadata": {},
   "outputs": [],
   "source": [
    "testDB.all()"
   ]
  },
  {
   "cell_type": "markdown",
   "metadata": {},
   "source": [
    "load_db SECTION"
   ]
  },
  {
   "cell_type": "code",
   "execution_count": null,
   "metadata": {},
   "outputs": [],
   "source": [
    "testDB = TinyDB('test.json')\n",
    "testDB"
   ]
  },
  {
   "cell_type": "code",
   "execution_count": null,
   "metadata": {},
   "outputs": [],
   "source": [
    "peeps = people_info.items()\n",
    "peeps"
   ]
  },
  {
   "cell_type": "code",
   "execution_count": null,
   "metadata": {},
   "outputs": [],
   "source": [
    "type(peeps)"
   ]
  },
  {
   "cell_type": "code",
   "execution_count": null,
   "metadata": {},
   "outputs": [],
   "source": [
    "for person_id, record in peeps:\n",
    "    print(person_id)"
   ]
  },
  {
   "cell_type": "code",
   "execution_count": null,
   "metadata": {},
   "outputs": [],
   "source": [
    "for person_id, record in peeps:\n",
    "    print(record)"
   ]
  },
  {
   "cell_type": "code",
   "execution_count": null,
   "metadata": {},
   "outputs": [],
   "source": []
  },
  {
   "cell_type": "code",
   "execution_count": null,
   "metadata": {},
   "outputs": [],
   "source": []
  },
  {
   "cell_type": "code",
   "execution_count": null,
   "metadata": {},
   "outputs": [],
   "source": []
  },
  {
   "cell_type": "code",
   "execution_count": null,
   "metadata": {},
   "outputs": [],
   "source": []
  },
  {
   "cell_type": "code",
   "execution_count": null,
   "metadata": {},
   "outputs": [],
   "source": []
  },
  {
   "cell_type": "code",
   "execution_count": null,
   "metadata": {},
   "outputs": [],
   "source": []
  },
  {
   "cell_type": "markdown",
   "metadata": {},
   "source": [
    "ASSIGNMENT CODE"
   ]
  },
  {
   "cell_type": "code",
   "execution_count": null,
   "metadata": {},
   "outputs": [],
   "source": [
    "class DocumentDB(object):\n",
    "    def __init__(self, db_path):\n",
    "        ## You can use the code from the previous exmaple if you would like\n",
    "        people_json = kv_data_dir.joinpath('people.json')\n",
    "        visited_json = kv_data_dir.joinpath('visited.json')\n",
    "        sites_json = kv_data_dir.joinpath('sites.json')\n",
    "        measurements_json = kv_data_dir.joinpath('measurements.json')\n",
    "\n",
    "        self._db_path = Path(db_path)\n",
    "        self._db = None\n",
    "        ## TODO: Implement code\n",
    "        self._load_db()\n",
    "\n",
    "    def _load_db(self):\n",
    "        self._db = TinyDB(self._db_path)\n",
    "        ## TODO: Implement code"
   ]
  },
  {
   "cell_type": "code",
   "execution_count": null,
   "metadata": {},
   "outputs": [],
   "source": [
    "db_path = results_dir.joinpath('patient-info.json')\n",
    "if db_path.exists():\n",
    "    os.remove(db_path)\n",
    "\n",
    "db = DocumentDB(db_path)"
   ]
  },
  {
   "cell_type": "markdown",
   "metadata": {},
   "source": [
    "CODE ASSIST FROM PROF"
   ]
  },
  {
   "cell_type": "code",
   "execution_count": null,
   "metadata": {},
   "outputs": [],
   "source": [
    "from pathlib import Path\n",
    "import json\n",
    "import os\n",
    "from tinydb import TinyDB"
   ]
  },
  {
   "cell_type": "code",
   "execution_count": null,
   "metadata": {},
   "outputs": [],
   "source": [
    "current_dir = Path(os.getcwd()).absolute()\n",
    "results_dir = current_dir.joinpath('results')\n",
    "kv_data_dir = results_dir.joinpath('kvdb')\n",
    "kv_data_dir.mkdir(parents=True, exist_ok=True)"
   ]
  },
  {
   "cell_type": "code",
   "execution_count": null,
   "metadata": {},
   "outputs": [],
   "source": [
    "def _load_json(json_path):\n",
    "    with open(json_path) as f:\n",
    "        return json.load(f)"
   ]
  },
  {
   "cell_type": "code",
   "execution_count": null,
   "metadata": {},
   "outputs": [],
   "source": [
    "from pathlib import Path\n",
    "import json\n",
    "import os\n",
    "from tinydb import TinyDB\n",
    "\n",
    "current_dir = Path(os.getcwd()).absolute()\n",
    "results_dir = current_dir.joinpath('results')\n",
    "kv_data_dir = results_dir.joinpath('kvdb')\n",
    "kv_data_dir.mkdir(parents=True, exist_ok=True)\n",
    "\n",
    "def _load_json(json_path):\n",
    "    with open(json_path) as f:\n",
    "        return json.load(f)\n",
    "\n",
    "class DocumentDB(object):\n",
    "    def __init__(self, db_path):\n",
    "        \n",
    "        people_json = kv_data_dir.joinpath('people.json')\n",
    "        visited_json = kv_data_dir.joinpath('visited.json')\n",
    "        sites_json = kv_data_dir.joinpath('sites.json')\n",
    "        measurements_json = kv_data_dir.joinpath('measurements.json')\n",
    "        \n",
    "        self._db_path = Path(db_path)\n",
    "        self._db = None\n",
    "        \n",
    "        self._person_lookup = _load_json(people_json)\n",
    "        self._visit_lookup = _load_json(visited_json)\n",
    "        self._site_lookup = _load_json(sites_json)\n",
    "        self._measurements_lookup = _load_json(measurements_json)\n",
    "        \n",
    "        self._load_db()\n",
    "        \n",
    "        \n",
    "    def _get_site(self, site_id):\n",
    "        return self._site_lookup[str(site_id)]\n",
    "    \n",
    "    def _get_measurements(self, person_id):\n",
    "        measurements = []\n",
    "        measurements.extend([values for values in self._measurements_lookup.values() if str(values['person_id']) == str(person_id)])\n",
    "        return measurements\n",
    "#         measurements = []\n",
    "#         for values in self._measurements_lookup.values():\n",
    "#             measurements.extend([value for value in values if str(value['person_id']) == str(person_id)])\n",
    "        \n",
    "#         for values in self._measurements_lookup.values():\n",
    "#             if str(values['person_id'] == str(person_id):\n",
    "#                    measurements.append(values)\n",
    "\n",
    "    \n",
    "    def _get_visit(self, visit_id):\n",
    "        visit = self._visit_lookup.get(str(visit_id))\n",
    "        ## TODO: \n",
    "        site_id = ...\n",
    "        ## TODO: \n",
    "        site = ...\n",
    "        visit['site'] = site\n",
    "        return visit\n",
    "    \n",
    "    def _load_db(self):\n",
    "        self._db = TinyDB(self._db_path)\n",
    "        persons = self._person_lookup.items()\n",
    "        for person_id, record in persons:\n",
    "            measurements = self._get_measurements(person_id)\n",
    "            visit_ids = set([measurement['visit_id'] for measurement in measurements])\n",
    "            visits = []\n",
    "            for visit_id in visit_ids:\n",
    "                visit = self._get_visit(visit_id)\n",
    "                visit['measurements'] = [\n",
    "                    measurement for measurement in measurements\n",
    "                    if visit_id == measurement['visit_id']\n",
    "                ]\n",
    "                visits.append(visit)\n",
    "            record['visits'] = visits\n",
    "            self._db.insert(record)"
   ]
  },
  {
   "cell_type": "code",
   "execution_count": null,
   "metadata": {
    "scrolled": true
   },
   "outputs": [],
   "source": [
    "people_json = kv_data_dir.joinpath('people.json')\n",
    "visited_json = kv_data_dir.joinpath('visited.json')\n",
    "sites_json = kv_data_dir.joinpath('sites.json')\n",
    "measurements_json = kv_data_dir.joinpath('measurements.json')\n",
    "\n",
    "_person_lookup = _load_json(people_json)\n",
    "_visit_lookup = _load_json(visited_json)\n",
    "_site_lookup = _load_json(sites_json)\n",
    "_measurements_lookup = _load_json(measurements_json)"
   ]
  },
  {
   "cell_type": "code",
   "execution_count": null,
   "metadata": {},
   "outputs": [],
   "source": [
    "# db_path = results_dir.joinpath('patient-info.json')\n",
    "# if db_path.exists():\n",
    "#     os.remove(db_path)\n",
    "\n",
    "# db = DocumentDB(db_path)"
   ]
  },
  {
   "cell_type": "code",
   "execution_count": null,
   "metadata": {},
   "outputs": [],
   "source": [
    "measurements = []\n",
    "measurements.extend([values for values in _measurements_lookup.values() if str(values['person_id']) == 'dyer'])\n",
    "measurements"
   ]
  },
  {
   "cell_type": "code",
   "execution_count": null,
   "metadata": {},
   "outputs": [],
   "source": [
    "# measurements = []\n",
    "# for values in _measurements_lookup.values():\n",
    "#     if values['person_id'] == 'dyer':\n",
    "# #         print(values)\n",
    "#         measurements.append(values)"
   ]
  },
  {
   "cell_type": "code",
   "execution_count": null,
   "metadata": {},
   "outputs": [],
   "source": [
    "measurements"
   ]
  },
  {
   "cell_type": "code",
   "execution_count": null,
   "metadata": {},
   "outputs": [],
   "source": [
    "visit_ids = set([measurement['visit_id'] for measurement in measurements])\n",
    "visit_ids"
   ]
  },
  {
   "cell_type": "code",
   "execution_count": null,
   "metadata": {
    "scrolled": true
   },
   "outputs": [],
   "source": [
    "visits = []\n",
    "for visit_id in visit_ids:\n",
    "    print(visit_id)"
   ]
  },
  {
   "cell_type": "code",
   "execution_count": null,
   "metadata": {},
   "outputs": [],
   "source": []
  },
  {
   "cell_type": "code",
   "execution_count": null,
   "metadata": {},
   "outputs": [],
   "source": [
    "people_json = kv_data_dir.joinpath('people.json')\n",
    "visited_json = kv_data_dir.joinpath('visited.json')\n",
    "sites_json = kv_data_dir.joinpath('sites.json')\n",
    "measurements_json = kv_data_dir.joinpath('measurements.json')"
   ]
  },
  {
   "cell_type": "code",
   "execution_count": null,
   "metadata": {},
   "outputs": [],
   "source": [
    "_person_lookup = _load_json(people_json)\n",
    "_visit_lookup = _load_json(visited_json)\n",
    "_site_lookup = _load_json(sites_json)\n",
    "_measurements_lookup = _load_json(measurements_json)"
   ]
  },
  {
   "cell_type": "code",
   "execution_count": null,
   "metadata": {},
   "outputs": [],
   "source": [
    "db_path = results_dir.joinpath('patient-info.json')\n",
    "if db_path.exists():\n",
    "    os.remove(db_path)"
   ]
  },
  {
   "cell_type": "code",
   "execution_count": null,
   "metadata": {},
   "outputs": [],
   "source": [
    "_db = TinyDB(db_path)"
   ]
  },
  {
   "cell_type": "code",
   "execution_count": null,
   "metadata": {},
   "outputs": [],
   "source": [
    "_person_lookup"
   ]
  },
  {
   "cell_type": "code",
   "execution_count": null,
   "metadata": {},
   "outputs": [],
   "source": [
    "persons = _person_lookup.items()\n",
    "persons"
   ]
  },
  {
   "cell_type": "code",
   "execution_count": null,
   "metadata": {},
   "outputs": [],
   "source": [
    "for person_id, record in persons:\n",
    "    print(person_id)"
   ]
  },
  {
   "cell_type": "code",
   "execution_count": null,
   "metadata": {},
   "outputs": [],
   "source": [
    "for person_id, record in persons:\n",
    "    print(record)"
   ]
  },
  {
   "cell_type": "code",
   "execution_count": null,
   "metadata": {},
   "outputs": [],
   "source": [
    "def _get_measurements(person_id):\n",
    "    measurements = []\n",
    "    for values in _measurements_lookup.values():\n",
    "        measurements.extend([value for value in values if str(value['person_id']) == str(person_id)])\n",
    "    return measurements"
   ]
  },
  {
   "cell_type": "code",
   "execution_count": null,
   "metadata": {},
   "outputs": [],
   "source": [
    "def _get_measurements(person_id):\n",
    "    measurements = []\n",
    "    for values in _measurements_lookup.values():\n",
    "        measurements.extend([value for value in values if str(values['person_id']) == str(person_id)])\n",
    "    return measurements"
   ]
  },
  {
   "cell_type": "code",
   "execution_count": null,
   "metadata": {},
   "outputs": [],
   "source": [
    "for values in _measurements_lookup.values():\n",
    "    print(values)"
   ]
  },
  {
   "cell_type": "code",
   "execution_count": null,
   "metadata": {},
   "outputs": [],
   "source": [
    "# for values in _measurements_lookup.values():\n",
    "#     print(values['person_id'])"
   ]
  },
  {
   "cell_type": "code",
   "execution_count": null,
   "metadata": {},
   "outputs": [],
   "source": [
    "for values in _measurements_lookup.values():\n",
    "    for value in values:\n",
    "        if values['person_id'] == 'dyer'\n",
    "        print(value)"
   ]
  },
  {
   "cell_type": "code",
   "execution_count": null,
   "metadata": {},
   "outputs": [],
   "source": [
    "for values in _measurements_lookup.values():\n",
    "    if values['person_id'] == 'dyer':\n",
    "        print(values)"
   ]
  },
  {
   "cell_type": "code",
   "execution_count": null,
   "metadata": {},
   "outputs": [],
   "source": [
    "# for values in _measurements_lookup.values():\n",
    "# #     print(values)\n",
    "#     for value in values:\n",
    "#         if values['person_id'] == 'dyer'\n",
    "#         print(values['person_id'])"
   ]
  },
  {
   "cell_type": "code",
   "execution_count": null,
   "metadata": {},
   "outputs": [],
   "source": [
    "for values in _measurements_lookup.values():\n",
    "#     print(values)\n",
    "    for value in values:\n",
    "        if values['person_id'] == str(person_id):\n",
    "            print(values)\n",
    "#         print(value)"
   ]
  },
  {
   "cell_type": "code",
   "execution_count": null,
   "metadata": {},
   "outputs": [],
   "source": [
    "_get_measurements('danforth')"
   ]
  },
  {
   "cell_type": "code",
   "execution_count": null,
   "metadata": {},
   "outputs": [],
   "source": []
  },
  {
   "cell_type": "code",
   "execution_count": null,
   "metadata": {},
   "outputs": [],
   "source": [
    "db_path = results_dir.joinpath('patient-info.json')\n",
    "if db_path.exists():\n",
    "    os.remove(db_path)\n",
    "\n",
    "db = DocumentDB(db_path)"
   ]
  },
  {
   "cell_type": "code",
   "execution_count": null,
   "metadata": {},
   "outputs": [],
   "source": []
  },
  {
   "cell_type": "code",
   "execution_count": null,
   "metadata": {},
   "outputs": [],
   "source": [
    "from pathlib import Path\n",
    "import json\n",
    "import os\n",
    "from tinydb import TinyDB\n",
    "\n",
    "current_dir = Path(os.getcwd()).absolute()\n",
    "results_dir = current_dir.joinpath('results')\n",
    "kv_data_dir = results_dir.joinpath('kvdb')\n",
    "kv_data_dir.mkdir(parents=True, exist_ok=True)\n",
    "\n",
    "def _load_json(json_path):\n",
    "    with open(json_path) as f:\n",
    "        return json.load(f)\n",
    "\n",
    "class DocumentDB(object):\n",
    "    def __init__(self, db_path):\n",
    "        \n",
    "        people_json = kv_data_dir.joinpath('people.json')\n",
    "        visited_json = kv_data_dir.joinpath('visited.json')\n",
    "        sites_json = kv_data_dir.joinpath('sites.json')\n",
    "        measurements_json = kv_data_dir.joinpath('measurements.json')\n",
    "        \n",
    "        self._db_path = Path(db_path)\n",
    "        self._db = None\n",
    "        \n",
    "        self._person_lookup = _load_json(people_json)\n",
    "        self._visit_lookup = _load_json(visited_json)\n",
    "        self._site_lookup = _load_json(sites_json)\n",
    "        self._measurements_lookup = _load_json(measurements_json)\n",
    "        \n",
    "        self._load_db()\n",
    "        \n",
    "        \n",
    "    def _get_site(self, site_id):\n",
    "        return self._site_lookup[str(site_id)]\n",
    "    \n",
    "    def _get_measurements(self, person_id):\n",
    "        measurements = []\n",
    "        measurements.extend([values for values in self._measurements_lookup.values() if str(values['person_id']) == str(person_id)])\n",
    "        return measurements\n",
    "    \n",
    "    def _get_visit(self, visit_id):\n",
    "        visit = self._visit_lookup.get(str(visit_id))\n",
    "        print(visit)\n",
    "        ## TODO: \n",
    "        site_id = ...\n",
    "        ## TODO: \n",
    "        site = ...\n",
    "        visit['site'] = site\n",
    "        return visit\n",
    "    \n",
    "    def _load_db(self):\n",
    "        self._db = TinyDB(self._db_path)\n",
    "        persons = self._person_lookup.items()\n",
    "        for person_id, record in persons:\n",
    "            measurements = self._get_measurements(person_id)\n",
    "            visit_ids = set([measurement['visit_id'] for measurement in measurements])\n",
    "            visits = []\n",
    "            for visit_id in visit_ids:\n",
    "#                 print(visit_id) # 619\n",
    "                visit = self._get_visit(visit_id)\n",
    "                visit['measurements'] = [\n",
    "                    measurement for measurement in measurements\n",
    "                    if visit_id == measurement['visit_id']\n",
    "                ]\n",
    "                visits.append(visit)\n",
    "            record['visits'] = visits\n",
    "            self._db.insert(record)"
   ]
  },
  {
   "cell_type": "code",
   "execution_count": null,
   "metadata": {},
   "outputs": [],
   "source": [
    "db_path = results_dir.joinpath('patient-info.json')\n",
    "if db_path.exists():\n",
    "    os.remove(db_path)\n",
    "\n",
    "db = DocumentDB(db_path)"
   ]
  },
  {
   "cell_type": "code",
   "execution_count": null,
   "metadata": {},
   "outputs": [],
   "source": [
    "def _get_visit(self, visit_id):\n",
    "    visit = self._visit_lookup.get(str(visit_id))\n",
    "    ## TODO: \n",
    "    site_id = ...\n",
    "    ## TODO: \n",
    "    site = ...\n",
    "    visit['site'] = site\n",
    "    return visit"
   ]
  },
  {
   "cell_type": "code",
   "execution_count": null,
   "metadata": {},
   "outputs": [],
   "source": [
    "visit_ids = set([measurement['visit_id'] for measurement in measurements])\n",
    "visits = []\n",
    "for visit_id in visit_ids:\n",
    "# print(visit_id) # 619\n",
    "    visit = self._get_visit(visit_id)\n",
    "    visit['measurements'] = [\n",
    "        measurement for measurement in measurements\n",
    "        if visit_id == measurement['visit_id']\n",
    "    ]\n",
    "    visits.append(visit)\n",
    "record['visits'] = visits"
   ]
  },
  {
   "cell_type": "code",
   "execution_count": null,
   "metadata": {},
   "outputs": [],
   "source": [
    "def get_visit(visit_id):\n",
    "    visit = _visit_lookup.get(str(visit_id))\n",
    "    ## TODO: \n",
    "    site_id = ...\n",
    "    ## TODO: \n",
    "    site = ...\n",
    "    visit['site'] = site\n",
    "    return visit"
   ]
  },
  {
   "cell_type": "code",
   "execution_count": null,
   "metadata": {},
   "outputs": [],
   "source": [
    "measurements"
   ]
  },
  {
   "cell_type": "code",
   "execution_count": null,
   "metadata": {},
   "outputs": [],
   "source": [
    "visit_ids = set([measurement['visit_id'] for measurement in measurements])\n",
    "visits = []\n",
    "for visit_id in visit_ids:\n",
    "    print(visit_id) # 619"
   ]
  },
  {
   "cell_type": "code",
   "execution_count": null,
   "metadata": {},
   "outputs": [],
   "source": [
    "visit_lookup = _load_json(visited_json)"
   ]
  },
  {
   "cell_type": "code",
   "execution_count": null,
   "metadata": {},
   "outputs": [],
   "source": [
    "visit_lookup"
   ]
  },
  {
   "cell_type": "code",
   "execution_count": null,
   "metadata": {},
   "outputs": [],
   "source": [
    "visit_lookup.get(str((619, 'DR-1')))"
   ]
  },
  {
   "cell_type": "code",
   "execution_count": null,
   "metadata": {},
   "outputs": [],
   "source": [
    "for i in visit_lookup:\n",
    "    print(i)\n",
    "    print(visit_lookup.get(str(i)))"
   ]
  },
  {
   "cell_type": "code",
   "execution_count": null,
   "metadata": {},
   "outputs": [],
   "source": [
    "db_path = results_dir.joinpath('patient-info.json')\n",
    "if db_path.exists():\n",
    "    os.remove(db_path)\n",
    "\n",
    "db = DocumentDB(db_path)"
   ]
  },
  {
   "cell_type": "code",
   "execution_count": null,
   "metadata": {},
   "outputs": [],
   "source": []
  },
  {
   "cell_type": "markdown",
   "metadata": {},
   "source": [
    "TRY SOME STUFF"
   ]
  },
  {
   "cell_type": "code",
   "execution_count": 4,
   "metadata": {
    "scrolled": true
   },
   "outputs": [],
   "source": [
    "# Load libraries\n",
    "from pathlib import Path\n",
    "import json\n",
    "import os\n",
    "\n",
    "from tinydb import TinyDB\n",
    "\n",
    "# Create directory\n",
    "current_dir = Path(os.getcwd()).absolute()\n",
    "results_dir = current_dir.joinpath('results')\n",
    "kv_data_dir = results_dir.joinpath('kvdb')\n",
    "kv_data_dir.mkdir(parents=True, exist_ok=True)\n",
    "\n",
    "people_json = kv_data_dir.joinpath('people.json')\n",
    "visited_json = kv_data_dir.joinpath('visited.json')\n",
    "sites_json = kv_data_dir.joinpath('sites.json')\n",
    "measurements_json = kv_data_dir.joinpath('measurements.json')\n",
    "\n",
    "def _load_json(json_path):\n",
    "    with open(json_path) as f:\n",
    "        return json.load(f)\n",
    "\n",
    "_person_lookup = _load_json(people_json)\n",
    "_visit_lookup = _load_json(visited_json)\n",
    "_site_lookup = _load_json(sites_json)\n",
    "_measurements_lookup = _load_json(measurements_json)"
   ]
  },
  {
   "cell_type": "code",
   "execution_count": 19,
   "metadata": {},
   "outputs": [
    {
     "data": {
      "text/plain": [
       "dict_items([('danforth', {'person_id': 'danforth', 'personal_name': 'Frank', 'family_name': 'Danforth'}), ('dyer', {'person_id': 'dyer', 'personal_name': 'William', 'family_name': 'Dyer'}), ('lake', {'person_id': 'lake', 'personal_name': 'Anderson', 'family_name': 'Lake'}), ('pb', {'person_id': 'pb', 'personal_name': 'Frank', 'family_name': 'Pabodie'}), ('roe', {'person_id': 'roe', 'personal_name': 'Valentina', 'family_name': 'Roerich'})])"
      ]
     },
     "execution_count": 19,
     "metadata": {},
     "output_type": "execute_result"
    }
   ],
   "source": [
    "persons = _person_lookup.items()\n",
    "persons"
   ]
  },
  {
   "cell_type": "code",
   "execution_count": 20,
   "metadata": {},
   "outputs": [
    {
     "name": "stdout",
     "output_type": "stream",
     "text": [
      "danforth\n",
      "{'person_id': 'danforth', 'personal_name': 'Frank', 'family_name': 'Danforth'}\n",
      "dyer\n",
      "{'person_id': 'dyer', 'personal_name': 'William', 'family_name': 'Dyer'}\n",
      "lake\n",
      "{'person_id': 'lake', 'personal_name': 'Anderson', 'family_name': 'Lake'}\n",
      "pb\n",
      "{'person_id': 'pb', 'personal_name': 'Frank', 'family_name': 'Pabodie'}\n",
      "roe\n",
      "{'person_id': 'roe', 'personal_name': 'Valentina', 'family_name': 'Roerich'}\n"
     ]
    }
   ],
   "source": [
    "for person_id, record in persons:\n",
    "    print(person_id)\n",
    "    print(record)"
   ]
  },
  {
   "cell_type": "code",
   "execution_count": 24,
   "metadata": {},
   "outputs": [],
   "source": [
    "def get_measurements(person_id):\n",
    "    measurements = []\n",
    "    measurements.extend([values for values in _measurements_lookup.values() if str(values['person_id']) == str(person_id)])\n",
    "    return measurements"
   ]
  },
  {
   "cell_type": "code",
   "execution_count": 26,
   "metadata": {},
   "outputs": [
    {
     "data": {
      "text/plain": [
       "[{'visit_id': 619, 'person_id': 'dyer', 'quantity': 'rad', 'reading': 9.82},\n",
       " {'visit_id': 619, 'person_id': 'dyer', 'quantity': 'sal', 'reading': 0.13},\n",
       " {'visit_id': 622, 'person_id': 'dyer', 'quantity': 'rad', 'reading': 7.8},\n",
       " {'visit_id': 622, 'person_id': 'dyer', 'quantity': 'sal', 'reading': 0.09}]"
      ]
     },
     "execution_count": 26,
     "metadata": {},
     "output_type": "execute_result"
    }
   ],
   "source": [
    "measurements = get_measurements('dyer')\n",
    "measurements"
   ]
  },
  {
   "cell_type": "code",
   "execution_count": 6,
   "metadata": {},
   "outputs": [
    {
     "data": {
      "text/plain": [
       "[619, 619, 622, 622]"
      ]
     },
     "execution_count": 6,
     "metadata": {},
     "output_type": "execute_result"
    }
   ],
   "source": [
    "[measurement['visit_id'] for measurement in measurements]"
   ]
  },
  {
   "cell_type": "code",
   "execution_count": 7,
   "metadata": {},
   "outputs": [
    {
     "data": {
      "text/plain": [
       "{619, 622}"
      ]
     },
     "execution_count": 7,
     "metadata": {},
     "output_type": "execute_result"
    }
   ],
   "source": [
    "visit_ids = set([measurement['visit_id'] for measurement in measurements])\n",
    "visit_ids"
   ]
  },
  {
   "cell_type": "code",
   "execution_count": 8,
   "metadata": {},
   "outputs": [
    {
     "name": "stdout",
     "output_type": "stream",
     "text": [
      "619\n",
      "622\n"
     ]
    }
   ],
   "source": [
    "visits = []\n",
    "for visit_id in visit_ids:\n",
    "    print(visit_id) # 619"
   ]
  },
  {
   "cell_type": "code",
   "execution_count": 29,
   "metadata": {},
   "outputs": [],
   "source": [
    "visit_id = 619"
   ]
  },
  {
   "cell_type": "code",
   "execution_count": null,
   "metadata": {},
   "outputs": [],
   "source": [
    "def get_visit(visit_id):\n",
    "    visit = _visit_lookup.get(str(visit_id)) # {'visit_id':, 'site_id':, 'visit_date':}\n",
    "#     print(visit)\n",
    "    ## TODO: \n",
    "    # return site_id\n",
    "    site_id = visit['site_id'] \n",
    "    ## TODO: \n",
    "    # get site info\n",
    "    site = get_site(site_id)\n",
    "    visit['site'] = site\n",
    "    return visit"
   ]
  },
  {
   "cell_type": "code",
   "execution_count": 31,
   "metadata": {},
   "outputs": [
    {
     "data": {
      "text/plain": [
       "{'visit_id': 619, 'site_id': 'DR-1', 'visit_date': '1927-02-08'}"
      ]
     },
     "execution_count": 31,
     "metadata": {},
     "output_type": "execute_result"
    }
   ],
   "source": [
    "visit = _visit_lookup.get(str(visit_id))\n",
    "visit"
   ]
  },
  {
   "cell_type": "code",
   "execution_count": 33,
   "metadata": {},
   "outputs": [
    {
     "data": {
      "text/plain": [
       "'DR-1'"
      ]
     },
     "execution_count": 33,
     "metadata": {},
     "output_type": "execute_result"
    }
   ],
   "source": [
    "site_id = visit['site_id']\n",
    "site_id"
   ]
  },
  {
   "cell_type": "code",
   "execution_count": 34,
   "metadata": {},
   "outputs": [],
   "source": [
    "def get_site(site_id):\n",
    "    return _site_lookup[str(site_id)]"
   ]
  },
  {
   "cell_type": "code",
   "execution_count": 36,
   "metadata": {},
   "outputs": [
    {
     "data": {
      "text/plain": [
       "{'site_id': 'DR-1', 'latitude': -49.85, 'longitude': -128.57}"
      ]
     },
     "execution_count": 36,
     "metadata": {},
     "output_type": "execute_result"
    }
   ],
   "source": [
    "site = get_site(site_id)\n",
    "site"
   ]
  },
  {
   "cell_type": "code",
   "execution_count": 39,
   "metadata": {},
   "outputs": [
    {
     "data": {
      "text/plain": [
       "{'visit_id': 619,\n",
       " 'site_id': 'DR-1',\n",
       " 'visit_date': '1927-02-08',\n",
       " 'site': {'site_id': 'DR-1', 'latitude': -49.85, 'longitude': -128.57}}"
      ]
     },
     "execution_count": 39,
     "metadata": {},
     "output_type": "execute_result"
    }
   ],
   "source": [
    "visit['site'] = site\n",
    "visit"
   ]
  },
  {
   "cell_type": "markdown",
   "metadata": {},
   "source": [
    "progress, cool"
   ]
  },
  {
   "cell_type": "code",
   "execution_count": 38,
   "metadata": {},
   "outputs": [
    {
     "data": {
      "text/plain": [
       "[{'visit_id': 619, 'person_id': 'dyer', 'quantity': 'rad', 'reading': 9.82},\n",
       " {'visit_id': 619, 'person_id': 'dyer', 'quantity': 'sal', 'reading': 0.13}]"
      ]
     },
     "execution_count": 38,
     "metadata": {},
     "output_type": "execute_result"
    }
   ],
   "source": [
    "[measurement for measurement in measurements if visit_id == measurement['visit_id']]"
   ]
  },
  {
   "cell_type": "code",
   "execution_count": 40,
   "metadata": {},
   "outputs": [
    {
     "data": {
      "text/plain": [
       "{'visit_id': 619,\n",
       " 'site_id': 'DR-1',\n",
       " 'visit_date': '1927-02-08',\n",
       " 'site': {'site_id': 'DR-1', 'latitude': -49.85, 'longitude': -128.57},\n",
       " 'measurements': [{'visit_id': 619,\n",
       "   'person_id': 'dyer',\n",
       "   'quantity': 'rad',\n",
       "   'reading': 9.82},\n",
       "  {'visit_id': 619, 'person_id': 'dyer', 'quantity': 'sal', 'reading': 0.13}]}"
      ]
     },
     "execution_count": 40,
     "metadata": {},
     "output_type": "execute_result"
    }
   ],
   "source": [
    "visit['measurements'] = [\n",
    "    measurement for measurement in measurements \n",
    "    if visit_id == measurement['visit_id']\n",
    "]\n",
    "visit"
   ]
  },
  {
   "cell_type": "code",
   "execution_count": 42,
   "metadata": {},
   "outputs": [
    {
     "data": {
      "text/plain": [
       "[]"
      ]
     },
     "execution_count": 42,
     "metadata": {},
     "output_type": "execute_result"
    }
   ],
   "source": [
    "visits"
   ]
  },
  {
   "cell_type": "code",
   "execution_count": 43,
   "metadata": {},
   "outputs": [
    {
     "data": {
      "text/plain": [
       "[{'visit_id': 619,\n",
       "  'site_id': 'DR-1',\n",
       "  'visit_date': '1927-02-08',\n",
       "  'site': {'site_id': 'DR-1', 'latitude': -49.85, 'longitude': -128.57},\n",
       "  'measurements': [{'visit_id': 619,\n",
       "    'person_id': 'dyer',\n",
       "    'quantity': 'rad',\n",
       "    'reading': 9.82},\n",
       "   {'visit_id': 619,\n",
       "    'person_id': 'dyer',\n",
       "    'quantity': 'sal',\n",
       "    'reading': 0.13}]}]"
      ]
     },
     "execution_count": 43,
     "metadata": {},
     "output_type": "execute_result"
    }
   ],
   "source": [
    "visits.append(visit)\n",
    "visits"
   ]
  },
  {
   "cell_type": "code",
   "execution_count": 41,
   "metadata": {},
   "outputs": [
    {
     "data": {
      "text/plain": [
       "{'person_id': 'roe', 'personal_name': 'Valentina', 'family_name': 'Roerich'}"
      ]
     },
     "execution_count": 41,
     "metadata": {},
     "output_type": "execute_result"
    }
   ],
   "source": [
    "record"
   ]
  },
  {
   "cell_type": "code",
   "execution_count": 44,
   "metadata": {},
   "outputs": [
    {
     "data": {
      "text/plain": [
       "{'person_id': 'roe',\n",
       " 'personal_name': 'Valentina',\n",
       " 'family_name': 'Roerich',\n",
       " 'visits': [{'visit_id': 619,\n",
       "   'site_id': 'DR-1',\n",
       "   'visit_date': '1927-02-08',\n",
       "   'site': {'site_id': 'DR-1', 'latitude': -49.85, 'longitude': -128.57},\n",
       "   'measurements': [{'visit_id': 619,\n",
       "     'person_id': 'dyer',\n",
       "     'quantity': 'rad',\n",
       "     'reading': 9.82},\n",
       "    {'visit_id': 619,\n",
       "     'person_id': 'dyer',\n",
       "     'quantity': 'sal',\n",
       "     'reading': 0.13}]}]}"
      ]
     },
     "execution_count": 44,
     "metadata": {},
     "output_type": "execute_result"
    }
   ],
   "source": [
    "record['visits'] = visits\n",
    "record"
   ]
  },
  {
   "cell_type": "code",
   "execution_count": null,
   "metadata": {},
   "outputs": [],
   "source": []
  },
  {
   "cell_type": "code",
   "execution_count": null,
   "metadata": {},
   "outputs": [],
   "source": []
  },
  {
   "cell_type": "code",
   "execution_count": 11,
   "metadata": {},
   "outputs": [
    {
     "data": {
      "text/plain": [
       "{'visit_id': 619, 'site_id': 'DR-1', 'visit_date': '1927-02-08'}"
      ]
     },
     "execution_count": 11,
     "metadata": {},
     "output_type": "execute_result"
    }
   ],
   "source": [
    "# visit = get_visit(619)\n",
    "visit_id = 619\n",
    "visit = _visit_lookup.get(str(visit_id))\n",
    "visit"
   ]
  },
  {
   "cell_type": "code",
   "execution_count": 14,
   "metadata": {},
   "outputs": [
    {
     "data": {
      "text/plain": [
       "'DR-1'"
      ]
     },
     "execution_count": 14,
     "metadata": {},
     "output_type": "execute_result"
    }
   ],
   "source": [
    "site_id = visit['site_id']\n",
    "site_id"
   ]
  },
  {
   "cell_type": "code",
   "execution_count": 15,
   "metadata": {},
   "outputs": [
    {
     "data": {
      "text/plain": [
       "{'site_id': 'DR-1', 'latitude': -49.85, 'longitude': -128.57}"
      ]
     },
     "execution_count": 15,
     "metadata": {},
     "output_type": "execute_result"
    }
   ],
   "source": [
    "_site_lookup[str(site_id)]"
   ]
  },
  {
   "cell_type": "code",
   "execution_count": 16,
   "metadata": {},
   "outputs": [],
   "source": [
    "def get_site(site_id):\n",
    "    return _site_lookup[str(site_id)]"
   ]
  },
  {
   "cell_type": "code",
   "execution_count": 17,
   "metadata": {},
   "outputs": [
    {
     "data": {
      "text/plain": [
       "{'site_id': 'DR-1', 'latitude': -49.85, 'longitude': -128.57}"
      ]
     },
     "execution_count": 17,
     "metadata": {},
     "output_type": "execute_result"
    }
   ],
   "source": [
    "get_site(site_id)"
   ]
  },
  {
   "cell_type": "code",
   "execution_count": 18,
   "metadata": {},
   "outputs": [
    {
     "data": {
      "text/plain": [
       "{619, 622}"
      ]
     },
     "execution_count": 18,
     "metadata": {},
     "output_type": "execute_result"
    }
   ],
   "source": [
    "visit_ids"
   ]
  },
  {
   "cell_type": "code",
   "execution_count": null,
   "metadata": {},
   "outputs": [],
   "source": []
  },
  {
   "cell_type": "code",
   "execution_count": null,
   "metadata": {},
   "outputs": [],
   "source": [
    "visits"
   ]
  },
  {
   "cell_type": "code",
   "execution_count": null,
   "metadata": {},
   "outputs": [],
   "source": [
    "def get_visit(visit_id):\n",
    "    visit = _visit_lookup.get(str(visit_id))\n",
    "#     print(visit)\n",
    "    ## TODO: \n",
    "    site_id = visit['site_id']\n",
    "    ## TODO: \n",
    "    site = ...\n",
    "    visit['site'] = site\n",
    "    return visit"
   ]
  },
  {
   "cell_type": "code",
   "execution_count": null,
   "metadata": {},
   "outputs": [],
   "source": [
    "visits = []\n",
    "for visit_id in visit_ids:\n",
    "#     print(visit_id) # 619\n",
    "    visit = self._get_visit(visit_id)\n",
    "    visit['measurements'] = [\n",
    "        measurement for measurement in measurements\n",
    "        if visit_id == measurement['visit_id']\n",
    "    ]\n",
    "    visits.append(visit)\n",
    "record['visits'] = visits\n",
    "self._db.insert(record)"
   ]
  },
  {
   "cell_type": "code",
   "execution_count": null,
   "metadata": {},
   "outputs": [],
   "source": []
  },
  {
   "cell_type": "code",
   "execution_count": null,
   "metadata": {},
   "outputs": [],
   "source": []
  },
  {
   "cell_type": "code",
   "execution_count": null,
   "metadata": {},
   "outputs": [],
   "source": [
    "def _get_measurements(self, person_id):\n",
    "    measurements = []\n",
    "    measurements.extend([values for values in self._measurements_lookup.values() if str(values['person_id']) == str(person_id)])\n",
    "    return measurements\n",
    "\n",
    "def _get_visit(self, visit_id):\n",
    "    visit = self._visit_lookup.get(str(visit_id))\n",
    "    print(visit)\n",
    "    ## TODO: \n",
    "    site_id = ...\n",
    "    ## TODO: \n",
    "    site = ...\n",
    "    visit['site'] = site\n",
    "    return visit\n",
    "\n",
    "def _load_db(self):\n",
    "    self._db = TinyDB(self._db_path)\n",
    "    persons = self._person_lookup.items()\n",
    "    for person_id, record in persons:\n",
    "        measurements = self._get_measurements(person_id)\n",
    "        visit_ids = set([measurement['visit_id'] for measurement in measurements])\n",
    "        visits = []\n",
    "        for visit_id in visit_ids:\n",
    "#             print(visit_id) # 619\n",
    "            visit = self._get_visit(visit_id)\n",
    "            visit['measurements'] = [\n",
    "                measurement for measurement in measurements\n",
    "                if visit_id == measurement['visit_id']\n",
    "            ]\n",
    "            visits.append(visit)\n",
    "        record['visits'] = visits\n",
    "        self._db.insert(record)"
   ]
  },
  {
   "cell_type": "code",
   "execution_count": null,
   "metadata": {},
   "outputs": [],
   "source": [
    "# load libraries\n",
    "from pathlib import Path\n",
    "import json\n",
    "import os\n",
    "from tinydb import TinyDB\n",
    "\n",
    "# set file directories\n",
    "current_dir = Path(os.getcwd()).absolute()\n",
    "results_dir = current_dir.joinpath('results')\n",
    "kv_data_dir = results_dir.joinpath('kvdb')\n",
    "kv_data_dir.mkdir(parents=True, exist_ok=True)\n",
    "\n",
    "def _load_json(json_path):\n",
    "    '''loads data from .json file'''\n",
    "    with open(json_path) as f:\n",
    "        return json.load(f)\n",
    "\n",
    "class DocumentDB(object):\n",
    "    def __init__(self, db_path):\n",
    "        ## You can use the code from the previous exmaple if you would like\n",
    "        people_json = kv_data_dir.joinpath('people.json')\n",
    "        visited_json = kv_data_dir.joinpath('visited.json')\n",
    "        sites_json = kv_data_dir.joinpath('sites.json')\n",
    "        measurements_json = kv_data_dir.joinpath('measurements.json')\n",
    "        self._db_path = Path(db_path)\n",
    "        self._db = None\n",
    "        \n",
    "        ## TODO\n",
    "        # load json data:\n",
    "        self._person_lookup = _load_json(people_json)\n",
    "        self._visit_lookup = _load_json(visited_json)\n",
    "        self._site_lookup = _load_json(sites_json)\n",
    "        self._measurements_lookup = _load_json(measurements_json)        \n",
    "        \n",
    "        self._load_db()\n",
    "        \n",
    "    def _get_site(self, site_id):\n",
    "        '''returns info about individual site'''\n",
    "        return self._site_lookup[str(site_id)]\n",
    "\n",
    "    def _get_measurements(self, person_id):\n",
    "        '''returns list of dictionaries of measurements associated with person_id'''\n",
    "        measurements = []\n",
    "#         for values in self._measurements_lookup.values():\n",
    "#             measurements.extend([value for value in values if str(value['person_id']) == str(person_id)])\n",
    "        measurements.extend([\n",
    "            values for values in self._measurements_lookup.values() \n",
    "            if str(values['person_id']) == str(person_id)\n",
    "        ])\n",
    "        return measurements\n",
    "\n",
    "    def _get_visit(self, visit_id):\n",
    "        '''returns visit information about a specified site visit_id'''\n",
    "        # retrieve corresponding row of info from visit:\n",
    "        visit = self._visit_lookup.get(str(visit_id)) # {'visit_id':, 'site_id':, 'visit_date':}\n",
    "        \n",
    "        ## TODO: \n",
    "        site_id = visit['site_id'] # extract site_id from visit info\n",
    "        \n",
    "        ## TODO: \n",
    "        site = self._get_site(site_id) # retrieve info about site\n",
    "        \n",
    "        visit['site'] = site # append site info to visit info\n",
    "        return visit\n",
    "\n",
    "    def _load_db(self):\n",
    "        self._db = TinyDB(self._db_path)\n",
    "        # return dict_items of people_json:\n",
    "        persons = self._person_lookup.items()\n",
    "        for person_id, record in persons:\n",
    "            # return individual's list of records:\n",
    "            measurements = self._get_measurements(person_id)\n",
    "            # extract set of unique visit_id's from id's in list of measurements\n",
    "            visit_ids = set([measurement['visit_id'] for measurement in measurements])\n",
    "            visits = []\n",
    "            for visit_id in visit_ids: # iterate through set of individual's visit_id's\n",
    "                visit = self._get_visit(visit_id) # returns info from visit\n",
    "                # add measurement info from visit:\n",
    "                visit['measurements'] = [\n",
    "                    measurement for measurement in measurements\n",
    "                    if visit_id == measurement['visit_id']\n",
    "                ]\n",
    "                visits.append(visit) \n",
    "            record['visits'] = visits # add visit info to record\n",
    "            self._db.insert(record)"
   ]
  },
  {
   "cell_type": "code",
   "execution_count": 45,
   "metadata": {},
   "outputs": [
    {
     "data": {
      "text/plain": [
       "{'site_id': 'DR-1', 'latitude': -49.85, 'longitude': -128.57}"
      ]
     },
     "execution_count": 45,
     "metadata": {},
     "output_type": "execute_result"
    }
   ],
   "source": [
    "_site_lookup.get(str(site_id))"
   ]
  },
  {
   "cell_type": "code",
   "execution_count": null,
   "metadata": {},
   "outputs": [],
   "source": []
  }
 ],
 "metadata": {
  "kernelspec": {
   "display_name": "Python 3",
   "language": "python",
   "name": "python3"
  },
  "language_info": {
   "codemirror_mode": {
    "name": "ipython",
    "version": 3
   },
   "file_extension": ".py",
   "mimetype": "text/x-python",
   "name": "python",
   "nbconvert_exporter": "python",
   "pygments_lexer": "ipython3",
   "version": "3.8.3"
  }
 },
 "nbformat": 4,
 "nbformat_minor": 4
}
