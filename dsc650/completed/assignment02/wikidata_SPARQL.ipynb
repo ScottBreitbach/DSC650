{
 "cells": [
  {
   "cell_type": "code",
   "execution_count": null,
   "metadata": {},
   "outputs": [],
   "source": [
    "'''Generated from the query at https://query.wikidata.org/'''\n",
    "# pip install sparqlwrapper\n",
    "# https://rdflib.github.io/sparqlwrapper/\n",
    "\n",
    "import sys\n",
    "from SPARQLWrapper import SPARQLWrapper, JSON\n",
    "\n",
    "endpoint_url = \"https://query.wikidata.org/sparql\"\n",
    "\n",
    "query = \"\"\"#Recent Events\n",
    "SELECT ?date ?event ?eventLabel\n",
    "WHERE\n",
    "{\n",
    "    # find events\n",
    "    ?event wdt:P31/wdt:P279* wd:Q1190554.\n",
    "    # with a point in time or start date\n",
    "    OPTIONAL { ?event wdt:P585 ?date. }\n",
    "    OPTIONAL { ?event wdt:P580 ?date. }\n",
    "    # but at least one of those\n",
    "    FILTER(BOUND(?date) && DATATYPE(?date) = xsd:dateTime).\n",
    "    # not in the future, and not more than 31 days ago\n",
    "    BIND(NOW() - ?date AS ?distance).\n",
    "    FILTER(0 <= ?distance && ?distance < 31).\n",
    "    # and get a label as well\n",
    "    OPTIONAL {\n",
    "        ?event rdfs:label ?eventLabel.\n",
    "        FILTER(LANG(?eventLabel) = \"en\").\n",
    "    }\n",
    "}\n",
    "# limit to 10 results so we don't timeout\n",
    "LIMIT 10\"\"\"\n",
    "\n",
    "\n",
    "def get_results(endpoint_url, query):\n",
    "    user_agent = \"WDQS-example Python/%s.%s\" % (sys.version_info[0], sys.version_info[1])\n",
    "    # TODO adjust user agent; see https://w.wiki/CX6\n",
    "    sparql = SPARQLWrapper(endpoint_url, agent=user_agent)\n",
    "    sparql.setQuery(query)\n",
    "    sparql.setReturnFormat(JSON)\n",
    "    return sparql.query().convert()\n",
    "\n",
    "\n",
    "results = get_results(endpoint_url, query)\n",
    "\n",
    "for result in results[\"results\"][\"bindings\"]:\n",
    "    print(result)\n"
   ]
  }
 ],
 "metadata": {
  "kernelspec": {
   "display_name": "Python 3",
   "language": "python",
   "name": "python3"
  },
  "language_info": {
   "codemirror_mode": {
    "name": "ipython",
    "version": 3
   },
   "file_extension": ".py",
   "mimetype": "text/x-python",
   "name": "python",
   "nbconvert_exporter": "python",
   "pygments_lexer": "ipython3",
   "version": "3.8.3"
  }
 },
 "nbformat": 4,
 "nbformat_minor": 4
}
