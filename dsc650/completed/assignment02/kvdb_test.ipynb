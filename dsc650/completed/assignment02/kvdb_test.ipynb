{
 "cells": [
  {
   "cell_type": "code",
   "execution_count": 1,
   "metadata": {},
   "outputs": [],
   "source": [
    "import json\n",
    "from pathlib import Path\n",
    "import os\n",
    "\n",
    "import pandas as pd\n",
    "import s3fs"
   ]
  },
  {
   "cell_type": "code",
   "execution_count": 2,
   "metadata": {},
   "outputs": [],
   "source": [
    "def read_cluster_csv(file_path, endpoint_url='https://storage.budsc.midwest-datascience.com'):\n",
    "    s3 = s3fs.S3FileSystem(\n",
    "        anon=True,\n",
    "        client_kwargs={\n",
    "            'endpoint_url': endpoint_url\n",
    "        }\n",
    "    )\n",
    "    return pd.read_csv(s3.open(file_path, mode='rb'))\n",
    "\n",
    "current_dir = Path(os.getcwd()).absolute()\n",
    "results_dir = current_dir.joinpath('results')\n",
    "kv_data_dir = results_dir.joinpath('kvdb')\n",
    "kv_data_dir.mkdir(parents=True, exist_ok=True)\n",
    "\n",
    "people_json = kv_data_dir.joinpath('people.json')\n",
    "visited_json = kv_data_dir.joinpath('visited.json')\n",
    "sites_json = kv_data_dir.joinpath('sites.json')\n",
    "measurements_json = kv_data_dir.joinpath('measurements.json')"
   ]
  },
  {
   "cell_type": "code",
   "execution_count": 3,
   "metadata": {},
   "outputs": [],
   "source": [
    "class KVDB(object):\n",
    "    def __init__(self, db_path):\n",
    "        self._db_path = Path(db_path)\n",
    "        self._db = {}\n",
    "        self._load_db()\n",
    "\n",
    "    def _load_db(self):\n",
    "        if self._db_path.exists():\n",
    "            with open(self._db_path) as f:\n",
    "                self._db = json.load(f)\n",
    "\n",
    "    def get_value(self, key):\n",
    "        return self._db.get(key)\n",
    "\n",
    "    def set_value(self, key, value):\n",
    "        self._db[key] = value\n",
    "\n",
    "    def save(self):\n",
    "        with open(self._db_path, 'w') as f:\n",
    "            json.dump(self._db, f, indent=2)"
   ]
  },
  {
   "cell_type": "code",
   "execution_count": 4,
   "metadata": {},
   "outputs": [],
   "source": [
    "def create_sites_kvdb():\n",
    "    db = KVDB(sites_json)\n",
    "    df = read_cluster_csv('data/external/tidynomicon/site.csv')\n",
    "    for site_id, group_df in df.groupby('site_id'):\n",
    "        db.set_value(site_id, group_df.to_dict(orient='records')[0])\n",
    "    db.save()\n",
    "    \n",
    "create_sites_kvdb()"
   ]
  },
  {
   "cell_type": "code",
   "execution_count": 5,
   "metadata": {},
   "outputs": [],
   "source": [
    "def create_people_kvdb():\n",
    "    db = KVDB(people_json)\n",
    "    df = read_cluster_csv('data/external/tidynomicon/person.csv')\n",
    "    for person_id, group_df in df.groupby('person_id'):\n",
    "        db.set_value(person_id, group_df.to_dict(orient='records')[0])    \n",
    "    db.save()\n",
    "\n",
    "create_people_kvdb()"
   ]
  },
  {
   "cell_type": "code",
   "execution_count": 27,
   "metadata": {},
   "outputs": [],
   "source": [
    "peopleDB = KVDB(sites_json)"
   ]
  },
  {
   "cell_type": "code",
   "execution_count": 28,
   "metadata": {},
   "outputs": [],
   "source": [
    "peopleDF = read_cluster_csv('data/external/tidynomicon/person.csv')"
   ]
  },
  {
   "cell_type": "code",
   "execution_count": 29,
   "metadata": {},
   "outputs": [
    {
     "name": "stdout",
     "output_type": "stream",
     "text": [
      "danforth\n",
      "dyer\n",
      "lake\n",
      "pb\n",
      "roe\n"
     ]
    }
   ],
   "source": [
    "for person_id, group_df in peopleDF.groupby('person_id'):\n",
    "    print(person_id)"
   ]
  },
  {
   "cell_type": "code",
   "execution_count": 30,
   "metadata": {},
   "outputs": [
    {
     "name": "stdout",
     "output_type": "stream",
     "text": [
      "  person_id personal_name family_name\n",
      "4  danforth         Frank    Danforth\n",
      "  person_id personal_name family_name\n",
      "0      dyer       William        Dyer\n",
      "  person_id personal_name family_name\n",
      "2      lake      Anderson        Lake\n",
      "  person_id personal_name family_name\n",
      "1        pb         Frank     Pabodie\n",
      "  person_id personal_name family_name\n",
      "3       roe     Valentina     Roerich\n"
     ]
    }
   ],
   "source": [
    "for person_id, group_df in peopleDF.groupby('person_id'):\n",
    "    print(group_df)"
   ]
  },
  {
   "cell_type": "code",
   "execution_count": null,
   "metadata": {},
   "outputs": [],
   "source": []
  },
  {
   "cell_type": "code",
   "execution_count": 4,
   "metadata": {},
   "outputs": [],
   "source": [
    "db = KVDB(visited_json)"
   ]
  },
  {
   "cell_type": "code",
   "execution_count": 5,
   "metadata": {},
   "outputs": [
    {
     "data": {
      "text/plain": [
       "<__main__.KVDB at 0x7fee4a26a730>"
      ]
     },
     "execution_count": 5,
     "metadata": {},
     "output_type": "execute_result"
    }
   ],
   "source": [
    "db"
   ]
  },
  {
   "cell_type": "code",
   "execution_count": 6,
   "metadata": {},
   "outputs": [],
   "source": [
    "df = read_cluster_csv('data/external/tidynomicon/visited.csv')"
   ]
  },
  {
   "cell_type": "code",
   "execution_count": 7,
   "metadata": {},
   "outputs": [
    {
     "data": {
      "text/html": [
       "<div>\n",
       "<style scoped>\n",
       "    .dataframe tbody tr th:only-of-type {\n",
       "        vertical-align: middle;\n",
       "    }\n",
       "\n",
       "    .dataframe tbody tr th {\n",
       "        vertical-align: top;\n",
       "    }\n",
       "\n",
       "    .dataframe thead th {\n",
       "        text-align: right;\n",
       "    }\n",
       "</style>\n",
       "<table border=\"1\" class=\"dataframe\">\n",
       "  <thead>\n",
       "    <tr style=\"text-align: right;\">\n",
       "      <th></th>\n",
       "      <th>visit_id</th>\n",
       "      <th>site_id</th>\n",
       "      <th>visit_date</th>\n",
       "    </tr>\n",
       "  </thead>\n",
       "  <tbody>\n",
       "    <tr>\n",
       "      <th>0</th>\n",
       "      <td>619</td>\n",
       "      <td>DR-1</td>\n",
       "      <td>1927-02-08</td>\n",
       "    </tr>\n",
       "    <tr>\n",
       "      <th>1</th>\n",
       "      <td>622</td>\n",
       "      <td>DR-1</td>\n",
       "      <td>1927-02-10</td>\n",
       "    </tr>\n",
       "    <tr>\n",
       "      <th>2</th>\n",
       "      <td>734</td>\n",
       "      <td>DR-3</td>\n",
       "      <td>1930-01-07</td>\n",
       "    </tr>\n",
       "    <tr>\n",
       "      <th>3</th>\n",
       "      <td>735</td>\n",
       "      <td>DR-3</td>\n",
       "      <td>1930-01-12</td>\n",
       "    </tr>\n",
       "    <tr>\n",
       "      <th>4</th>\n",
       "      <td>751</td>\n",
       "      <td>DR-3</td>\n",
       "      <td>1930-02-26</td>\n",
       "    </tr>\n",
       "    <tr>\n",
       "      <th>5</th>\n",
       "      <td>752</td>\n",
       "      <td>DR-3</td>\n",
       "      <td>NaN</td>\n",
       "    </tr>\n",
       "    <tr>\n",
       "      <th>6</th>\n",
       "      <td>837</td>\n",
       "      <td>MSK-4</td>\n",
       "      <td>1932-01-14</td>\n",
       "    </tr>\n",
       "    <tr>\n",
       "      <th>7</th>\n",
       "      <td>844</td>\n",
       "      <td>DR-1</td>\n",
       "      <td>1932-03-22</td>\n",
       "    </tr>\n",
       "  </tbody>\n",
       "</table>\n",
       "</div>"
      ],
      "text/plain": [
       "   visit_id site_id  visit_date\n",
       "0       619    DR-1  1927-02-08\n",
       "1       622    DR-1  1927-02-10\n",
       "2       734    DR-3  1930-01-07\n",
       "3       735    DR-3  1930-01-12\n",
       "4       751    DR-3  1930-02-26\n",
       "5       752    DR-3         NaN\n",
       "6       837   MSK-4  1932-01-14\n",
       "7       844    DR-1  1932-03-22"
      ]
     },
     "execution_count": 7,
     "metadata": {},
     "output_type": "execute_result"
    }
   ],
   "source": [
    "df"
   ]
  },
  {
   "cell_type": "code",
   "execution_count": 9,
   "metadata": {},
   "outputs": [
    {
     "name": "stdout",
     "output_type": "stream",
     "text": [
      "(619, 'DR-1')\n",
      "(622, 'DR-1')\n",
      "(734, 'DR-3')\n",
      "(735, 'DR-3')\n",
      "(751, 'DR-3')\n",
      "(752, 'DR-3')\n",
      "(837, 'MSK-4')\n",
      "(844, 'DR-1')\n"
     ]
    }
   ],
   "source": [
    "for composite_id, group_df in df.groupby(['visit_id', 'site_id']):\n",
    "    print(composite_id)"
   ]
  },
  {
   "cell_type": "code",
   "execution_count": 19,
   "metadata": {},
   "outputs": [],
   "source": [
    "for composite_id, group_df in df.groupby(['visit_id', 'site_id']):\n",
    "    test = group_df"
   ]
  },
  {
   "cell_type": "code",
   "execution_count": 21,
   "metadata": {},
   "outputs": [
    {
     "data": {
      "text/plain": [
       "{'visit_id': 7    844\n",
       " Name: visit_id, dtype: int64,\n",
       " 'site_id': 7    DR-1\n",
       " Name: site_id, dtype: object,\n",
       " 'visit_date': 7    1932-03-22\n",
       " Name: visit_date, dtype: object}"
      ]
     },
     "execution_count": 21,
     "metadata": {},
     "output_type": "execute_result"
    }
   ],
   "source": [
    "dict(test)"
   ]
  },
  {
   "cell_type": "code",
   "execution_count": null,
   "metadata": {},
   "outputs": [],
   "source": []
  },
  {
   "cell_type": "code",
   "execution_count": 15,
   "metadata": {},
   "outputs": [
    {
     "data": {
      "text/plain": [
       "<pandas.core.groupby.generic.DataFrameGroupBy object at 0x7fee48dbff70>"
      ]
     },
     "execution_count": 15,
     "metadata": {},
     "output_type": "execute_result"
    }
   ],
   "source": [
    "for composite_id, group_df in df.groupby(['visit_id', 'site_id']):\n",
    "    print(group_df)"
   ]
  },
  {
   "cell_type": "code",
   "execution_count": 10,
   "metadata": {},
   "outputs": [
    {
     "name": "stdout",
     "output_type": "stream",
     "text": [
      "   visit_id site_id  visit_date\n",
      "0       619    DR-1  1927-02-08\n",
      "   visit_id site_id  visit_date\n",
      "1       622    DR-1  1927-02-10\n",
      "   visit_id site_id  visit_date\n",
      "2       734    DR-3  1930-01-07\n",
      "   visit_id site_id  visit_date\n",
      "3       735    DR-3  1930-01-12\n",
      "   visit_id site_id  visit_date\n",
      "4       751    DR-3  1930-02-26\n",
      "   visit_id site_id visit_date\n",
      "5       752    DR-3        NaN\n",
      "   visit_id site_id  visit_date\n",
      "6       837   MSK-4  1932-01-14\n",
      "   visit_id site_id  visit_date\n",
      "7       844    DR-1  1932-03-22\n"
     ]
    }
   ],
   "source": [
    "for composite_id, group_df in df.groupby(['visit_id', 'site_id']):\n",
    "    print(group_df)"
   ]
  },
  {
   "cell_type": "code",
   "execution_count": 26,
   "metadata": {},
   "outputs": [
    {
     "name": "stdout",
     "output_type": "stream",
     "text": [
      "{'visit_id': 619, 'site_id': 'DR-1', 'visit_date': '1927-02-08'}\n",
      "{'visit_id': 622, 'site_id': 'DR-1', 'visit_date': '1927-02-10'}\n",
      "{'visit_id': 734, 'site_id': 'DR-3', 'visit_date': '1930-01-07'}\n",
      "{'visit_id': 735, 'site_id': 'DR-3', 'visit_date': '1930-01-12'}\n",
      "{'visit_id': 751, 'site_id': 'DR-3', 'visit_date': '1930-02-26'}\n",
      "{'visit_id': 752, 'site_id': 'DR-3', 'visit_date': nan}\n",
      "{'visit_id': 837, 'site_id': 'MSK-4', 'visit_date': '1932-01-14'}\n",
      "{'visit_id': 844, 'site_id': 'DR-1', 'visit_date': '1932-03-22'}\n"
     ]
    }
   ],
   "source": [
    "for composite_id, group_df in df.groupby(['visit_id', 'site_id']):\n",
    "    print(dict(group_df.to_dict(orient='records')[0]))"
   ]
  },
  {
   "cell_type": "code",
   "execution_count": 11,
   "metadata": {},
   "outputs": [
    {
     "name": "stdout",
     "output_type": "stream",
     "text": [
      "{'visit_id': 619, 'site_id': 'DR-1', 'visit_date': '1927-02-08'}\n",
      "{'visit_id': 622, 'site_id': 'DR-1', 'visit_date': '1927-02-10'}\n",
      "{'visit_id': 734, 'site_id': 'DR-3', 'visit_date': '1930-01-07'}\n",
      "{'visit_id': 735, 'site_id': 'DR-3', 'visit_date': '1930-01-12'}\n",
      "{'visit_id': 751, 'site_id': 'DR-3', 'visit_date': '1930-02-26'}\n",
      "{'visit_id': 752, 'site_id': 'DR-3', 'visit_date': nan}\n",
      "{'visit_id': 837, 'site_id': 'MSK-4', 'visit_date': '1932-01-14'}\n",
      "{'visit_id': 844, 'site_id': 'DR-1', 'visit_date': '1932-03-22'}\n"
     ]
    }
   ],
   "source": [
    "for composite_id, group_df in df.groupby(['visit_id', 'site_id']):\n",
    "    print(group_df.to_dict(orient='records')[0])"
   ]
  },
  {
   "cell_type": "code",
   "execution_count": null,
   "metadata": {},
   "outputs": [],
   "source": []
  },
  {
   "cell_type": "code",
   "execution_count": 11,
   "metadata": {},
   "outputs": [],
   "source": [
    "kvdb_path = 'visits.json'"
   ]
  },
  {
   "cell_type": "code",
   "execution_count": 12,
   "metadata": {},
   "outputs": [],
   "source": [
    "kvdb = KVDB(kvdb_path)"
   ]
  },
  {
   "cell_type": "code",
   "execution_count": 8,
   "metadata": {},
   "outputs": [],
   "source": [
    "testKey = (619, 'DR-1')"
   ]
  },
  {
   "cell_type": "code",
   "execution_count": 9,
   "metadata": {},
   "outputs": [
    {
     "data": {
      "text/plain": [
       "(619, 'DR-1')"
      ]
     },
     "execution_count": 9,
     "metadata": {},
     "output_type": "execute_result"
    }
   ],
   "source": [
    "testKey"
   ]
  },
  {
   "cell_type": "code",
   "execution_count": 6,
   "metadata": {},
   "outputs": [],
   "source": [
    "testVal = dict(\n",
    "    visit_id=619,\n",
    "    site_id='DR-1',\n",
    "    visit_date='1927-02-08'\n",
    " )"
   ]
  },
  {
   "cell_type": "code",
   "execution_count": 7,
   "metadata": {},
   "outputs": [
    {
     "data": {
      "text/plain": [
       "{'visit_id': 619, 'site_id': 'DR-1', 'visit_date': '1927-02-08'}"
      ]
     },
     "execution_count": 7,
     "metadata": {},
     "output_type": "execute_result"
    }
   ],
   "source": [
    "testVal"
   ]
  },
  {
   "cell_type": "code",
   "execution_count": 13,
   "metadata": {},
   "outputs": [],
   "source": [
    "kvdb.set_value(testKey, testVal)"
   ]
  },
  {
   "cell_type": "code",
   "execution_count": 15,
   "metadata": {},
   "outputs": [],
   "source": [
    "retrieved_value = kvdb.get_value(testKey)"
   ]
  },
  {
   "cell_type": "code",
   "execution_count": 16,
   "metadata": {},
   "outputs": [
    {
     "data": {
      "text/plain": [
       "{'visit_id': 619, 'site_id': 'DR-1', 'visit_date': '1927-02-08'}"
      ]
     },
     "execution_count": 16,
     "metadata": {},
     "output_type": "execute_result"
    }
   ],
   "source": [
    "retrieved_value"
   ]
  },
  {
   "cell_type": "code",
   "execution_count": null,
   "metadata": {},
   "outputs": [],
   "source": []
  },
  {
   "cell_type": "code",
   "execution_count": 6,
   "metadata": {},
   "outputs": [],
   "source": [
    "def create_visits_kvdb():\n",
    "    db = KVDB(visited_json)\n",
    "    df = read_cluster_csv('data/external/tidynomicon/visited.csv')\n",
    "    for composite_id, group_df in df.groupby(['visit_id', 'site_id']):\n",
    "        key = str(composite_id)\n",
    "        db.set_value(key, group_df.to_dict(orient='records')[0])\n",
    "    db.save()   \n",
    "    \n",
    "create_visits_kvdb()"
   ]
  },
  {
   "cell_type": "code",
   "execution_count": 7,
   "metadata": {},
   "outputs": [],
   "source": [
    "def create_measurements_kvdb():\n",
    "    db = KVDB(measurements_json)\n",
    "    df = read_cluster_csv('data/external/tidynomicon/measurements.csv')\n",
    "    for composite_id, group_df in df.groupby(['visit_id', 'person_id', 'quantity']):\n",
    "        key = str(composite_id)\n",
    "        db.set_value(key, group_df.to_dict(orient='records')[0])\n",
    "    db.save()\n",
    "    \n",
    "create_measurements_kvdb()"
   ]
  },
  {
   "cell_type": "code",
   "execution_count": null,
   "metadata": {},
   "outputs": [],
   "source": [
    "def create_sites_kvdb():\n",
    "    db = KVDB(sites_json)\n",
    "    df = read_cluster_csv('data/external/tidynomicon/site.csv')\n",
    "    for site_id, group_df in df.groupby('site_id'):\n",
    "        db.set_value(site_id, group_df.to_dict(orient='records')[0])\n",
    "    db.save()\n",
    "\n",
    "\n",
    "def create_people_kvdb():\n",
    "    db = KVDB(people_json)\n",
    "    df = read_cluster_csv('data/external/tidynomicon/person.csv')\n",
    "    for person_id, group_df in df.groupby('person_id'):\n",
    "        db.set_value(person_id, group_df.to_dict(orient='records')[0])    \n",
    "    db.save()\n",
    "\n",
    "\n",
    "def create_visits_kvdb():\n",
    "    db = KVDB(visited_json)\n",
    "    df = read_cluster_csv('data/external/tidynomicon/visited.csv')\n",
    "    for composite_id, group_df in df.groupby(['visit_id', 'site_id']):\n",
    "        key = str(composite_id)\n",
    "        db.set_value(key, group_df.to_dict(orient='records')[0])\n",
    "    db.save() \n",
    "\n",
    "def create_measurements_kvdb():\n",
    "    db = KVDB(measurements_json)\n",
    "    df = read_cluster_csv('data/external/tidynomicon/measurements.csv')\n",
    "    for composite_id, group_df in df.groupby(['visit_id', 'person_id', 'quantity']):\n",
    "        key = str(composite_id)\n",
    "        db.set_value(key, group_df.to_dict(orient='records')[0])\n",
    "    db.save()"
   ]
  },
  {
   "cell_type": "code",
   "execution_count": null,
   "metadata": {},
   "outputs": [],
   "source": [
    "create_sites_kvdb()\n",
    "create_people_kvdb()\n",
    "create_visits_kvdb()\n",
    "create_measurements_kvdb()"
   ]
  },
  {
   "cell_type": "code",
   "execution_count": null,
   "metadata": {},
   "outputs": [],
   "source": []
  },
  {
   "cell_type": "markdown",
   "metadata": {},
   "source": [
    "TRY SETTING A SINGLE KEY (INSTEAD OF COMPOSITE) FOR VISITS"
   ]
  },
  {
   "cell_type": "code",
   "execution_count": 1,
   "metadata": {},
   "outputs": [],
   "source": [
    "import json\n",
    "from pathlib import Path\n",
    "import os\n",
    "\n",
    "import pandas as pd\n",
    "import s3fs\n",
    "\n",
    "def read_cluster_csv(file_path, endpoint_url='https://storage.budsc.midwest-datascience.com'):\n",
    "    s3 = s3fs.S3FileSystem(\n",
    "        anon=True,\n",
    "        client_kwargs={\n",
    "            'endpoint_url': endpoint_url\n",
    "        }\n",
    "    )\n",
    "    return pd.read_csv(s3.open(file_path, mode='rb'))\n",
    "\n",
    "current_dir = Path(os.getcwd()).absolute()\n",
    "results_dir = current_dir.joinpath('results')\n",
    "kv_data_dir = results_dir.joinpath('kvdb')\n",
    "kv_data_dir.mkdir(parents=True, exist_ok=True)\n",
    "\n",
    "people_json = kv_data_dir.joinpath('people.json')\n",
    "visited_json = kv_data_dir.joinpath('visited.json')\n",
    "sites_json = kv_data_dir.joinpath('sites.json')\n",
    "measurements_json = kv_data_dir.joinpath('measurements.json')"
   ]
  },
  {
   "cell_type": "code",
   "execution_count": 2,
   "metadata": {},
   "outputs": [],
   "source": [
    "class KVDB(object):\n",
    "    def __init__(self, db_path):\n",
    "        self._db_path = Path(db_path)\n",
    "        self._db = {}\n",
    "        self._load_db()\n",
    "\n",
    "    def _load_db(self):\n",
    "        if self._db_path.exists():\n",
    "            with open(self._db_path) as f:\n",
    "                self._db = json.load(f)\n",
    "\n",
    "    def get_value(self, key):\n",
    "        return self._db.get(key)\n",
    "\n",
    "    def set_value(self, key, value):\n",
    "        self._db[key] = value\n",
    "\n",
    "    def save(self):\n",
    "        with open(self._db_path, 'w') as f:\n",
    "            json.dump(self._db, f, indent=2)"
   ]
  },
  {
   "cell_type": "code",
   "execution_count": 5,
   "metadata": {},
   "outputs": [],
   "source": [
    "def create_visits_kvdb():\n",
    "    db = KVDB(visited_json)\n",
    "    df = read_cluster_csv('data/external/tidynomicon/visited.csv')\n",
    "#     for composite_id, group_df in df.groupby(['visit_id', 'site_id']):\n",
    "#         key = str(composite_id)\n",
    "#         db.set_value(key, group_df.to_dict(orient='records')[0])\n",
    "    for visit_id, group_df in df.groupby('visit_id'):\n",
    "        db.set_value(visit_id, group_df.to_dict(orient='records')[0])\n",
    "    db.save() "
   ]
  },
  {
   "cell_type": "code",
   "execution_count": 7,
   "metadata": {},
   "outputs": [],
   "source": [
    "create_visits_kvdb()"
   ]
  },
  {
   "cell_type": "code",
   "execution_count": null,
   "metadata": {},
   "outputs": [],
   "source": []
  }
 ],
 "metadata": {
  "kernelspec": {
   "display_name": "Python 3",
   "language": "python",
   "name": "python3"
  },
  "language_info": {
   "codemirror_mode": {
    "name": "ipython",
    "version": 3
   },
   "file_extension": ".py",
   "mimetype": "text/x-python",
   "name": "python",
   "nbconvert_exporter": "python",
   "pygments_lexer": "ipython3",
   "version": "3.8.3"
  }
 },
 "nbformat": 4,
 "nbformat_minor": 4
}
