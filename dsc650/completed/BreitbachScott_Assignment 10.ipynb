{
  "nbformat": 4,
  "nbformat_minor": 0,
  "metadata": {
    "colab": {
      "name": "BreitbachScott_Assignment 10.ipynb",
      "provenance": [],
      "collapsed_sections": []
    },
    "kernelspec": {
      "name": "python3",
      "display_name": "Python 3"
    },
    "language_info": {
      "name": "python"
    }
  },
  "cells": [
    {
      "cell_type": "markdown",
      "source": [
        "# Scott Breitbach\n",
        "## 16-May-2022\n",
        "## DSC650, Week 10"
      ],
      "metadata": {
        "id": "ZGyFl-crqb4E"
      }
    },
    {
      "cell_type": "markdown",
      "source": [
        "### 10.1\n",
        "#### Assignment 10.1.a\n",
        "Create a tokenize function that splits a sentence into words. Ensure that your tokenizer removes basic punctuation.\n",
        "```python\n",
        "def tokenize(sentence):\n",
        "    tokens = []\n",
        "    # tokenize the sentence\n",
        "    return tokens\n",
        "```"
      ],
      "metadata": {
        "id": "lbEHHH-zCMCK"
      }
    },
    {
      "cell_type": "code",
      "execution_count": 1,
      "metadata": {
        "id": "aNqp-fYQCAWB"
      },
      "outputs": [],
      "source": [
        "import string\n",
        "\n",
        "def tokenize(sentence):\n",
        "  # standardize to lowercase\n",
        "  sentence = sentence.lower()\n",
        "  # remove punctuation\n",
        "  sentence = \"\".join(char for char in sentence if char not in string.punctuation)\n",
        "  # split words into separate tokens\n",
        "  return sentence.split()"
      ]
    },
    {
      "cell_type": "code",
      "source": [
        "text = \"Okay, here's some text.\"\n",
        "text"
      ],
      "metadata": {
        "colab": {
          "base_uri": "https://localhost:8080/",
          "height": 35
        },
        "id": "MmU-I6RKCREJ",
        "outputId": "21d1c3d6-3ddf-4e42-b20d-b78a74915623"
      },
      "execution_count": 2,
      "outputs": [
        {
          "output_type": "execute_result",
          "data": {
            "text/plain": [
              "\"Okay, here's some text.\""
            ],
            "application/vnd.google.colaboratory.intrinsic+json": {
              "type": "string"
            }
          },
          "metadata": {},
          "execution_count": 2
        }
      ]
    },
    {
      "cell_type": "code",
      "source": [
        "tokenized_text = tokenize(text)\n",
        "tokenized_text"
      ],
      "metadata": {
        "colab": {
          "base_uri": "https://localhost:8080/",
          "height": 0
        },
        "id": "9KfVQzNoCTlK",
        "outputId": "d0c622bb-b861-491b-d368-d229c337997f"
      },
      "execution_count": 3,
      "outputs": [
        {
          "output_type": "execute_result",
          "data": {
            "text/plain": [
              "['okay', 'heres', 'some', 'text']"
            ]
          },
          "metadata": {},
          "execution_count": 3
        }
      ]
    },
    {
      "cell_type": "markdown",
      "source": [
        "\n",
        "#### Assignment 10.1.b\n",
        "\n",
        "Implement an `ngram` function that splits tokens into N-grams. \n",
        "\n",
        "```python\n",
        "def ngram(tokens, n):\n",
        "    ngrams = []\n",
        "    # Create ngrams\n",
        "    return ngrams\n",
        "```"
      ],
      "metadata": {
        "id": "f_J61XxDCd-o"
      }
    },
    {
      "cell_type": "code",
      "source": [
        "def ngram(tokens, n=1):\n",
        "  # Zip the tokens into n-grams\n",
        "  zippy = zip(*[tokens[i:] for i in range(n)])\n",
        "  # Join the n-grams\n",
        "  return [\" \".join(ngram) for ngram in zippy]"
      ],
      "metadata": {
        "id": "l7sjvSxFCWR3"
      },
      "execution_count": 4,
      "outputs": []
    },
    {
      "cell_type": "code",
      "source": [
        "unigram_text = ngram(tokenized_text)\n",
        "unigram_text"
      ],
      "metadata": {
        "colab": {
          "base_uri": "https://localhost:8080/",
          "height": 0
        },
        "id": "dtZFvePqItgc",
        "outputId": "e621336e-a4ee-445f-e1ec-2330c7426411"
      },
      "execution_count": 5,
      "outputs": [
        {
          "output_type": "execute_result",
          "data": {
            "text/plain": [
              "['okay', 'heres', 'some', 'text']"
            ]
          },
          "metadata": {},
          "execution_count": 5
        }
      ]
    },
    {
      "cell_type": "code",
      "source": [
        "bigram_text = ngram(tokenized_text, 2)\n",
        "bigram_text"
      ],
      "metadata": {
        "colab": {
          "base_uri": "https://localhost:8080/",
          "height": 0
        },
        "id": "g1uHt9qnIVrq",
        "outputId": "d6fe861a-b6ab-40e2-ea37-c82f94b18f01"
      },
      "execution_count": 6,
      "outputs": [
        {
          "output_type": "execute_result",
          "data": {
            "text/plain": [
              "['okay heres', 'heres some', 'some text']"
            ]
          },
          "metadata": {},
          "execution_count": 6
        }
      ]
    },
    {
      "cell_type": "code",
      "source": [
        "trigram_text = ngram(tokenized_text, 3)\n",
        "trigram_text"
      ],
      "metadata": {
        "colab": {
          "base_uri": "https://localhost:8080/",
          "height": 0
        },
        "id": "ciFvsxDVIkCm",
        "outputId": "77fc0baa-9aeb-432e-f945-74f07ce0600c"
      },
      "execution_count": 7,
      "outputs": [
        {
          "output_type": "execute_result",
          "data": {
            "text/plain": [
              "['okay heres some', 'heres some text']"
            ]
          },
          "metadata": {},
          "execution_count": 7
        }
      ]
    },
    {
      "cell_type": "markdown",
      "source": [
        "#### Assignment 10.1.c\n",
        "Implement an one_hot_encode function to create a vector from a numerical vector from a list of tokens.\n",
        "\n",
        "```python\n",
        "def one_hot_encode(tokens, num_words):\n",
        "    token_index = {}\n",
        "    results = ''\n",
        "    return results\n",
        "```"
      ],
      "metadata": {
        "id": "QkSDqXwPJL4q"
      }
    },
    {
      "cell_type": "code",
      "source": [
        "import numpy as np\n",
        "\n",
        "def one_hot_encode(tokens, num_words):\n",
        "  # Build an index of the tokens\n",
        "  token_index = {}\n",
        "  for word in tokens:\n",
        "    if word not in token_index:\n",
        "      # Assign an index to each unique word\n",
        "      token_index[word] = len(token_index) + 1\n",
        "  # Vectorize the tokens\n",
        "  max_length = 10\n",
        "  # Create vector of zeros\n",
        "  results = np.zeros(shape=(max_length,\n",
        "                            max(token_index.values()) + 1))\n",
        "  # One-hot-encode the words to the results vector\n",
        "  for i, word in list(enumerate(tokens))[:max_length]:\n",
        "    index = token_index.get(word)\n",
        "    results[i, index] = 1\n",
        "  return results"
      ],
      "metadata": {
        "id": "IG0D9wBKIrtf"
      },
      "execution_count": 8,
      "outputs": []
    },
    {
      "cell_type": "code",
      "source": [
        "one_hot_text = one_hot_encode(tokenized_text, 1000)\n",
        "one_hot_text"
      ],
      "metadata": {
        "colab": {
          "base_uri": "https://localhost:8080/",
          "height": 0
        },
        "id": "OPSiTXpRp91h",
        "outputId": "cabce3b4-b3bd-46ef-aecc-2243145b3f96"
      },
      "execution_count": 9,
      "outputs": [
        {
          "output_type": "execute_result",
          "data": {
            "text/plain": [
              "array([[0., 1., 0., 0., 0.],\n",
              "       [0., 0., 1., 0., 0.],\n",
              "       [0., 0., 0., 1., 0.],\n",
              "       [0., 0., 0., 0., 1.],\n",
              "       [0., 0., 0., 0., 0.],\n",
              "       [0., 0., 0., 0., 0.],\n",
              "       [0., 0., 0., 0., 0.],\n",
              "       [0., 0., 0., 0., 0.],\n",
              "       [0., 0., 0., 0., 0.],\n",
              "       [0., 0., 0., 0., 0.]])"
            ]
          },
          "metadata": {},
          "execution_count": 9
        }
      ]
    },
    {
      "cell_type": "markdown",
      "source": [
        "### 10.2\n",
        "Using listings 6.16, 6.17, and 6.18 in *Deep Learning with Python* as a guide, train a sequential model with embeddings on the IMDB data found in `data/external/imdb/`. Produce the model performance metrics and training and validation accuracy curves within the Jupyter notebook."
      ],
      "metadata": {
        "id": "1-EAWX0mqXf_"
      }
    },
    {
      "cell_type": "markdown",
      "source": [
        "Get data:"
      ],
      "metadata": {
        "id": "X8JLWhWO67TX"
      }
    },
    {
      "cell_type": "code",
      "source": [
        "# Get data by cloning dsc650 GitHub repository\n",
        "!git clone https://github.com/bellevue-university/dsc650"
      ],
      "metadata": {
        "id": "ALdwlYxfqHti",
        "colab": {
          "base_uri": "https://localhost:8080/",
          "height": 0
        },
        "outputId": "b120fd45-1089-4e08-8ec0-952c0e08d75e"
      },
      "execution_count": 10,
      "outputs": [
        {
          "output_type": "stream",
          "name": "stdout",
          "text": [
            "fatal: destination path 'dsc650' already exists and is not an empty directory.\n"
          ]
        }
      ]
    },
    {
      "cell_type": "markdown",
      "source": [
        "Preprocess the data:"
      ],
      "metadata": {
        "id": "x0OpLrZS6-Pw"
      }
    },
    {
      "cell_type": "code",
      "source": [
        "# Process the labels of the raw IMDB data\n",
        "import os\n",
        "\n",
        "imdb_dir = '/content/dsc650/data/external/imdb/aclImdb'\n",
        "train_dir = os.path.join(imdb_dir, 'train')\n",
        "\n",
        "labels = []\n",
        "texts = []\n",
        "\n",
        "for label_type in ['neg', 'pos']:\n",
        "  dir_name = os.path.join(train_dir, label_type)\n",
        "  for fname in os.listdir(dir_name):\n",
        "    if fname[-4:] == '.txt':\n",
        "      f = open(os.path.join(dir_name, fname))\n",
        "      texts.append(f.read())\n",
        "      f.close()\n",
        "      if label_type == 'neg':\n",
        "        labels.append(0)\n",
        "      else:\n",
        "        labels.append(1)"
      ],
      "metadata": {
        "id": "Wok9VzDt2ztY"
      },
      "execution_count": 11,
      "outputs": []
    },
    {
      "cell_type": "code",
      "source": [
        "# Tokenizing the text and prepare a train/val split\n",
        "from keras.preprocessing.text import Tokenizer\n",
        "from keras.preprocessing.sequence import pad_sequences\n",
        "import numpy as np\n",
        "\n",
        "maxlen = 100 \n",
        "training_samples = 200 \n",
        "validation_samples = 10000\n",
        "max_words = 10000 \n",
        "\n",
        "tokenizer = Tokenizer(num_words=max_words)\n",
        "tokenizer.fit_on_texts(texts)\n",
        "sequences = tokenizer.texts_to_sequences(texts)\n",
        "\n",
        "word_index = tokenizer.word_index\n",
        "print('Found %s unique tokens.' % len(word_index))\n",
        "\n",
        "data = pad_sequences(sequences, maxlen=maxlen)\n",
        "\n",
        "labels = np.asarray(labels)\n",
        "print('Shape of data tensor:', data.shape)\n",
        "print('Shape of label tensor:', labels.shape)\n",
        "\n",
        "indices = np.arange(data.shape[0])\n",
        "np.random.shuffle(indices) # shuffle data before splitting\n",
        "data = data[indices]\n",
        "labels = labels[indices]\n",
        "\n",
        "x_train = data[:training_samples]\n",
        "y_train = labels[:training_samples]\n",
        "x_val = data[training_samples: training_samples + validation_samples]\n",
        "y_val = labels[training_samples: training_samples + validation_samples]"
      ],
      "metadata": {
        "colab": {
          "base_uri": "https://localhost:8080/",
          "height": 0
        },
        "id": "tgplVAVd3KNf",
        "outputId": "88592fa7-0494-4faf-cc31-af71f7be88fd"
      },
      "execution_count": 12,
      "outputs": [
        {
          "output_type": "stream",
          "name": "stdout",
          "text": [
            "Found 88582 unique tokens.\n",
            "Shape of data tensor: (25000, 100)\n",
            "Shape of label tensor: (25000,)\n"
          ]
        }
      ]
    },
    {
      "cell_type": "markdown",
      "source": [
        "Define the model:"
      ],
      "metadata": {
        "id": "ZhEMIinZ6SXm"
      }
    },
    {
      "cell_type": "code",
      "source": [
        "# Train the model without pretrained word embeddings\n",
        "from keras.models import Sequential\n",
        "from keras.layers import Embedding, Flatten, Dense\n",
        "\n",
        "embedding_dim = 100\n",
        "\n",
        "model = Sequential()\n",
        "model.add(Embedding(max_words, embedding_dim, input_length=maxlen))\n",
        "model.add(Flatten())\n",
        "model.add(Dense(32, activation='relu'))\n",
        "model.add(Dense(1, activation='sigmoid'))\n",
        "model.summary()\n",
        "\n",
        "# Compile and train the model\n",
        "model.compile(optimizer='rmsprop',\n",
        "              loss='binary_crossentropy',\n",
        "              metrics=['acc'])\n",
        "history = model.fit(x_train, y_train,\n",
        "                    epochs=10,\n",
        "                    batch_size=32,\n",
        "validation_data=(x_val, y_val))"
      ],
      "metadata": {
        "colab": {
          "base_uri": "https://localhost:8080/",
          "height": 0
        },
        "id": "fhcIjF-N3f55",
        "outputId": "a55f0fb6-9659-45bc-92d0-5d6aea97fc52"
      },
      "execution_count": 13,
      "outputs": [
        {
          "output_type": "stream",
          "name": "stdout",
          "text": [
            "Model: \"sequential\"\n",
            "_________________________________________________________________\n",
            " Layer (type)                Output Shape              Param #   \n",
            "=================================================================\n",
            " embedding (Embedding)       (None, 100, 100)          1000000   \n",
            "                                                                 \n",
            " flatten (Flatten)           (None, 10000)             0         \n",
            "                                                                 \n",
            " dense (Dense)               (None, 32)                320032    \n",
            "                                                                 \n",
            " dense_1 (Dense)             (None, 1)                 33        \n",
            "                                                                 \n",
            "=================================================================\n",
            "Total params: 1,320,065\n",
            "Trainable params: 1,320,065\n",
            "Non-trainable params: 0\n",
            "_________________________________________________________________\n",
            "Epoch 1/10\n",
            "7/7 [==============================] - 2s 254ms/step - loss: 0.6962 - acc: 0.4750 - val_loss: 0.6926 - val_acc: 0.5081\n",
            "Epoch 2/10\n",
            "7/7 [==============================] - 1s 226ms/step - loss: 0.5014 - acc: 0.9900 - val_loss: 0.6960 - val_acc: 0.5028\n",
            "Epoch 3/10\n",
            "7/7 [==============================] - 1s 225ms/step - loss: 0.2751 - acc: 1.0000 - val_loss: 0.6971 - val_acc: 0.5212\n",
            "Epoch 4/10\n",
            "7/7 [==============================] - 1s 148ms/step - loss: 0.1163 - acc: 1.0000 - val_loss: 0.7009 - val_acc: 0.5227\n",
            "Epoch 5/10\n",
            "7/7 [==============================] - 1s 230ms/step - loss: 0.0533 - acc: 1.0000 - val_loss: 0.7053 - val_acc: 0.5231\n",
            "Epoch 6/10\n",
            "7/7 [==============================] - 1s 133ms/step - loss: 0.0280 - acc: 1.0000 - val_loss: 0.7104 - val_acc: 0.5296\n",
            "Epoch 7/10\n",
            "7/7 [==============================] - 1s 226ms/step - loss: 0.0151 - acc: 1.0000 - val_loss: 0.7135 - val_acc: 0.5324\n",
            "Epoch 8/10\n",
            "7/7 [==============================] - 1s 149ms/step - loss: 0.0088 - acc: 1.0000 - val_loss: 0.7179 - val_acc: 0.5301\n",
            "Epoch 9/10\n",
            "7/7 [==============================] - 1s 145ms/step - loss: 0.0052 - acc: 1.0000 - val_loss: 0.7271 - val_acc: 0.5303\n",
            "Epoch 10/10\n",
            "7/7 [==============================] - 1s 234ms/step - loss: 0.0032 - acc: 1.0000 - val_loss: 0.7293 - val_acc: 0.5283\n"
          ]
        }
      ]
    },
    {
      "cell_type": "markdown",
      "source": [
        "Evaluate the model on the test set:"
      ],
      "metadata": {
        "id": "a-4T6VUo6c_r"
      }
    },
    {
      "cell_type": "code",
      "source": [
        "# Tokenize the data of the test set\n",
        "test_dir = os.path.join(imdb_dir, 'test')\n",
        "\n",
        "labels = []\n",
        "texts = []\n",
        "\n",
        "for label_type in ['neg', 'pos']:\n",
        "  dir_name = os.path.join(test_dir, label_type)\n",
        "  for fname in sorted(os.listdir(dir_name)):\n",
        "    if fname[-4:] == '.txt':\n",
        "      f = open(os.path.join(dir_name, fname))\n",
        "      texts.append(f.read())\n",
        "      f.close()\n",
        "      if label_type == 'neg':\n",
        "        labels.append(0)\n",
        "      else:\n",
        "        labels.append(1)\n",
        "\n",
        "sequences = tokenizer.texts_to_sequences(texts)\n",
        "x_test = pad_sequences(sequences, maxlen=maxlen)\n",
        "y_test = np.asarray(labels)"
      ],
      "metadata": {
        "id": "gixSilZA6erM"
      },
      "execution_count": 14,
      "outputs": []
    },
    {
      "cell_type": "markdown",
      "source": [
        "Plot the model's performance over time:"
      ],
      "metadata": {
        "id": "i2MJWS-86l16"
      }
    },
    {
      "cell_type": "code",
      "source": [
        "# Plot the results\n",
        "import matplotlib.pyplot as plt\n",
        "\n",
        "acc = history.history['acc']\n",
        "val_acc = history.history['val_acc']\n",
        "loss = history.history['loss']\n",
        "val_loss = history.history['val_loss']\n",
        "\n",
        "epochs = range(1, len(acc) + 1)\n",
        "\n",
        "plt.plot(epochs, acc, 'bo', label='Training acc')\n",
        "plt.plot(epochs, val_acc, 'b', label='Validation acc')\n",
        "plt.title('Training and validation accuracy')\n",
        "plt.legend()\n",
        "\n",
        "plt.figure()\n",
        "\n",
        "plt.plot(epochs, loss, 'bo', label='Training loss')\n",
        "plt.plot(epochs, val_loss, 'b', label='Validation loss')\n",
        "plt.title('Training and validation loss')\n",
        "plt.legend()\n",
        "\n",
        "plt.show()"
      ],
      "metadata": {
        "colab": {
          "base_uri": "https://localhost:8080/",
          "height": 545
        },
        "id": "sEKdRKE_6nfd",
        "outputId": "36e45872-1cf3-41f9-a344-2fef546abe6f"
      },
      "execution_count": 15,
      "outputs": [
        {
          "output_type": "display_data",
          "data": {
            "text/plain": [
              "<Figure size 432x288 with 1 Axes>"
            ],
            "image/png": "[encoded data removed]"
          },
          "metadata": {
            "needs_background": "light"
          }
        },
        {
          "output_type": "display_data",
          "data": {
            "text/plain": [
              "<Figure size 432x288 with 1 Axes>"
            ],
            "image/png": "[encoded data removed]"
          },
          "metadata": {
            "needs_background": "light"
          }
        }
      ]
    },
    {
      "cell_type": "markdown",
      "source": [
        "Evaluate the model:"
      ],
      "metadata": {
        "id": "jFfgTJZh6uJO"
      }
    },
    {
      "cell_type": "code",
      "source": [
        "# Evaluate the model on the test set\n",
        "eval = model.evaluate(x_test, y_test)\n",
        "print(f\"Model Loss:     {eval[0]:.3f}\")\n",
        "print(f\"Model Accuracy: {eval[1]*100:.1f}%\")"
      ],
      "metadata": {
        "colab": {
          "base_uri": "https://localhost:8080/",
          "height": 0
        },
        "id": "qYr6q0D56tgr",
        "outputId": "475fa217-5875-4704-dbab-9af7a6064458"
      },
      "execution_count": 16,
      "outputs": [
        {
          "output_type": "stream",
          "name": "stdout",
          "text": [
            "782/782 [==============================] - 2s 3ms/step - loss: 0.7292 - acc: 0.5296\n",
            "Model Loss:     0.729\n",
            "Model Accuracy: 53.0%\n"
          ]
        }
      ]
    },
    {
      "cell_type": "markdown",
      "source": [
        "#### 10.3\n",
        "Using listing 6.27 in *Deep Learning with Python* as a guide, fit the same data with an LSTM layer. Produce the model performance metrics and training and validation accuracy curves within the Jupyter notebook."
      ],
      "metadata": {
        "id": "728FG9de-liT"
      }
    },
    {
      "cell_type": "code",
      "source": [
        "# Use the LSTM layer in Keras\n",
        "from keras.layers import LSTM\n",
        "\n",
        "max_features = 10000 # Number of words to consider as features\n",
        "\n",
        "model = Sequential()\n",
        "model.add(Embedding(max_features, 32))\n",
        "model.add(LSTM(32))\n",
        "model.add(Dense(1, activation='sigmoid'))\n",
        "\n",
        "model.compile(optimizer='rmsprop',\n",
        "              loss='binary_crossentropy',\n",
        "              metrics=['acc'])\n",
        "history = model.fit(x_train, y_train,\n",
        "                    epochs=10,\n",
        "                    batch_size=128,\n",
        "                    validation_split=0.2)"
      ],
      "metadata": {
        "colab": {
          "base_uri": "https://localhost:8080/",
          "height": 0
        },
        "id": "VR3HPoSB-EL-",
        "outputId": "76a4f0db-0ef5-4bf6-89c1-108bb5939d30"
      },
      "execution_count": 17,
      "outputs": [
        {
          "output_type": "stream",
          "name": "stdout",
          "text": [
            "Epoch 1/10\n",
            "2/2 [==============================] - 3s 578ms/step - loss: 0.6937 - acc: 0.4688 - val_loss: 0.6916 - val_acc: 0.6250\n",
            "Epoch 2/10\n",
            "2/2 [==============================] - 0s 99ms/step - loss: 0.6880 - acc: 0.8062 - val_loss: 0.6923 - val_acc: 0.6000\n",
            "Epoch 3/10\n",
            "2/2 [==============================] - 0s 90ms/step - loss: 0.6817 - acc: 0.8813 - val_loss: 0.6940 - val_acc: 0.4250\n",
            "Epoch 4/10\n",
            "2/2 [==============================] - 0s 90ms/step - loss: 0.6726 - acc: 0.8750 - val_loss: 0.7002 - val_acc: 0.4000\n",
            "Epoch 5/10\n",
            "2/2 [==============================] - 0s 98ms/step - loss: 0.6556 - acc: 0.7750 - val_loss: 0.7269 - val_acc: 0.3500\n",
            "Epoch 6/10\n",
            "2/2 [==============================] - 0s 90ms/step - loss: 0.6086 - acc: 0.5750 - val_loss: 1.4139 - val_acc: 0.3500\n",
            "Epoch 7/10\n",
            "2/2 [==============================] - 0s 86ms/step - loss: 0.8510 - acc: 0.6062 - val_loss: 0.6940 - val_acc: 0.4250\n",
            "Epoch 8/10\n",
            "2/2 [==============================] - 0s 85ms/step - loss: 0.5111 - acc: 0.9375 - val_loss: 0.7178 - val_acc: 0.4250\n",
            "Epoch 9/10\n",
            "2/2 [==============================] - 0s 76ms/step - loss: 0.4302 - acc: 0.9375 - val_loss: 0.9707 - val_acc: 0.3500\n",
            "Epoch 10/10\n",
            "2/2 [==============================] - 0s 77ms/step - loss: 0.3999 - acc: 0.8938 - val_loss: 0.8209 - val_acc: 0.4750\n"
          ]
        }
      ]
    },
    {
      "cell_type": "markdown",
      "source": [
        "Plot the LSTM model's performance over time:\n",
        "\n"
      ],
      "metadata": {
        "id": "ERd2BaRgAhZU"
      }
    },
    {
      "cell_type": "code",
      "source": [
        "# Plot the results\n",
        "import matplotlib.pyplot as plt\n",
        "\n",
        "acc = history.history['acc']\n",
        "val_acc = history.history['val_acc']\n",
        "loss = history.history['loss']\n",
        "val_loss = history.history['val_loss']\n",
        "\n",
        "epochs = range(1, len(acc) + 1)\n",
        "\n",
        "plt.plot(epochs, acc, 'bo', label='Training acc')\n",
        "plt.plot(epochs, val_acc, 'b', label='Validation acc')\n",
        "plt.title('Training and validation accuracy')\n",
        "plt.legend()\n",
        "\n",
        "plt.figure()\n",
        "\n",
        "plt.plot(epochs, loss, 'bo', label='Training loss')\n",
        "plt.plot(epochs, val_loss, 'b', label='Validation loss')\n",
        "plt.title('Training and validation loss')\n",
        "plt.legend()\n",
        "\n",
        "plt.show()"
      ],
      "metadata": {
        "colab": {
          "base_uri": "https://localhost:8080/",
          "height": 545
        },
        "id": "h-VNn4TrAcKZ",
        "outputId": "ae6d3cef-c5f5-4d3f-f404-c6b034b9cc0b"
      },
      "execution_count": 18,
      "outputs": [
        {
          "output_type": "display_data",
          "data": {
            "text/plain": [
              "<Figure size 432x288 with 1 Axes>"
            ],
            "image/png": "[encoded data removed]"
          },
          "metadata": {
            "needs_background": "light"
          }
        },
        {
          "output_type": "display_data",
          "data": {
            "text/plain": [
              "<Figure size 432x288 with 1 Axes>"
            ],
            "image/png": "[encoded data removed]"
          },
          "metadata": {
            "needs_background": "light"
          }
        }
      ]
    },
    {
      "cell_type": "markdown",
      "source": [
        "Evaluate the LSTM model:"
      ],
      "metadata": {
        "id": "Ljtz994fAojM"
      }
    },
    {
      "cell_type": "code",
      "source": [
        "# Evaluate the model on the test set\n",
        "eval = model.evaluate(x_test, y_test)\n",
        "print(f\"Model Loss:     {eval[0]:.3f}\")\n",
        "print(f\"Model Accuracy: {eval[1]*100:.1f}%\")"
      ],
      "metadata": {
        "colab": {
          "base_uri": "https://localhost:8080/",
          "height": 0
        },
        "id": "GWIxH317An5J",
        "outputId": "490e4797-58b9-46ea-846a-39d344a52a88"
      },
      "execution_count": 19,
      "outputs": [
        {
          "output_type": "stream",
          "name": "stdout",
          "text": [
            "782/782 [==============================] - 10s 12ms/step - loss: 0.7080 - acc: 0.6001\n",
            "Model Loss:     0.708\n",
            "Model Accuracy: 60.0%\n"
          ]
        }
      ]
    },
    {
      "cell_type": "markdown",
      "source": [
        "#### 10.4\n",
        "Using listing 6.46 in *Deep Learning with Python* as a guide, fit the same data with a simple 1D convnet. Produce the model performance metrics and training and validation accuracy curves within the Jupyter notebook."
      ],
      "metadata": {
        "id": "bTnpVEf5BR2R"
      }
    },
    {
      "cell_type": "markdown",
      "source": [
        "Example 1D convnet for the IMDB dataset"
      ],
      "metadata": {
        "id": "3uOVyCAReUA0"
      }
    },
    {
      "cell_type": "code",
      "source": [
        "# Train and evaluate a simple 1D convnet on the IMDB data\n",
        "from keras.models import Sequential\n",
        "from keras import layers\n",
        "from tensorflow.keras.optimizers import RMSprop\n",
        "\n",
        "max_len = 100 # set to match dimensions\n",
        "\n",
        "model = Sequential()\n",
        "model.add(layers.Embedding(max_features, 128, input_length=max_len))\n",
        "model.add(layers.Conv1D(32, 7, activation='relu'))\n",
        "model.add(layers.MaxPooling1D(5))\n",
        "model.add(layers.Conv1D(32, 7, activation='relu'))\n",
        "model.add(layers.GlobalMaxPooling1D())\n",
        "model.add(layers.Dense(1))\n",
        "\n",
        "model.summary()\n",
        "\n",
        "model.compile(optimizer=RMSprop(lr=1e-4),\n",
        "              loss='binary_crossentropy',\n",
        "              metrics=['acc'])\n",
        "history = model.fit(x_train, y_train,\n",
        "                    epochs=10,\n",
        "                    batch_size=128,\n",
        "                    validation_split=0.2)"
      ],
      "metadata": {
        "id": "GfU3oXVFBSZw",
        "colab": {
          "base_uri": "https://localhost:8080/",
          "height": 0
        },
        "outputId": "b25397ff-3501-40b8-8cf5-c533a3218310"
      },
      "execution_count": 20,
      "outputs": [
        {
          "output_type": "stream",
          "name": "stdout",
          "text": [
            "Model: \"sequential_2\"\n",
            "_________________________________________________________________\n",
            " Layer (type)                Output Shape              Param #   \n",
            "=================================================================\n",
            " embedding_2 (Embedding)     (None, 100, 128)          1280000   \n",
            "                                                                 \n",
            " conv1d (Conv1D)             (None, 94, 32)            28704     \n",
            "                                                                 \n",
            " max_pooling1d (MaxPooling1D  (None, 18, 32)           0         \n",
            " )                                                               \n",
            "                                                                 \n",
            " conv1d_1 (Conv1D)           (None, 12, 32)            7200      \n",
            "                                                                 \n",
            " global_max_pooling1d (Globa  (None, 32)               0         \n",
            " lMaxPooling1D)                                                  \n",
            "                                                                 \n",
            " dense_3 (Dense)             (None, 1)                 33        \n",
            "                                                                 \n",
            "=================================================================\n",
            "Total params: 1,315,937\n",
            "Trainable params: 1,315,937\n",
            "Non-trainable params: 0\n",
            "_________________________________________________________________\n",
            "Epoch 1/10\n"
          ]
        },
        {
          "output_type": "stream",
          "name": "stderr",
          "text": [
            "/usr/local/lib/python3.7/dist-packages/keras/optimizer_v2/rmsprop.py:130: UserWarning: The `lr` argument is deprecated, use `learning_rate` instead.\n",
            "  super(RMSprop, self).__init__(name, **kwargs)\n"
          ]
        },
        {
          "output_type": "stream",
          "name": "stdout",
          "text": [
            "2/2 [==============================] - 1s 231ms/step - loss: 1.3499 - acc: 0.5000 - val_loss: 1.4175 - val_acc: 0.3500\n",
            "Epoch 2/10\n",
            "2/2 [==============================] - 0s 60ms/step - loss: 1.0548 - acc: 0.5000 - val_loss: 1.3353 - val_acc: 0.3500\n",
            "Epoch 3/10\n",
            "2/2 [==============================] - 0s 70ms/step - loss: 0.9701 - acc: 0.5000 - val_loss: 1.2834 - val_acc: 0.3500\n",
            "Epoch 4/10\n",
            "2/2 [==============================] - 0s 63ms/step - loss: 0.9160 - acc: 0.5000 - val_loss: 1.2311 - val_acc: 0.3500\n",
            "Epoch 5/10\n",
            "2/2 [==============================] - 0s 58ms/step - loss: 0.8687 - acc: 0.5000 - val_loss: 1.1958 - val_acc: 0.3500\n",
            "Epoch 6/10\n",
            "2/2 [==============================] - 0s 60ms/step - loss: 0.8345 - acc: 0.5000 - val_loss: 1.1621 - val_acc: 0.3500\n",
            "Epoch 7/10\n",
            "2/2 [==============================] - 0s 62ms/step - loss: 0.8037 - acc: 0.5000 - val_loss: 1.1321 - val_acc: 0.3500\n",
            "Epoch 8/10\n",
            "2/2 [==============================] - 0s 80ms/step - loss: 0.7764 - acc: 0.5000 - val_loss: 1.1057 - val_acc: 0.3500\n",
            "Epoch 9/10\n",
            "2/2 [==============================] - 0s 77ms/step - loss: 0.7524 - acc: 0.5000 - val_loss: 1.0768 - val_acc: 0.3500\n",
            "Epoch 10/10\n",
            "2/2 [==============================] - 0s 74ms/step - loss: 0.7286 - acc: 0.5000 - val_loss: 1.0550 - val_acc: 0.3500\n"
          ]
        }
      ]
    },
    {
      "cell_type": "markdown",
      "source": [
        "Plot the 1D convnet model's performance over time:"
      ],
      "metadata": {
        "id": "xxYM4NiOfcUD"
      }
    },
    {
      "cell_type": "code",
      "source": [
        "# Plot the results\n",
        "import matplotlib.pyplot as plt\n",
        "\n",
        "acc = history.history['acc']\n",
        "val_acc = history.history['val_acc']\n",
        "loss = history.history['loss']\n",
        "val_loss = history.history['val_loss']\n",
        "\n",
        "epochs = range(1, len(acc) + 1)\n",
        "\n",
        "plt.plot(epochs, acc, 'bo', label='Training acc')\n",
        "plt.plot(epochs, val_acc, 'b', label='Validation acc')\n",
        "plt.title('Training and validation accuracy')\n",
        "plt.legend()\n",
        "\n",
        "plt.figure()\n",
        "\n",
        "plt.plot(epochs, loss, 'bo', label='Training loss')\n",
        "plt.plot(epochs, val_loss, 'b', label='Validation loss')\n",
        "plt.title('Training and validation loss')\n",
        "plt.legend()\n",
        "\n",
        "plt.show()"
      ],
      "metadata": {
        "colab": {
          "base_uri": "https://localhost:8080/",
          "height": 545
        },
        "id": "3KHh37MseX-G",
        "outputId": "bba5a62d-0f96-4d6e-8c69-a434cbb08353"
      },
      "execution_count": 21,
      "outputs": [
        {
          "output_type": "display_data",
          "data": {
            "text/plain": [
              "<Figure size 432x288 with 1 Axes>"
            ],
            "image/png": "[encoded data removed]"
          },
          "metadata": {
            "needs_background": "light"
          }
        },
        {
          "output_type": "display_data",
          "data": {
            "text/plain": [
              "<Figure size 432x288 with 1 Axes>"
            ],
            "image/png": "[encoded data removed]"
          },
          "metadata": {
            "needs_background": "light"
          }
        }
      ]
    },
    {
      "cell_type": "markdown",
      "source": [
        "Evaluate 1D convnet model:"
      ],
      "metadata": {
        "id": "RkBLd9lWfQ6r"
      }
    },
    {
      "cell_type": "code",
      "source": [
        "# Evaluate the model on the test set\n",
        "eval = model.evaluate(x_test, y_test)\n",
        "print(f\"Model Loss:     {eval[0]:.3f}\")\n",
        "print(f\"Model Accuracy: {eval[1]*100:.1f}%\")"
      ],
      "metadata": {
        "colab": {
          "base_uri": "https://localhost:8080/",
          "height": 0
        },
        "id": "MeSbdCQUecii",
        "outputId": "7a76e267-62a6-4251-c221-5de611942d54"
      },
      "execution_count": 22,
      "outputs": [
        {
          "output_type": "stream",
          "name": "stdout",
          "text": [
            "782/782 [==============================] - 6s 8ms/step - loss: 0.8783 - acc: 0.5000\n",
            "Model Loss:     0.878\n",
            "Model Accuracy: 50.0%\n"
          ]
        }
      ]
    },
    {
      "cell_type": "code",
      "source": [
        ""
      ],
      "metadata": {
        "id": "ZBvGA9kNgS3A"
      },
      "execution_count": 22,
      "outputs": []
    }
  ]
}